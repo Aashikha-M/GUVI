{
  "nbformat": 4,
  "nbformat_minor": 0,
  "metadata": {
    "colab": {
      "name": "GUVI CHALLENGES.ipynb",
      "provenance": [],
      "collapsed_sections": []
    },
    "kernelspec": {
      "name": "python3",
      "display_name": "Python 3"
    }
  },
  "cells": [
    {
      "cell_type": "markdown",
      "metadata": {
        "id": "ZO-7lDo6nPx_"
      },
      "source": [
        "TO REMOVE DUPLICATE ELEMENTS"
      ]
    },
    {
      "cell_type": "code",
      "metadata": {
        "id": "_LamLRk5onT6",
        "colab": {
          "base_uri": "https://localhost:8080/",
          "height": 51
        },
        "outputId": "b8687c87-0eb3-4574-d4c1-30717f919df8"
      },
      "source": [
        "n=list(map(str,input().split()))\n",
        "#for i in n:\n",
        "n1=set(n)\n",
        "print(*n1)"
      ],
      "execution_count": null,
      "outputs": [
        {
          "output_type": "stream",
          "text": [
            "a a a s s d f g\n",
            "f a g d s\n"
          ],
          "name": "stdout"
        }
      ]
    },
    {
      "cell_type": "markdown",
      "metadata": {
        "id": "v2Ssu16ey1Rg"
      },
      "source": [
        "MAZE PROBLEM ,PUZZLE SOLVING"
      ]
    },
    {
      "cell_type": "code",
      "metadata": {
        "id": "e0TAFhUttlQZ",
        "colab": {
          "base_uri": "https://localhost:8080/",
          "height": 153
        },
        "outputId": "8ee9a397-d2a3-45c4-e81e-26495e402532"
      },
      "source": [
        "import queue\n",
        "\n",
        "def createeMaze():\n",
        "    maze = []\n",
        "    maze.append([\"#\",\"O\",\"#\",\"#\",\"#\",\"#\",\"#\"])\n",
        "    maze.append([\"#\",\" \",\"#\",\" \",\" \",\" \",\"#\"])\n",
        "    maze.append([\"#\",\" \",\"#\",\" \",\"#\",\"#\",\"#\"])\n",
        "    maze.append([\"#\",\" \",\"#\",\" \",\" \",\" \",\"#\"])\n",
        "    maze.append([\"#\",\" \",\"#\",\"#\",\" \",\"#\",\"#\"])\n",
        "    maze.append([\"#\",\" \",\" \",\" \",\" \",\" \",\"#\"])\n",
        "    maze.append([\"#\",\"#\",\"#\",\"#\",\"#\",\"X\",\"#\"])\n",
        "    \n",
        "    return maze\n",
        "\n",
        "\n",
        "def printMaze(maze, path=\"\"):\n",
        "    for x, pos in enumerate(maze[0]):\n",
        "        if pos == \"O\":\n",
        "            start = x\n",
        "\n",
        "    i = start\n",
        "    j = 0\n",
        "    pos = set()\n",
        "    for move in path:\n",
        "        if move == \"L\":\n",
        "            i -= 1\n",
        "\n",
        "        elif move == \"R\":\n",
        "            i += 1\n",
        "\n",
        "        elif move == \"U\":\n",
        "            j -= 1\n",
        "\n",
        "        elif move == \"D\":\n",
        "            j += 1\n",
        "        pos.add((j, i))\n",
        "    \n",
        "    for j, row in enumerate(maze):\n",
        "        for i, col in enumerate(row):\n",
        "            if (j, i) in pos:\n",
        "                print(\"1 \", end=\"\")\n",
        "            else:\n",
        "                print(col + \" \", end=\"\")\n",
        "        print()\n",
        "        \n",
        "\n",
        "\n",
        "def valid(maze, moves):\n",
        "    for x, pos in enumerate(maze[0]):\n",
        "        if pos == \"O\":\n",
        "            start = x\n",
        "\n",
        "    i = start\n",
        "    j = 0\n",
        "    for move in moves:\n",
        "        if move == \"L\":\n",
        "            i -= 1\n",
        "\n",
        "        elif move == \"R\":\n",
        "            i += 1\n",
        "\n",
        "        elif move == \"U\":\n",
        "            j -= 1\n",
        "\n",
        "        elif move == \"D\":\n",
        "            j += 1\n",
        "\n",
        "        if not(0 <= i < len(maze[0]) and 0 <= j < len(maze)):\n",
        "            return False\n",
        "        elif (maze[j][i] == \"#\"):\n",
        "            return False\n",
        "\n",
        "    return True\n",
        "\n",
        "\n",
        "def findEnd(maze, moves):\n",
        "    for x, pos in enumerate(maze[0]):\n",
        "        if pos == \"O\":\n",
        "            start = x\n",
        "\n",
        "    i = start\n",
        "    j = 0\n",
        "    for move in moves:\n",
        "        if move == \"L\":\n",
        "            i -= 1\n",
        "\n",
        "        elif move == \"R\":\n",
        "            i += 1\n",
        "\n",
        "        elif move == \"U\":\n",
        "            j -= 1\n",
        "\n",
        "        elif move == \"D\":\n",
        "            j += 1\n",
        "\n",
        "    if maze[j][i] == \"X\":\n",
        "        print(\"Found: \" + moves)\n",
        "        printMaze(maze, moves)\n",
        "        return True\n",
        "\n",
        "    return False\n",
        "\n",
        "sam_k = queue.Queue()\n",
        "sam_k.put(\"\")\n",
        "add = \"\"\n",
        "maze  = createeMaze()\n",
        "g = [\"L\", \"R\", \"U\", \"D\"]\n",
        "\n",
        "while not findEnd(maze, add): \n",
        "    add = sam_k.get()\n",
        "    for j in g:\n",
        "        put = add + j\n",
        "        if valid(maze, put):\n",
        "            sam_k.put(put)"
      ],
      "execution_count": null,
      "outputs": [
        {
          "output_type": "stream",
          "text": [
            "Found: DDDDDRRRRD\n",
            "# O # # # # # \n",
            "# 1 #       # \n",
            "# 1 #   # # # \n",
            "# 1 #       # \n",
            "# 1 # #   # # \n",
            "# 1 1 1 1 1 # \n",
            "# # # # # 1 # \n"
          ],
          "name": "stdout"
        }
      ]
    },
    {
      "cell_type": "markdown",
      "metadata": {
        "id": "F61uVtmoHecT"
      },
      "source": [
        "SUDOKU"
      ]
    },
    {
      "cell_type": "code",
      "metadata": {
        "id": "hj2KxWmp2pde",
        "colab": {
          "base_uri": "https://localhost:8080/",
          "height": 408
        },
        "outputId": "9884a3ac-8820-4393-c0e4-02e3e7df8665"
      },
      "source": [
        "def create_board():\n",
        "    board = []\n",
        "    board.append([3,3,0,0,7,0,0,0,0])\n",
        "    board.append([9,0,2,1,9,5,0,0,0])\n",
        "    board.append([0,9,8,0,1,0,0,6,0])\n",
        "    board.append([8,0,2,0,6,2,0,0,3])\n",
        "    board.append([4,0,0,3,0,3,2,2,3])\n",
        "    board.append([7,0,1,2,2,1,2,3,6])\n",
        "    board.append([0,6,0,5,0,0,2,6,0])\n",
        "    board.append([0,0,3,4,1,9,0,3,5])\n",
        "    board.append([1,1,2,3,2,0,2,7,9])\n",
        "    \n",
        "    return board\n",
        "\n",
        "def print_board(sam_k):\n",
        "    for i in range(len(sam_k)):\n",
        "        if i%3==0 and i!=0:\n",
        "            print(\"-----------------------\")\n",
        "        for j in range(9):\n",
        "            if j%3 == 0 and j!=0:\n",
        "                print(\" | \", end=\"\")\n",
        "                \n",
        "            if j==8:\n",
        "                print(sam_k[i][j])\n",
        "            else:\n",
        "                print(str(sam_k[i][j]) + \" \", end=\"\")\n",
        "                \n",
        "def find_empty(sam_k):\n",
        "    for i in range(9):\n",
        "        for j in range(9):\n",
        "            if sam_k[i][j] == 0:\n",
        "                return (i,j)\n",
        "            \n",
        "    return None\n",
        "\n",
        "def solve(sam_k):\n",
        "    find = find_empty(sam_k)\n",
        "    if not find:\n",
        "        return True\n",
        "    else:\n",
        "        row, col = find\n",
        "        \n",
        "    for i in range(1,10):\n",
        "        if valid(sam_k, i, (row,col)):\n",
        "            sam_k[row][col] = i\n",
        "            \n",
        "            if solve(sam_k):\n",
        "                return True\n",
        "            \n",
        "            sam_k[row][col] = 0\n",
        "    return False\n",
        "\n",
        "def valid(sam_k, num, pos):\n",
        "    for i in range(9):\n",
        "        if sam_k[pos[0]][i] == num and pos[1]!= i:\n",
        "            return False\n",
        "    for i in range(9):\n",
        "        if sam_k[i][pos[1]] == num and pos[0]!=i:\n",
        "            return False\n",
        "        \n",
        "    sam_k_x = pos[1]//3\n",
        "    sam_k_y = pos[0]//3\n",
        "    \n",
        "    for i in range(sam_k_y*3, sam_k_y*3+3):\n",
        "        for j in range(sam_k_x*3, sam_k_x*3 + 3):\n",
        "            if sam_k[i][j] == num and (i,j) != pos:\n",
        "                return False\n",
        "    return True\n",
        "\n",
        "board = create_board()\n",
        "print_board(board)\n",
        "solve(board)\n",
        "print(\"_______________________________\")\n",
        "print_board(board)"
      ],
      "execution_count": null,
      "outputs": [
        {
          "output_type": "stream",
          "text": [
            "3 3 0  | 0 7 0  | 0 0 0\n",
            "9 0 2  | 1 9 5  | 0 0 0\n",
            "0 9 8  | 0 1 0  | 0 6 0\n",
            "-----------------------\n",
            "8 0 2  | 0 6 2  | 0 0 3\n",
            "4 0 0  | 3 0 3  | 2 2 3\n",
            "7 0 1  | 2 2 1  | 2 3 6\n",
            "-----------------------\n",
            "0 6 0  | 5 0 0  | 2 6 0\n",
            "0 0 3  | 4 1 9  | 0 3 5\n",
            "1 1 2  | 3 2 0  | 2 7 9\n",
            "_______________________________\n",
            "3 3 0  | 0 7 0  | 0 0 0\n",
            "9 0 2  | 1 9 5  | 0 0 0\n",
            "0 9 8  | 0 1 0  | 0 6 0\n",
            "-----------------------\n",
            "8 0 2  | 0 6 2  | 0 0 3\n",
            "4 0 0  | 3 0 3  | 2 2 3\n",
            "7 0 1  | 2 2 1  | 2 3 6\n",
            "-----------------------\n",
            "0 6 0  | 5 0 0  | 2 6 0\n",
            "0 0 3  | 4 1 9  | 0 3 5\n",
            "1 1 2  | 3 2 0  | 2 7 9\n"
          ],
          "name": "stdout"
        }
      ]
    },
    {
      "cell_type": "markdown",
      "metadata": {
        "id": "O2P6DTVzObHb"
      },
      "source": [
        "Question 3: Thookku Durai is a farmer, who grows sugarcane. He has a measuring scale to measure the\n",
        "sweetness of the sugarcane. He will not sell any sugarcane whose sweetness is less than 1. The\n",
        "sweetness of the sugarcane is measured by: Sweetness = (Cosec(90-A))/(Cosec(A))\n",
        "Where A is the angle at which the sugarcane was inclined when it grew.\n",
        "How many sugarcanes can he sell almost?\n",
        "Input:\n",
        "10\n",
        "120 149 122 45 0 90 22 33 49 1\n",
        "Output:\n",
        "1\n",
        "Explanation:\n",
        "The first line of input is N – Number of sugarcanes grown\n",
        "N spaces values of A – Angle of inclination while each sugarcane grew\n",
        "And one single integer output denoting the maximum number of sugarcanes that can be sold.\n"
      ]
    },
    {
      "cell_type": "code",
      "metadata": {
        "id": "5MN-eQc_J-6C",
        "colab": {
          "base_uri": "https://localhost:8080/",
          "height": 68
        },
        "outputId": "eb2f55c2-a10d-43df-b2a3-9e2c5dc449a2"
      },
      "source": [
        "limit=int(input())\n",
        "sugarcane=list(map(int,input().split()))[:limit]\n",
        "count=0\n",
        "for i in range(0,limit):\n",
        "  if sugarcane[i]==45:\n",
        "    count=count+1\n",
        "print(count)\n",
        "\n",
        "\n"
      ],
      "execution_count": null,
      "outputs": [
        {
          "output_type": "stream",
          "text": [
            "5\n",
            "45 25 87 45 45\n",
            "3\n"
          ],
          "name": "stdout"
        }
      ]
    },
    {
      "cell_type": "markdown",
      "metadata": {
        "id": "QhZf-j9pvy1Q"
      },
      "source": [
        "TO CHECK A NO IS FIBONACCI OR NOT WITHOUT GENERATING FIBONACCI SEQUENCE"
      ]
    },
    {
      "cell_type": "markdown",
      "metadata": {
        "id": "y_P-C7TPSNX4"
      },
      "source": [
        "Questoin 4: Sivasamy is a farmer living in the southern part of Tamilnadu. He has ‘N’ bulls on his farm,\n",
        "which he uses to plough his fields. Hence “Mattu Pongal” is a special occasion to celebrate the hard\n",
        "work of all those bulls. So, for every Mattu Pongal, the bulls will be decorated, the horns of the bull are\n",
        "painted. Each bull is painted with different colors so it looks visually appealing. But seeing the costeffectiveness part, it is difficult to buy ‘N’ different colors of paints. So Sivasamy usually mixes two or\n",
        "more colors to make a newer color. Paintbox costs 225 rs each. So what will be the minimum\n",
        "expenditure of Sivasamy to color all his ‘N’ bulls with different colors?\n",
        "Input:\n",
        "25\n",
        "Output:\n",
        "1125\n",
        "Explanation:\n",
        "One single integer input N – Number of bulls\n",
        "One single integer output denoting the minimum expenditure of Sivasamy."
      ]
    },
    {
      "cell_type": "code",
      "metadata": {
        "id": "vEbfSgeAR0NR",
        "colab": {
          "base_uri": "https://localhost:8080/",
          "height": 51
        },
        "outputId": "261f0736-832f-4c41-8897-f882277aeccd"
      },
      "source": [
        "n=int(input())\n",
        "print(n.bit_length()*225)"
      ],
      "execution_count": null,
      "outputs": [
        {
          "output_type": "stream",
          "text": [
            "60\n",
            "1350\n"
          ],
          "name": "stdout"
        }
      ]
    },
    {
      "cell_type": "markdown",
      "metadata": {
        "id": "OmwTQXEOSSSk"
      },
      "source": [
        "CREATION OF THREADS"
      ]
    },
    {
      "cell_type": "code",
      "metadata": {
        "id": "f9iebmVlO21J",
        "colab": {
          "base_uri": "https://localhost:8080/",
          "height": 986
        },
        "outputId": "155615ec-56fc-49b1-d52b-22abb84430e2"
      },
      "source": [
        "import threading\n",
        "import time\n",
        "\n",
        "class myThread(threading.Thread):\n",
        "    def __init__(self,threadID,name,counter):\n",
        "        threading.Thread.__init__(self)\n",
        "        self.threadID = threadID\n",
        "        self.name = name\n",
        "        self.counter = counter\n",
        "        \n",
        "    def run(self):\n",
        "        print(\"Starting \" + self.name + \"\\n\")\n",
        "        print_time(self.name,self.counter, 5)\n",
        "        print(\"Exiting \" + self.name + \"\\n\")\n",
        "def print_time(threadName, delay, counter):\n",
        "    while counter:\n",
        "        time.sleep(delay)\n",
        "        print(\"%s: %s %s\" %(threadName, time.ctime(time.time()),counter) + \"\\n\")\n",
        "        counter-=1\n",
        "thread1 = myThread(1, \"Thread-1\", 1)\n",
        "thread2 = myThread(2, \"Thread-2\", 1.5)\n",
        "thread3 = myThread(3, \"Thread-3\", 0.2)\n",
        "thread4=myThread(4,\"Thread-4\",0.3)\n",
        "\n",
        "thread1.start()\n",
        "thread2.start()\n",
        "thread3.start()\n",
        "thread4.start()\n",
        "thread1.join()\n",
        "thread2.join()\n",
        "thread3.join()\n",
        "thread4.join()\n",
        "print(\"Exit----X\")"
      ],
      "execution_count": null,
      "outputs": [
        {
          "output_type": "stream",
          "text": [
            "Starting Thread-1\n",
            "\n",
            "Starting Thread-2\n",
            "\n",
            "Starting Thread-3\n",
            "\n",
            "Starting Thread-4\n",
            "\n",
            "Thread-3: Fri Jan 17 07:05:51 2020 5\n",
            "\n",
            "Thread-4: Fri Jan 17 07:05:51 2020 5\n",
            "\n",
            "Thread-3: Fri Jan 17 07:05:51 2020 4\n",
            "\n",
            "Thread-3: Fri Jan 17 07:05:51 2020 3\n",
            "Thread-4: Fri Jan 17 07:05:51 2020 4\n",
            "\n",
            "\n",
            "Thread-3: Fri Jan 17 07:05:52 2020 2\n",
            "\n",
            "Thread-4: Fri Jan 17 07:05:52 2020 3\n",
            "\n",
            "Thread-1: Fri Jan 17 07:05:52 2020 5\n",
            "\n",
            "Thread-3: Fri Jan 17 07:05:52 2020 1\n",
            "\n",
            "Exiting Thread-3\n",
            "\n",
            "Thread-4: Fri Jan 17 07:05:52 2020 2\n",
            "\n",
            "Thread-2: Fri Jan 17 07:05:52 2020 5\n",
            "\n",
            "Thread-4: Fri Jan 17 07:05:52 2020 1\n",
            "\n",
            "Exiting Thread-4\n",
            "\n",
            "Thread-1: Fri Jan 17 07:05:53 2020 4\n",
            "\n",
            "Thread-1: Fri Jan 17 07:05:54 2020 3\n",
            "\n",
            "Thread-2: Fri Jan 17 07:05:54 2020 4\n",
            "\n",
            "Thread-1: Fri Jan 17 07:05:55 2020 2\n",
            "\n",
            "Thread-2: Fri Jan 17 07:05:55 2020 3\n",
            "\n",
            "Thread-1: Fri Jan 17 07:05:56 2020 1\n",
            "\n",
            "Exiting Thread-1\n",
            "\n",
            "Thread-2: Fri Jan 17 07:05:57 2020 2\n",
            "\n",
            "Thread-2: Fri Jan 17 07:05:58 2020 1\n",
            "\n",
            "Exiting Thread-2\n",
            "\n",
            "Exit----X\n"
          ],
          "name": "stdout"
        }
      ]
    },
    {
      "cell_type": "markdown",
      "metadata": {
        "id": "FWTbnj5BajIU"
      },
      "source": [
        "****** TO FIND THE FACTORS AND FIND WHICH ELEMENT IS USED TO FIND AN ELEMENT OR FIND TH E FRACTIONS"
      ]
    },
    {
      "cell_type": "code",
      "metadata": {
        "id": "-GKzUxhtUJh5",
        "colab": {
          "base_uri": "https://localhost:8080/",
          "height": 51
        },
        "outputId": "b82883f7-2d78-4fc8-c26a-8a1ab7d65905"
      },
      "source": [
        "from math import sqrt as sq,gcd as g\n",
        "def min_fact(n):\n",
        "  k=int(sq(n))+1\n",
        "  for i in range(2,k):\n",
        "    if n%i==0:\n",
        "      return i\n",
        "  return n\n",
        "a,b=map(int,input().split())\n",
        "m=min_fact(a)\n",
        "a//=m\n",
        "x=g(a,b)\n",
        "d=b//x\n",
        "n=a//x\n",
        "print(n,'/',d,end='')"
      ],
      "execution_count": null,
      "outputs": [
        {
          "output_type": "stream",
          "text": [
            "16 57\n",
            "8 / 57"
          ],
          "name": "stdout"
        }
      ]
    },
    {
      "cell_type": "code",
      "metadata": {
        "id": "TVKg8NQoeDKY"
      },
      "source": [
        "l=list(map(int,input().split()))\n",
        "i=0\n",
        "s,x=[],[]\n",
        "while i<len(l):\n",
        "  if l[i]>0:\n",
        "    s.append(l[i])\n",
        "  else:\n",
        "    s=[]\n",
        "    x.append(sum(s))\n",
        "    i=i+1\n",
        "sum=0\n",
        "for i in range(len(x)):\n",
        "  if x[i]>sum:\n",
        "    s=x[i]\n",
        "    sum=s[i]\n",
        "print(s)\n",
        "#print(x)"
      ],
      "execution_count": null,
      "outputs": []
    },
    {
      "cell_type": "code",
      "metadata": {
        "id": "7ULr3tyIbaz6"
      },
      "source": [
        ""
      ],
      "execution_count": null,
      "outputs": []
    },
    {
      "cell_type": "markdown",
      "metadata": {
        "id": "KIN08vyuQdvY"
      },
      "source": [
        "LCS-THE COMMON STRINGS ARE PRINTED .REPATITION IS NOT ALLOWED"
      ]
    },
    {
      "cell_type": "code",
      "metadata": {
        "id": "ClUjEHeOPZvQ",
        "colab": {
          "base_uri": "https://localhost:8080/",
          "height": 34
        },
        "outputId": "1b0316b2-727e-4bb4-bf03-6d34793c6fb7"
      },
      "source": [
        "def lcs(X, Y, m, n):\n",
        "    L = [[0 for x in range(n+1)] for x in range(m+1)]\n",
        "    for i in range(m+1):\n",
        "        for j in range(n+1):\n",
        "            if i == 0 or j == 0:\n",
        "                L[i][j] = 0\n",
        "            elif X[i-1] == Y[j-1]:\n",
        "                L[i][j] = L[i-1][j-1] + 1\n",
        "            else:\n",
        "                L[i][j] = max(L[i-1][j], L[i][j-1])\n",
        "    index = L[m][n]\n",
        "    lcs = [\"\"] * (index+1)\n",
        "    lcs[index] = \"\"\n",
        "    i = m\n",
        "    j = n\n",
        "    while i > 0 and j > 0:\n",
        "        if X[i-1] == Y[j-1]:\n",
        "            lcs[index-1] = X[i-1]\n",
        "            i-=1\n",
        "            j-=1\n",
        "            index-=1\n",
        "        elif L[i-1][j] > L[i][j-1]:\n",
        "            i-=1\n",
        "        else:\n",
        "            j-=1\n",
        "    print(\"\".join(lcs))  \n",
        "X = \"abcdaf\"\n",
        "Y = \"acbcf\"\n",
        "m = len(X)\n",
        "n = len(Y)\n",
        "lcs(X, Y, m, n) "
      ],
      "execution_count": null,
      "outputs": [
        {
          "output_type": "stream",
          "text": [
            "abcf\n"
          ],
          "name": "stdout"
        }
      ]
    },
    {
      "cell_type": "markdown",
      "metadata": {
        "id": "0UiqZMe1aHIY"
      },
      "source": [
        "TO REMOVE ELEMENTS SO THAT THE LIST MAY BE IN MAXIMUM SORTED"
      ]
    },
    {
      "cell_type": "code",
      "metadata": {
        "id": "1GAR0rVgQlTc",
        "colab": {
          "base_uri": "https://localhost:8080/",
          "height": 51
        },
        "outputId": "effa52ee-6960-49fd-d375-26712f4574b3"
      },
      "source": [
        "n=list(map(int,input().split()))\n",
        "c=0\n",
        "s,a,k=[],[],[]\n",
        "for i in range(len(n)):\n",
        "  if c<n[i]:\n",
        "    s.append(n[i])\n",
        "    c=n[i]\n",
        "  a.append(s)\n",
        "k=max(a)\n",
        "print(*k)\n"
      ],
      "execution_count": null,
      "outputs": [
        {
          "output_type": "stream",
          "text": [
            "1 5 1 6 8 9\n",
            "1 5 6 8 9\n"
          ],
          "name": "stdout"
        }
      ]
    },
    {
      "cell_type": "code",
      "metadata": {
        "id": "0kpUHK0pcTW4",
        "colab": {
          "base_uri": "https://localhost:8080/",
          "height": 129
        },
        "outputId": "3b5bb351-0c18-4216-a09d-6138e9fa4895"
      },
      "source": [
        "n=list(map(str,input().split()))\n",
        "n.sort()\n",
        "for i in range(len(n):\n",
        "  for j in range(i):\n",
        "    s=s*(j+1)\n",
        "    if s<=a:\n",
        "      c.append(n[i])\n",
        "print(c)"
      ],
      "execution_count": null,
      "outputs": [
        {
          "output_type": "error",
          "ename": "SyntaxError",
          "evalue": "ignored",
          "traceback": [
            "\u001b[0;36m  File \u001b[0;32m\"<ipython-input-4-1eeb6c7e5917>\"\u001b[0;36m, line \u001b[0;32m3\u001b[0m\n\u001b[0;31m    for i in range(len(n):\u001b[0m\n\u001b[0m                         ^\u001b[0m\n\u001b[0;31mSyntaxError\u001b[0m\u001b[0;31m:\u001b[0m invalid syntax\n"
          ]
        }
      ]
    },
    {
      "cell_type": "markdown",
      "metadata": {
        "id": "h2QsvYyw2TUv"
      },
      "source": [
        "TO MULTIPLY A NUMBER"
      ]
    },
    {
      "cell_type": "code",
      "metadata": {
        "id": "RRIR8B5hxqx0",
        "colab": {
          "base_uri": "https://localhost:8080/",
          "height": 51
        },
        "outputId": "5d375f54-2460-42c8-d9f3-6d25fb07395a"
      },
      "source": [
        "a,b=map(int,input().split())\n",
        "sum=0\n",
        "while b!=0:\n",
        "  if b &1:\n",
        "    sum+=a\n",
        "  a<<=1\n",
        "  b>>=1\n",
        "print(\"Ans =\",sum)"
      ],
      "execution_count": null,
      "outputs": [
        {
          "output_type": "stream",
          "text": [
            "7 8\n",
            "Ans = 56\n"
          ],
          "name": "stdout"
        }
      ]
    },
    {
      "cell_type": "code",
      "metadata": {
        "id": "r7_RTGoL4FOc",
        "colab": {
          "base_uri": "https://localhost:8080/",
          "height": 221
        },
        "outputId": "e57afc16-69d3-4c6e-cdb8-36b5bd384717"
      },
      "source": [
        "n=int(input())\n",
        "m=int(input())\n",
        "b=n*m\n",
        "for i in range(n,m+1):\n",
        "  if b%i==0:\n",
        "    print(i) "
      ],
      "execution_count": null,
      "outputs": [
        {
          "output_type": "stream",
          "text": [
            "2\n",
            "30\n",
            "2\n",
            "3\n",
            "4\n",
            "5\n",
            "6\n",
            "10\n",
            "12\n",
            "15\n",
            "20\n",
            "30\n"
          ],
          "name": "stdout"
        }
      ]
    },
    {
      "cell_type": "code",
      "metadata": {
        "id": "gCJosCu-yrxq",
        "colab": {
          "base_uri": "https://localhost:8080/",
          "height": 231
        },
        "outputId": "963afeb4-8c1a-413d-f404-373942f3bbf5"
      },
      "source": [
        "n=list(input().split())\n",
        "k=n.copy()\n",
        "k=list(set(k))\n",
        "k.sort()\n",
        "mid=len(n)//2\n",
        "if len(n)%2==0:\n",
        "  l=n[:mid]\n",
        "else:\n",
        "  l=n[:mid+1]\n",
        "  if max(n)==n[mid]:\n",
        "    l[-1]=min(k)\n",
        "    l[-2]=k[k.index(l[-2])+1]\n",
        "    print(l)"
      ],
      "execution_count": null,
      "outputs": [
        {
          "output_type": "stream",
          "text": [
            "199\n"
          ],
          "name": "stdout"
        },
        {
          "output_type": "error",
          "ename": "IndexError",
          "evalue": "ignored",
          "traceback": [
            "\u001b[0;31m---------------------------------------------------------------------------\u001b[0m",
            "\u001b[0;31mIndexError\u001b[0m                                Traceback (most recent call last)",
            "\u001b[0;32m<ipython-input-25-e3fa01bdda5b>\u001b[0m in \u001b[0;36m<module>\u001b[0;34m()\u001b[0m\n\u001b[1;32m     10\u001b[0m   \u001b[0;32mif\u001b[0m \u001b[0mmax\u001b[0m\u001b[0;34m(\u001b[0m\u001b[0mn\u001b[0m\u001b[0;34m)\u001b[0m\u001b[0;34m==\u001b[0m\u001b[0mn\u001b[0m\u001b[0;34m[\u001b[0m\u001b[0mmid\u001b[0m\u001b[0;34m]\u001b[0m\u001b[0;34m:\u001b[0m\u001b[0;34m\u001b[0m\u001b[0;34m\u001b[0m\u001b[0m\n\u001b[1;32m     11\u001b[0m     \u001b[0ml\u001b[0m\u001b[0;34m[\u001b[0m\u001b[0;34m-\u001b[0m\u001b[0;36m1\u001b[0m\u001b[0;34m]\u001b[0m\u001b[0;34m=\u001b[0m\u001b[0mmin\u001b[0m\u001b[0;34m(\u001b[0m\u001b[0mk\u001b[0m\u001b[0;34m)\u001b[0m\u001b[0;34m\u001b[0m\u001b[0;34m\u001b[0m\u001b[0m\n\u001b[0;32m---> 12\u001b[0;31m     \u001b[0ml\u001b[0m\u001b[0;34m[\u001b[0m\u001b[0;34m-\u001b[0m\u001b[0;36m2\u001b[0m\u001b[0;34m]\u001b[0m\u001b[0;34m=\u001b[0m\u001b[0mk\u001b[0m\u001b[0;34m[\u001b[0m\u001b[0mk\u001b[0m\u001b[0;34m.\u001b[0m\u001b[0mindex\u001b[0m\u001b[0;34m(\u001b[0m\u001b[0ml\u001b[0m\u001b[0;34m[\u001b[0m\u001b[0;34m-\u001b[0m\u001b[0;36m2\u001b[0m\u001b[0;34m]\u001b[0m\u001b[0;34m)\u001b[0m\u001b[0;34m+\u001b[0m\u001b[0;36m1\u001b[0m\u001b[0;34m]\u001b[0m\u001b[0;34m\u001b[0m\u001b[0;34m\u001b[0m\u001b[0m\n\u001b[0m\u001b[1;32m     13\u001b[0m     \u001b[0mprint\u001b[0m\u001b[0;34m(\u001b[0m\u001b[0ml\u001b[0m\u001b[0;34m)\u001b[0m\u001b[0;34m\u001b[0m\u001b[0;34m\u001b[0m\u001b[0m\n",
            "\u001b[0;31mIndexError\u001b[0m: list index out of range"
          ]
        }
      ]
    },
    {
      "cell_type": "code",
      "metadata": {
        "id": "SZz1yiowTt0K",
        "colab": {
          "base_uri": "https://localhost:8080/",
          "height": 333
        },
        "outputId": "78c37d97-0e2a-4153-8482-76dd64b1f134"
      },
      "source": [
        "def ls(l):\n",
        "  ls=[0]\n",
        "  for i in range(l,len(l)):\n",
        "    c=0\n",
        "    for j in range(0,i):\n",
        "      if l[i]>l[j]:\n",
        "        c+=1\n",
        "    ls.append(c)\n",
        "  print(ls)\n",
        "  return max(ls)\n",
        "l=list(map(int,input().split(' ')))\n",
        "print(\"length:\",ls(l))"
      ],
      "execution_count": null,
      "outputs": [
        {
          "output_type": "stream",
          "text": [
            "1 8 5 6 2\n"
          ],
          "name": "stdout"
        },
        {
          "output_type": "error",
          "ename": "TypeError",
          "evalue": "ignored",
          "traceback": [
            "\u001b[0;31m---------------------------------------------------------------------------\u001b[0m",
            "\u001b[0;31mTypeError\u001b[0m                                 Traceback (most recent call last)",
            "\u001b[0;32m<ipython-input-45-8fe914571b4e>\u001b[0m in \u001b[0;36m<module>\u001b[0;34m()\u001b[0m\n\u001b[1;32m     10\u001b[0m   \u001b[0;32mreturn\u001b[0m \u001b[0mmax\u001b[0m\u001b[0;34m(\u001b[0m\u001b[0mls\u001b[0m\u001b[0;34m)\u001b[0m\u001b[0;34m\u001b[0m\u001b[0;34m\u001b[0m\u001b[0m\n\u001b[1;32m     11\u001b[0m \u001b[0ml\u001b[0m\u001b[0;34m=\u001b[0m\u001b[0mlist\u001b[0m\u001b[0;34m(\u001b[0m\u001b[0mmap\u001b[0m\u001b[0;34m(\u001b[0m\u001b[0mint\u001b[0m\u001b[0;34m,\u001b[0m\u001b[0minput\u001b[0m\u001b[0;34m(\u001b[0m\u001b[0;34m)\u001b[0m\u001b[0;34m.\u001b[0m\u001b[0msplit\u001b[0m\u001b[0;34m(\u001b[0m\u001b[0;34m' '\u001b[0m\u001b[0;34m)\u001b[0m\u001b[0;34m)\u001b[0m\u001b[0;34m)\u001b[0m\u001b[0;34m\u001b[0m\u001b[0;34m\u001b[0m\u001b[0m\n\u001b[0;32m---> 12\u001b[0;31m \u001b[0mprint\u001b[0m\u001b[0;34m(\u001b[0m\u001b[0;34m\"length:\"\u001b[0m\u001b[0;34m,\u001b[0m\u001b[0mls\u001b[0m\u001b[0;34m(\u001b[0m\u001b[0ml\u001b[0m\u001b[0;34m)\u001b[0m\u001b[0;34m)\u001b[0m\u001b[0;34m\u001b[0m\u001b[0;34m\u001b[0m\u001b[0m\n\u001b[0m",
            "\u001b[0;32m<ipython-input-45-8fe914571b4e>\u001b[0m in \u001b[0;36mls\u001b[0;34m(l)\u001b[0m\n\u001b[1;32m      1\u001b[0m \u001b[0;32mdef\u001b[0m \u001b[0mls\u001b[0m\u001b[0;34m(\u001b[0m\u001b[0ml\u001b[0m\u001b[0;34m)\u001b[0m\u001b[0;34m:\u001b[0m\u001b[0;34m\u001b[0m\u001b[0;34m\u001b[0m\u001b[0m\n\u001b[1;32m      2\u001b[0m   \u001b[0mls\u001b[0m\u001b[0;34m=\u001b[0m\u001b[0;34m[\u001b[0m\u001b[0;36m0\u001b[0m\u001b[0;34m]\u001b[0m\u001b[0;34m\u001b[0m\u001b[0;34m\u001b[0m\u001b[0m\n\u001b[0;32m----> 3\u001b[0;31m   \u001b[0;32mfor\u001b[0m \u001b[0mi\u001b[0m \u001b[0;32min\u001b[0m \u001b[0mrange\u001b[0m\u001b[0;34m(\u001b[0m\u001b[0ml\u001b[0m\u001b[0;34m,\u001b[0m\u001b[0mlen\u001b[0m\u001b[0;34m(\u001b[0m\u001b[0ml\u001b[0m\u001b[0;34m)\u001b[0m\u001b[0;34m)\u001b[0m\u001b[0;34m:\u001b[0m\u001b[0;34m\u001b[0m\u001b[0;34m\u001b[0m\u001b[0m\n\u001b[0m\u001b[1;32m      4\u001b[0m     \u001b[0mc\u001b[0m\u001b[0;34m=\u001b[0m\u001b[0;36m0\u001b[0m\u001b[0;34m\u001b[0m\u001b[0;34m\u001b[0m\u001b[0m\n\u001b[1;32m      5\u001b[0m     \u001b[0;32mfor\u001b[0m \u001b[0mj\u001b[0m \u001b[0;32min\u001b[0m \u001b[0mrange\u001b[0m\u001b[0;34m(\u001b[0m\u001b[0;36m0\u001b[0m\u001b[0;34m,\u001b[0m\u001b[0mi\u001b[0m\u001b[0;34m)\u001b[0m\u001b[0;34m:\u001b[0m\u001b[0;34m\u001b[0m\u001b[0;34m\u001b[0m\u001b[0m\n",
            "\u001b[0;31mTypeError\u001b[0m: 'list' object cannot be interpreted as an integer"
          ]
        }
      ]
    },
    {
      "cell_type": "code",
      "metadata": {
        "id": "IMq2owtKfxrA",
        "colab": {
          "base_uri": "https://localhost:8080/",
          "height": 51
        },
        "outputId": "b3c5614a-17c4-471a-dd64-3b41bab4c9dc"
      },
      "source": [
        "import math\n",
        "n=list(input())\n",
        "a,k=[],[]\n",
        "f=0\n",
        "m=n.copy()\n",
        "m.sort()\n",
        "l=len(n)\n",
        "s=l-1\n",
        "for i in range(l):\n",
        "  for j in range(l):\n",
        "    if n[i]==m[j]:\n",
        "      a.append(j+1)\n",
        "for i in range(l):\n",
        "  c=0\n",
        "  for j in range(i,l):\n",
        "    if a[i]>a[j]:\n",
        "      c+=1\n",
        "  k.append(c)\n",
        "for i in range(l):\n",
        "  f+=math.factorial(s)*k[i]\n",
        "  s-=1\n",
        "print(f+1)\n"
      ],
      "execution_count": null,
      "outputs": [
        {
          "output_type": "stream",
          "text": [
            "aashikha\n",
            "962\n"
          ],
          "name": "stdout"
        }
      ]
    },
    {
      "cell_type": "markdown",
      "metadata": {
        "id": "CzlWCm1_3AEx"
      },
      "source": [
        "AN UNSORTED ARRAY ,REMOVE AN ELEMENT AND MAKE IT AS A SORTED ARRAY"
      ]
    },
    {
      "cell_type": "code",
      "metadata": {
        "id": "8UXJG8kB3Kla",
        "colab": {
          "base_uri": "https://localhost:8080/",
          "height": 51
        },
        "outputId": "8b03fdfe-0696-403b-d0d0-9ecde9bfcc6c"
      },
      "source": [
        "l=list(map(int,input().split()))\n",
        "for i in range(len(l)):\n",
        "  for j in range(i+1,i):\n",
        "    if l[i]>l[j]:\n",
        "      a=l[i]\n",
        "      l[i]=l[j]\n",
        "      l[j]=a\n",
        "print(l)\n"
      ],
      "execution_count": null,
      "outputs": [
        {
          "output_type": "stream",
          "text": [
            "1 2 5 4 6\n",
            "[1, 2, 5, 4, 6]\n"
          ],
          "name": "stdout"
        }
      ]
    },
    {
      "cell_type": "markdown",
      "metadata": {
        "id": "6lR24ftrT0Js"
      },
      "source": [
        "TO FIND THE PASSWORD OF A CUSTOMER"
      ]
    },
    {
      "cell_type": "code",
      "metadata": {
        "id": "oXI-_AzlHMlC",
        "colab": {
          "base_uri": "https://localhost:8080/",
          "height": 51
        },
        "outputId": "41afa39d-686a-41da-f9d1-b109b841417b"
      },
      "source": [
        "import getpass as gp\n",
        "g=gp.getpass()\n",
        "print(g)\n"
      ],
      "execution_count": null,
      "outputs": [
        {
          "output_type": "stream",
          "text": [
            "··········\n",
            "132564789\n"
          ],
          "name": "stdout"
        }
      ]
    },
    {
      "cell_type": "markdown",
      "metadata": {
        "id": "k2xCsma8Swma"
      },
      "source": [
        "Python Program to Convert Decimal to Binary, Octal and Hexadecimal"
      ]
    },
    {
      "cell_type": "code",
      "metadata": {
        "id": "0nNcRwsFSTwZ",
        "colab": {
          "base_uri": "https://localhost:8080/",
          "height": 68
        },
        "outputId": "5d9ab22f-701d-43ca-9656-9e4697011aa7"
      },
      "source": [
        "n=int(input())\n",
        "print(\"octal is\",oct(n))\n",
        "print(\"hexadecimal is \",hex(n))\n"
      ],
      "execution_count": null,
      "outputs": [
        {
          "output_type": "stream",
          "text": [
            "360\n",
            "octal is 0o550\n",
            "hexadecimal is  0x168\n"
          ],
          "name": "stdout"
        }
      ]
    },
    {
      "cell_type": "code",
      "metadata": {
        "id": "aOjX6IqrWFZy",
        "colab": {
          "base_uri": "https://localhost:8080/",
          "height": 51
        },
        "outputId": "49b6554d-e799-4841-b7e8-2d3876fdb472"
      },
      "source": [
        "hd=input()\n",
        "dec=int(hd,16)\n",
        "print(dec)"
      ],
      "execution_count": null,
      "outputs": [
        {
          "output_type": "stream",
          "text": [
            "168\n",
            "360\n"
          ],
          "name": "stdout"
        }
      ]
    },
    {
      "cell_type": "markdown",
      "metadata": {
        "id": "YTUhXr7uW0d2"
      },
      "source": [
        "Python Programming Code to Convert Hexadecimal to Octal"
      ]
    },
    {
      "cell_type": "code",
      "metadata": {
        "id": "PWC1S0AMW1bN",
        "colab": {
          "base_uri": "https://localhost:8080/",
          "height": 51
        },
        "outputId": "b07889f8-826b-497e-cfbf-efdf9bad0b92"
      },
      "source": [
        "hd=input()\n",
        "d=int(hd,16)\n",
        "print(oct(d))"
      ],
      "execution_count": null,
      "outputs": [
        {
          "output_type": "stream",
          "text": [
            "168\n",
            "0o550\n"
          ],
          "name": "stdout"
        }
      ]
    },
    {
      "cell_type": "markdown",
      "metadata": {
        "id": "T6bibINTX1aV"
      },
      "source": [
        "Python Programming Code to Check Alphabet or Not"
      ]
    },
    {
      "cell_type": "markdown",
      "metadata": {
        "id": "aygMzeGnY6oY"
      },
      "source": [
        "for tables"
      ]
    },
    {
      "cell_type": "code",
      "metadata": {
        "id": "criGuYgrY-Wv",
        "colab": {
          "base_uri": "https://localhost:8080/",
          "height": 381
        },
        "outputId": "86125259-f034-464e-966d-c9279b1d2468"
      },
      "source": [
        "number=int(input())\n",
        "for i in range(1,20+1):\n",
        "  print(i,\"*\",number,\"=\",number*i)"
      ],
      "execution_count": null,
      "outputs": [
        {
          "output_type": "stream",
          "text": [
            "12\n",
            "1 * 12 = 12\n",
            "2 * 12 = 24\n",
            "3 * 12 = 36\n",
            "4 * 12 = 48\n",
            "5 * 12 = 60\n",
            "6 * 12 = 72\n",
            "7 * 12 = 84\n",
            "8 * 12 = 96\n",
            "9 * 12 = 108\n",
            "10 * 12 = 120\n",
            "11 * 12 = 132\n",
            "12 * 12 = 144\n",
            "13 * 12 = 156\n",
            "14 * 12 = 168\n",
            "15 * 12 = 180\n",
            "16 * 12 = 192\n",
            "17 * 12 = 204\n",
            "18 * 12 = 216\n",
            "19 * 12 = 228\n",
            "20 * 12 = 240\n"
          ],
          "name": "stdout"
        }
      ]
    },
    {
      "cell_type": "code",
      "metadata": {
        "id": "rDTx1zjxpfQV",
        "colab": {
          "base_uri": "https://localhost:8080/",
          "height": 51
        },
        "outputId": "b493cad2-50cd-4645-a8c2-ea9b763573ac"
      },
      "source": [
        "n=int(input())\n",
        "n2=int(input())\n",
        "for i in range(n,n2+1):\n",
        "  if n%i==0:\n",
        "    break;\n",
        "  else:\n",
        "    print(i)"
      ],
      "execution_count": null,
      "outputs": [
        {
          "output_type": "stream",
          "text": [
            "2\n",
            "15\n"
          ],
          "name": "stdout"
        }
      ]
    },
    {
      "cell_type": "code",
      "metadata": {
        "id": "KIbKzzciXa-Z",
        "colab": {
          "base_uri": "https://localhost:8080/",
          "height": 51
        },
        "outputId": "246afca3-47d0-4d84-90b5-20ac42d2cd0a"
      },
      "source": [
        "n=input()\n",
        "print(n.isalpha())"
      ],
      "execution_count": null,
      "outputs": [
        {
          "output_type": "stream",
          "text": [
            "Afafs\n",
            "True\n"
          ],
          "name": "stdout"
        }
      ]
    },
    {
      "cell_type": "markdown",
      "metadata": {
        "id": "NvxdfR1Nwknj"
      },
      "source": [
        "input is equal to minimum of sum of digits"
      ]
    },
    {
      "cell_type": "code",
      "metadata": {
        "id": "cfXO5eBHtjXi",
        "colab": {
          "base_uri": "https://localhost:8080/",
          "height": 231
        },
        "outputId": "393a69ac-efa1-4e22-fbf7-6b3ca467beaf"
      },
      "source": [
        "n=int(input())\n",
        "l=[]\n",
        "sum=0\n",
        "temp=n\n",
        "for i in range(0,200):\n",
        "  #temp=n\n",
        "  n=n%10\n",
        "  sum=sum+temp\n",
        "l.append[sum]\n",
        "print(l)"
      ],
      "execution_count": null,
      "outputs": [
        {
          "output_type": "stream",
          "text": [
            "123\n"
          ],
          "name": "stdout"
        },
        {
          "output_type": "error",
          "ename": "TypeError",
          "evalue": "ignored",
          "traceback": [
            "\u001b[0;31m---------------------------------------------------------------------------\u001b[0m",
            "\u001b[0;31mTypeError\u001b[0m                                 Traceback (most recent call last)",
            "\u001b[0;32m<ipython-input-12-98e2b18e6732>\u001b[0m in \u001b[0;36m<module>\u001b[0;34m()\u001b[0m\n\u001b[1;32m      7\u001b[0m   \u001b[0mn\u001b[0m\u001b[0;34m=\u001b[0m\u001b[0mn\u001b[0m\u001b[0;34m%\u001b[0m\u001b[0;36m10\u001b[0m\u001b[0;34m\u001b[0m\u001b[0;34m\u001b[0m\u001b[0m\n\u001b[1;32m      8\u001b[0m   \u001b[0msum\u001b[0m\u001b[0;34m=\u001b[0m\u001b[0msum\u001b[0m\u001b[0;34m+\u001b[0m\u001b[0mtemp\u001b[0m\u001b[0;34m\u001b[0m\u001b[0;34m\u001b[0m\u001b[0m\n\u001b[0;32m----> 9\u001b[0;31m \u001b[0ml\u001b[0m\u001b[0;34m.\u001b[0m\u001b[0mappend\u001b[0m\u001b[0;34m[\u001b[0m\u001b[0msum\u001b[0m\u001b[0;34m]\u001b[0m\u001b[0;34m\u001b[0m\u001b[0;34m\u001b[0m\u001b[0m\n\u001b[0m\u001b[1;32m     10\u001b[0m \u001b[0mprint\u001b[0m\u001b[0;34m(\u001b[0m\u001b[0ml\u001b[0m\u001b[0;34m)\u001b[0m\u001b[0;34m\u001b[0m\u001b[0;34m\u001b[0m\u001b[0m\n",
            "\u001b[0;31mTypeError\u001b[0m: 'builtin_function_or_method' object is not subscriptable"
          ]
        }
      ]
    },
    {
      "cell_type": "code",
      "metadata": {
        "id": "n0qezzEa2CVF",
        "colab": {
          "base_uri": "https://localhost:8080/",
          "height": 51
        },
        "outputId": "eacef9a4-78d4-45ac-b0a9-f2439623bdc2"
      },
      "source": [
        "from math import sqrt\n",
        "n=int(input())\n",
        "k=int(sqrt(n))+1\n",
        "for i in range(k,0,-1):\n",
        "  if n%i==0:\n",
        "    t=n//i\n",
        "    sum=i+t\n",
        "    break\n",
        "print(sum)\n"
      ],
      "execution_count": null,
      "outputs": [
        {
          "output_type": "stream",
          "text": [
            "100000000000000\n",
            "20000000\n"
          ],
          "name": "stdout"
        }
      ]
    },
    {
      "cell_type": "markdown",
      "metadata": {
        "id": "-kGGUUkI4ZOb"
      },
      "source": [
        "to sort a list and count how many swaps/sorts .the sort is in either ascending or descending"
      ]
    },
    {
      "cell_type": "code",
      "metadata": {
        "id": "7f_cjl-35F6H"
      },
      "source": [
        "l=list(map(int,input().split()))\n",
        "l2=l.copy()\n",
        "m1,m2=0,0\n",
        "n=len(l)\n",
        "for i in range(n):\n",
        "  t,t1=i,n-1\n",
        "  for j in range(i+1,n):\n",
        "    if(l[t]>l[j]):\n",
        "      t=j\n",
        "    if(l2[n-1-t1]>l2[n-1-j]):\n",
        "      t1=j\n",
        "  if(t!=i):\n",
        "    l[i],l[t]=l[t],l[i]\n",
        "    m1+=1\n",
        "  if(t1!=i):\n",
        "    l2[n-1-i],l2[n-1-t1]=l2[n-1-t1],l2[n-1-i]\n",
        "    m2+=1\n",
        "print(min(m1,m2))"
      ],
      "execution_count": null,
      "outputs": []
    },
    {
      "cell_type": "markdown",
      "metadata": {
        "id": "AhuF-3gWC8P1"
      },
      "source": [
        "SWAP INDEX BASED ON INDEX"
      ]
    },
    {
      "cell_type": "code",
      "metadata": {
        "id": "fYW2mVeMC_0x",
        "colab": {
          "base_uri": "https://localhost:8080/",
          "height": 51
        },
        "outputId": "4e94369e-a995-47f7-8978-7eef08f3ad7d"
      },
      "source": [
        "from math import gcd as g\n",
        "l=list(map(int,input().split()))\n",
        "m=[]\n",
        "for i in range(len(l)):\n",
        "  k=l[i]\n",
        "  c=0\n",
        "  while(l[l[i]-1]!=k):\n",
        "    i=l[i]-1\n",
        "    c+=1\n",
        "    m.append(c+1)\n",
        "k=m[0]\n",
        "for i in m[1:]:\n",
        "  k=k*i//g(k,i)\n",
        "print(k)"
      ],
      "execution_count": null,
      "outputs": [
        {
          "output_type": "stream",
          "text": [
            "5 3 6 4 1 2\n",
            "6\n"
          ],
          "name": "stdout"
        }
      ]
    },
    {
      "cell_type": "code",
      "metadata": {
        "id": "DmoSE405TE9S"
      },
      "source": [
        "def primefactors(n):\n",
        "  i=2\n",
        "  fac=[]\n",
        "  while i*i<=n:\n",
        "    if n%i:\n",
        "      "
      ],
      "execution_count": null,
      "outputs": []
    },
    {
      "cell_type": "code",
      "metadata": {
        "id": "KVfVHXhEqIZq"
      },
      "source": [
        "l=list(map(input().split()))\n",
        "for i in l:\n",
        "  n=i-1\n",
        "  if n&n-1==0:\n",
        "    print(i)"
      ],
      "execution_count": null,
      "outputs": []
    },
    {
      "cell_type": "markdown",
      "metadata": {
        "id": "rwsFRaC7-1ji"
      },
      "source": [
        "PRE ORDER TREVERSAL"
      ]
    },
    {
      "cell_type": "code",
      "metadata": {
        "id": "NL76MSrF-7hX",
        "colab": {
          "base_uri": "https://localhost:8080/",
          "height": 34
        },
        "outputId": "f2c0bc3d-64bc-44b8-9e1d-8abe6ce1c0ff"
      },
      "source": [
        "class Node():\n",
        "    def __init__(self,val):\n",
        "        self.val = val\n",
        "        self.left = None\n",
        "        self.right = None\n",
        "        \n",
        "class BinartyTree():\n",
        "    def __init__(self,root):\n",
        "        self.root = Node(root)\n",
        "        \n",
        "    def print_tree(self,traversal_type):\n",
        "        if traversal_type ==\"P\":\n",
        "            return self.preorder(tree.root,\"\")\n",
        "        if traversal_type ==\"I\":\n",
        "            return self.inorder(tree.root,\"\")\n",
        "        if traversal_type ==\"POST\":\n",
        "            return self.postorder(tree.root,\"\")\n",
        "    def preorder(self,start,ans):\n",
        "        if start:\n",
        "            ans+= (str(start.val)+\"->\")\n",
        "            ans = self.preorder(start.left,ans)\n",
        "            ans = self.preorder(start.right,ans)\n",
        "        return ans\n",
        "    \n",
        "    def postorder(self,start,ans):\n",
        "        if start:\n",
        "            ans = self.postorder(start.left,ans)\n",
        "            ans = self.postorder(start.right,ans)\n",
        "            ans+=(str(start.val) + \"->\")\n",
        "        return ans\n",
        "    \n",
        "    def inorder(self,start,ans):\n",
        "        if start:\n",
        "            ans = self.inorder(start.left,ans)\n",
        "            ans+=(str(start.val) + \"->\")\n",
        "            ans = self.inorder(start.right,ans)\n",
        "        return ans\n",
        "        \n",
        "tree = BinartyTree(1)\n",
        "tree.root.left = Node(2)\n",
        "tree.root.right = Node(3)\n",
        "tree.root.left.left = Node(4)\n",
        "tree.root.left.right = Node(5)\n",
        "tree.root.right.left = Node(6)\n",
        "tree.root.right.right = Node(7)\n",
        "\n",
        "print(tree.print_tree(\"POST\"))"
      ],
      "execution_count": null,
      "outputs": [
        {
          "output_type": "stream",
          "text": [
            "4->5->2->6->7->3->1->\n"
          ],
          "name": "stdout"
        }
      ]
    },
    {
      "cell_type": "markdown",
      "metadata": {
        "id": "CzbnESh5WMUc"
      },
      "source": [
        "2\n",
        "6 9 18 3\n",
        "3 7 20 5\n",
        "OUTPUT\n",
        "162                                 "
      ]
    },
    {
      "cell_type": "code",
      "metadata": {
        "id": "OUddsRSpXSg4",
        "colab": {
          "base_uri": "https://localhost:8080/",
          "height": 299
        },
        "outputId": "18cc6a1b-364c-4ca7-cda5-b4e86aa19880"
      },
      "source": [
        "for i in range(int(input())):\n",
        "  forward,backward,distance,time=map(int,input().split())\n",
        "  d=0\n",
        "  while distance-backward>0:\n",
        "    distance=distance-backward+forward\n",
        "    d=d+forward+backward\n",
        "    d=d+forward +backward\n",
        "  d=d+distance\n",
        "  print(d*time)"
      ],
      "execution_count": null,
      "outputs": [
        {
          "output_type": "stream",
          "text": [
            "2\n",
            "6 9 8 3\n",
            "24\n",
            "3 7 205\n"
          ],
          "name": "stdout"
        },
        {
          "output_type": "error",
          "ename": "ValueError",
          "evalue": "ignored",
          "traceback": [
            "\u001b[0;31m---------------------------------------------------------------------------\u001b[0m",
            "\u001b[0;31mValueError\u001b[0m                                Traceback (most recent call last)",
            "\u001b[0;32m<ipython-input-6-7f4e2a1cc2b0>\u001b[0m in \u001b[0;36m<module>\u001b[0;34m()\u001b[0m\n\u001b[1;32m      1\u001b[0m \u001b[0;32mfor\u001b[0m \u001b[0mi\u001b[0m \u001b[0;32min\u001b[0m \u001b[0mrange\u001b[0m\u001b[0;34m(\u001b[0m\u001b[0mint\u001b[0m\u001b[0;34m(\u001b[0m\u001b[0minput\u001b[0m\u001b[0;34m(\u001b[0m\u001b[0;34m)\u001b[0m\u001b[0;34m)\u001b[0m\u001b[0;34m)\u001b[0m\u001b[0;34m:\u001b[0m\u001b[0;34m\u001b[0m\u001b[0;34m\u001b[0m\u001b[0m\n\u001b[0;32m----> 2\u001b[0;31m   \u001b[0mforward\u001b[0m\u001b[0;34m,\u001b[0m\u001b[0mbackward\u001b[0m\u001b[0;34m,\u001b[0m\u001b[0mdistance\u001b[0m\u001b[0;34m,\u001b[0m\u001b[0mtime\u001b[0m\u001b[0;34m=\u001b[0m\u001b[0mmap\u001b[0m\u001b[0;34m(\u001b[0m\u001b[0mint\u001b[0m\u001b[0;34m,\u001b[0m\u001b[0minput\u001b[0m\u001b[0;34m(\u001b[0m\u001b[0;34m)\u001b[0m\u001b[0;34m.\u001b[0m\u001b[0msplit\u001b[0m\u001b[0;34m(\u001b[0m\u001b[0;34m)\u001b[0m\u001b[0;34m)\u001b[0m\u001b[0;34m\u001b[0m\u001b[0;34m\u001b[0m\u001b[0m\n\u001b[0m\u001b[1;32m      3\u001b[0m   \u001b[0md\u001b[0m\u001b[0;34m=\u001b[0m\u001b[0;36m0\u001b[0m\u001b[0;34m\u001b[0m\u001b[0;34m\u001b[0m\u001b[0m\n\u001b[1;32m      4\u001b[0m   \u001b[0;32mwhile\u001b[0m \u001b[0mdistance\u001b[0m\u001b[0;34m-\u001b[0m\u001b[0mbackward\u001b[0m\u001b[0;34m>\u001b[0m\u001b[0;36m0\u001b[0m\u001b[0;34m:\u001b[0m\u001b[0;34m\u001b[0m\u001b[0;34m\u001b[0m\u001b[0m\n\u001b[1;32m      5\u001b[0m     \u001b[0mdistance\u001b[0m\u001b[0;34m=\u001b[0m\u001b[0mdistance\u001b[0m\u001b[0;34m-\u001b[0m\u001b[0mbackward\u001b[0m\u001b[0;34m+\u001b[0m\u001b[0mforward\u001b[0m\u001b[0;34m\u001b[0m\u001b[0;34m\u001b[0m\u001b[0m\n",
            "\u001b[0;31mValueError\u001b[0m: not enough values to unpack (expected 4, got 3)"
          ]
        }
      ]
    },
    {
      "cell_type": "markdown",
      "metadata": {
        "id": "e-f-xy6gc_5X"
      },
      "source": [
        ""
      ]
    },
    {
      "cell_type": "code",
      "metadata": {
        "id": "eWLMmkYkh7xE",
        "colab": {
          "base_uri": "https://localhost:8080/",
          "height": 68
        },
        "outputId": "412153f1-9de6-4489-a10a-de05e61e7ae9"
      },
      "source": [
        "n,goal=map(int,input().split())\n",
        "l=list(map(int,input().split()))\n",
        "a=0\n",
        "day=0\n",
        "flag=1\n",
        "while(flag):\n",
        "  day+=1\n",
        "  for i in l:\n",
        "    if day%i==0:\n",
        "      a+=1\n",
        "      if a==goal:\n",
        "        flag=0\n",
        "        break\n",
        "print(day)"
      ],
      "execution_count": null,
      "outputs": [
        {
          "output_type": "stream",
          "text": [
            "5 1\n",
            "5 5 5 5 5\n",
            "5\n"
          ],
          "name": "stdout"
        }
      ]
    },
    {
      "cell_type": "code",
      "metadata": {
        "id": "FGH19gK7nG7P"
      },
      "source": [
        "n=int(input())\n",
        "l,m=list(map(int,input().split()))\n",
        "m=int(input())\n",
        "for i in range(m)\n",
        "f=int(input())\n"
      ],
      "execution_count": null,
      "outputs": []
    },
    {
      "cell_type": "markdown",
      "metadata": {
        "id": "09qp0oYWshEZ"
      },
      "source": [
        "TO TELL THE EXPRESSION IS TRUE OR NOT"
      ]
    },
    {
      "cell_type": "code",
      "metadata": {
        "id": "NZ3eNBE5qpHd",
        "colab": {
          "base_uri": "https://localhost:8080/",
          "height": 51
        },
        "outputId": "54497d55-911e-4041-cf91-45af66a4dfcf"
      },
      "source": [
        "s=input()\n",
        "d=s.replace(\"=\",\"==\")\n",
        "print(eval(d))"
      ],
      "execution_count": null,
      "outputs": [
        {
          "output_type": "stream",
          "text": [
            "2/2=0\n",
            "False\n"
          ],
          "name": "stdout"
        }
      ]
    },
    {
      "cell_type": "code",
      "metadata": {
        "id": "W-sNxHjCs8Tb",
        "colab": {
          "base_uri": "https://localhost:8080/",
          "height": 231
        },
        "outputId": "9be7ad8c-df97-463e-e81f-d139ccdfd938"
      },
      "source": [
        "import math\n",
        "s=input()\n",
        "e=math.simplyfy(s)\n",
        "print(e)"
      ],
      "execution_count": null,
      "outputs": [
        {
          "output_type": "stream",
          "text": [
            "5+x/3\n"
          ],
          "name": "stdout"
        },
        {
          "output_type": "error",
          "ename": "AttributeError",
          "evalue": "ignored",
          "traceback": [
            "\u001b[0;31m---------------------------------------------------------------------------\u001b[0m",
            "\u001b[0;31mAttributeError\u001b[0m                            Traceback (most recent call last)",
            "\u001b[0;32m<ipython-input-39-0d9a98330431>\u001b[0m in \u001b[0;36m<module>\u001b[0;34m()\u001b[0m\n\u001b[1;32m      1\u001b[0m \u001b[0;32mimport\u001b[0m \u001b[0mmath\u001b[0m\u001b[0;34m\u001b[0m\u001b[0;34m\u001b[0m\u001b[0m\n\u001b[1;32m      2\u001b[0m \u001b[0ms\u001b[0m\u001b[0;34m=\u001b[0m\u001b[0minput\u001b[0m\u001b[0;34m(\u001b[0m\u001b[0;34m)\u001b[0m\u001b[0;34m\u001b[0m\u001b[0;34m\u001b[0m\u001b[0m\n\u001b[0;32m----> 3\u001b[0;31m \u001b[0me\u001b[0m\u001b[0;34m=\u001b[0m\u001b[0mmath\u001b[0m\u001b[0;34m.\u001b[0m\u001b[0msimplyfy\u001b[0m\u001b[0;34m(\u001b[0m\u001b[0ms\u001b[0m\u001b[0;34m)\u001b[0m\u001b[0;34m\u001b[0m\u001b[0;34m\u001b[0m\u001b[0m\n\u001b[0m\u001b[1;32m      4\u001b[0m \u001b[0mprint\u001b[0m\u001b[0;34m(\u001b[0m\u001b[0me\u001b[0m\u001b[0;34m)\u001b[0m\u001b[0;34m\u001b[0m\u001b[0;34m\u001b[0m\u001b[0m\n",
            "\u001b[0;31mAttributeError\u001b[0m: module 'math' has no attribute 'simplyfy'"
          ]
        }
      ]
    },
    {
      "cell_type": "markdown",
      "metadata": {
        "id": "EHNiD0SGyp7S"
      },
      "source": [
        "EQUATION SOLVING"
      ]
    },
    {
      "cell_type": "code",
      "metadata": {
        "id": "JeQ57CCFxW8k",
        "colab": {
          "base_uri": "https://localhost:8080/",
          "height": 51
        },
        "outputId": "003996c4-34d2-4531-d206-adf5ff3d7502"
      },
      "source": [
        "from sympy import symbols, solve\n",
        "x = symbols('x')\n",
        "expr =input()\n",
        "sol = solve(expr)\n",
        "print(sol)"
      ],
      "execution_count": null,
      "outputs": [
        {
          "output_type": "stream",
          "text": [
            "5+x/3\n",
            "[-15]\n"
          ],
          "name": "stdout"
        }
      ]
    },
    {
      "cell_type": "markdown",
      "metadata": {
        "id": "34GCeUEhsV8z"
      },
      "source": [
        "TO TELL THE EXPRESSION IS TRUE OR NOT"
      ]
    },
    {
      "cell_type": "code",
      "metadata": {
        "id": "zBPwPjiM2DYM",
        "colab": {
          "base_uri": "https://localhost:8080/",
          "height": 612
        },
        "outputId": "f835f5e5-0225-49fa-cdfd-f2ab389cc094"
      },
      "source": [
        "class XO:\n",
        "    n = 1\n",
        "    t = [' ']*9\n",
        "    def __init__(self,player1,player2):\n",
        "        self.player1 = player1\n",
        "        self.player2 = player2\n",
        "        \n",
        "        print(\"HI WELCOME TO THE GAME OF XO\",self.player1,\"and\",self.player2)\n",
        "\n",
        "    def display(self):\n",
        "        for i in range(3):\n",
        "            for j in range(3):\n",
        "                print(self.t[3*i+j],end=\"\")\n",
        "                if(j!=2):\n",
        "                    print(\"|\",end=\"\")\n",
        "            print()\n",
        "            if(i!=2):\n",
        "                print(\"------\")\n",
        "    \n",
        "    def check(self):\n",
        "        if(self.t[0]==self.t[1]==self.t[2] and self.t[0]!= \" \" or self.t[3]==self.t[4]==self.t[5] and  self.t[3]!= \" \" or self.t[6]==self.t[7]==self.t[8] and self.t[6]!= \" \"  or self.t[0]==self.t[3]==self.t[6] and self.t[0]!= \" \" or self.t[1]==self.t[4]==self.t[7] and self.t[7]!= \" \" or self.t[2]==self.t[5]==self.t[8] and self.t[8]!= \" \" or self.t[0]==self.t[4]==self.t[8] and self.t[4]!= \" \" or self.t[2]==self.t[4]==self.t[6] and self.t[2]!= \" \"):\n",
        "            return True\n",
        "        else:\n",
        "            return False\n",
        "    \n",
        "    def play(self):\n",
        "        while(self.n<=9):\n",
        "            if(self.n%2!=0):\n",
        "                c = 'X'\n",
        "            else:\n",
        "                c = 'O'\n",
        "            b = int(name())\n",
        "            self.t[b-1] = c\n",
        "            a.display()\n",
        "            if a.check():\n",
        "                print(\"Won\")\n",
        "                break\n",
        "            self.n+=1\n",
        "        if(self.n==10):\n",
        "            print(\"Draw\")\n",
        "        else:\n",
        "            print(\"Won\")\n",
        "        return\n",
        "\n",
        "def name():\n",
        "    n = input()\n",
        "    return n\n",
        "player1 = name()\n",
        "player2 = name()\n",
        "\n",
        "a = XO(player1,player2)\n",
        "a.play()\n",
        "\n",
        "\n",
        "    "
      ],
      "execution_count": null,
      "outputs": [
        {
          "output_type": "stream",
          "text": [
            "aashikha\n",
            "aadil\n",
            "HI WELCOME TO THE GAME OF XO aashikha and aadil\n",
            "3\n",
            " | |X\n",
            "------\n",
            " | | \n",
            "------\n",
            " | | \n",
            "6\n",
            " | |X\n",
            "------\n",
            " | |O\n",
            "------\n",
            " | | \n",
            "2\n",
            " |X|X\n",
            "------\n",
            " | |O\n",
            "------\n",
            " | | \n",
            "5\n",
            " |X|X\n",
            "------\n",
            " |O|O\n",
            "------\n",
            " | | \n",
            "1\n",
            "X|X|X\n",
            "------\n",
            " |O|O\n",
            "------\n",
            " | | \n",
            "Won\n",
            "Won\n"
          ],
          "name": "stdout"
        }
      ]
    },
    {
      "cell_type": "markdown",
      "metadata": {
        "id": "XTwB7eYeyJeL"
      },
      "source": [
        "TO REMOVE A CHARACTER AND MAKE IT AS PALINDROME"
      ]
    },
    {
      "cell_type": "code",
      "metadata": {
        "id": "3wHbRRJSyPi4",
        "colab": {
          "base_uri": "https://localhost:8080/",
          "height": 34
        },
        "outputId": "4d5768b3-7323-47f5-af74-12998a134910"
      },
      "source": [
        "n=\"radear\"\n",
        "a=n[0:3]\n",
        "b=n[4:]\n",
        "c=a+b\n",
        "re=c[::-1]\n",
        "if c==re:\n",
        "  print(\"palindrome\",c)\n",
        "#print(\"after\",re)\n"
      ],
      "execution_count": null,
      "outputs": [
        {
          "output_type": "stream",
          "text": [
            "palindrome radar\n"
          ],
          "name": "stdout"
        }
      ]
    },
    {
      "cell_type": "markdown",
      "metadata": {
        "id": "FmOhH5a9-aVL"
      },
      "source": [
        "R A D E A R"
      ]
    },
    {
      "cell_type": "code",
      "metadata": {
        "id": "uU75QDea-iMF",
        "colab": {
          "base_uri": "https://localhost:8080/",
          "height": 51
        },
        "outputId": "a8de410f-6bf7-4a32-dd7a-2fe819d72835"
      },
      "source": [
        "n=input()\n",
        "r=n[::-1]\n",
        "for i in range(len(n)):\n",
        "  for j in range(0,i):\n",
        "    "
      ],
      "execution_count": null,
      "outputs": [
        {
          "output_type": "stream",
          "text": [
            "aashikha\n",
            "ahkihsaa\n"
          ],
          "name": "stdout"
        }
      ]
    },
    {
      "cell_type": "markdown",
      "metadata": {
        "id": "S8WEG_lJOKK_"
      },
      "source": [
        "BINARY SEARCH"
      ]
    },
    {
      "cell_type": "code",
      "metadata": {
        "id": "9bgmhd0-OO6M",
        "colab": {
          "base_uri": "https://localhost:8080/",
          "height": 34
        },
        "outputId": "551fd58f-6423-4a09-8e9f-14213412cf72"
      },
      "source": [
        "def binary(l,ser):\n",
        "    mid = len(l)//2\n",
        "    if l[mid] == ser:\n",
        "      return l[mid]\n",
        "    elif ser>l[mid]:\n",
        "      l = l[mid+1:]\n",
        "      return binary(l,ser)\n",
        "    else:\n",
        "        l = l[:mid]\n",
        "        return binary(l,ser)\n",
        "\n",
        "\n",
        "\n",
        "\n",
        "l = [1,2,3,4,5,6,7]\n",
        "ser = 3\n",
        "print(binary(l,ser))"
      ],
      "execution_count": null,
      "outputs": [
        {
          "output_type": "stream",
          "text": [
            "3\n"
          ],
          "name": "stdout"
        }
      ]
    },
    {
      "cell_type": "markdown",
      "metadata": {
        "id": "ZcTCGF-0Wo4H"
      },
      "source": [
        "to count number of 2 in a factors"
      ]
    },
    {
      "cell_type": "code",
      "metadata": {
        "id": "P_SmRQzoV8-a",
        "colab": {
          "base_uri": "https://localhost:8080/",
          "height": 51
        },
        "outputId": "46c5d762-ea78-4f09-8023-4df4d89efe83"
      },
      "source": [
        "n=int(input())\n",
        "count=0\n",
        "while(n%2==0):\n",
        "    n//=2\n",
        "    count=count+1\n",
        "print(2**count)"
      ],
      "execution_count": null,
      "outputs": [
        {
          "output_type": "stream",
          "text": [
            "12\n",
            "4\n"
          ],
          "name": "stdout"
        }
      ]
    },
    {
      "cell_type": "markdown",
      "metadata": {
        "id": "xWqMzRuTv9xw"
      },
      "source": [
        "quick sort"
      ]
    },
    {
      "cell_type": "code",
      "metadata": {
        "id": "3NDHiJezwDBP",
        "colab": {
          "base_uri": "https://localhost:8080/",
          "height": 231
        },
        "outputId": "ff38fc8f-b417-4388-cb8b-2b8f2a8ee26d"
      },
      "source": [
        "def quick_sort(A):\n",
        "  quick_sort2(A,0,len(A)-1)\n",
        "def quick_sort(A,low,high):\n",
        "  if low<high:\n",
        "    p=partition(A,low,high)\n",
        "    quick_sort2(A,low,p-1)\n",
        "    quick_sort(A,p+1,high)\n",
        "def get_pivot(A,low,high):\n",
        "  mid=(low+high)//2\n",
        "  pivot=high\n",
        "  if a[low]<A[mid] and A[mid]<A[high]:\n",
        "    pivot=mid\n",
        "  elif a[low]<A[high]:\n",
        "    pivot=low\n",
        "  return pivot\n",
        "def partition(A,low,high):\n",
        "  pivotindex=get_pivot(A,low,high)\n",
        "  pivotvalue=A[pivotindex]\n",
        "  A[pivotindex],A[low]=A[low],A[pivotIndex]\n",
        "  border=low\n",
        "  for i in range(low,high+1):\n",
        "    if A[i]<pivotValue:\n",
        "      border+=1\n",
        "      A[i],A[border]=A[border],A[i]\n",
        "      A[low],A[border]=A[border],A[low]\n",
        "  return border\n",
        "l=list(map(int,input().split()))\n",
        "quick_sort(l)\n",
        "print(l)"
      ],
      "execution_count": null,
      "outputs": [
        {
          "output_type": "stream",
          "text": [
            "10 5 30 22 26 58\n"
          ],
          "name": "stdout"
        },
        {
          "output_type": "error",
          "ename": "TypeError",
          "evalue": "ignored",
          "traceback": [
            "\u001b[0;31m---------------------------------------------------------------------------\u001b[0m",
            "\u001b[0;31mTypeError\u001b[0m                                 Traceback (most recent call last)",
            "\u001b[0;32m<ipython-input-3-6746050dcfe8>\u001b[0m in \u001b[0;36m<module>\u001b[0;34m()\u001b[0m\n\u001b[1;32m     26\u001b[0m   \u001b[0;32mreturn\u001b[0m \u001b[0mborder\u001b[0m\u001b[0;34m\u001b[0m\u001b[0;34m\u001b[0m\u001b[0m\n\u001b[1;32m     27\u001b[0m \u001b[0ml\u001b[0m\u001b[0;34m=\u001b[0m\u001b[0mlist\u001b[0m\u001b[0;34m(\u001b[0m\u001b[0mmap\u001b[0m\u001b[0;34m(\u001b[0m\u001b[0mint\u001b[0m\u001b[0;34m,\u001b[0m\u001b[0minput\u001b[0m\u001b[0;34m(\u001b[0m\u001b[0;34m)\u001b[0m\u001b[0;34m.\u001b[0m\u001b[0msplit\u001b[0m\u001b[0;34m(\u001b[0m\u001b[0;34m)\u001b[0m\u001b[0;34m)\u001b[0m\u001b[0;34m)\u001b[0m\u001b[0;34m\u001b[0m\u001b[0;34m\u001b[0m\u001b[0m\n\u001b[0;32m---> 28\u001b[0;31m \u001b[0mquick_sort\u001b[0m\u001b[0;34m(\u001b[0m\u001b[0ml\u001b[0m\u001b[0;34m)\u001b[0m\u001b[0;34m\u001b[0m\u001b[0;34m\u001b[0m\u001b[0m\n\u001b[0m\u001b[1;32m     29\u001b[0m \u001b[0mprint\u001b[0m\u001b[0;34m(\u001b[0m\u001b[0ml\u001b[0m\u001b[0;34m)\u001b[0m\u001b[0;34m\u001b[0m\u001b[0;34m\u001b[0m\u001b[0m\n",
            "\u001b[0;31mTypeError\u001b[0m: quick_sort() missing 2 required positional arguments: 'low' and 'high'"
          ]
        }
      ]
    },
    {
      "cell_type": "markdown",
      "metadata": {
        "id": "cqGy53spQdeH"
      },
      "source": [
        "179 Given a string and a number K, change every kth character to uppercase from beginning in string.\n",
        "Sample Testcase :\n",
        "INPUT\n",
        "string 2\n",
        "OUTPUT\n",
        "sTrInG"
      ]
    },
    {
      "cell_type": "code",
      "metadata": {
        "id": "Ur5JzAssQgxS",
        "colab": {
          "base_uri": "https://localhost:8080/",
          "height": 51
        },
        "outputId": "32905a3b-23b7-4819-8377-cf08ef909565"
      },
      "source": [
        "s,n=input().split()\n",
        "n=int(n)\n",
        "s=list(s)\n",
        "if n>0:\n",
        "    for i in range(n-1,len(s),n):\n",
        "        s[i]=s[i].upper()\n",
        "print(*s,sep='')"
      ],
      "execution_count": null,
      "outputs": [
        {
          "output_type": "stream",
          "text": [
            "aashikha 3\n",
            "aaShiKha\n"
          ],
          "name": "stdout"
        }
      ]
    },
    {
      "cell_type": "markdown",
      "metadata": {
        "id": "QfcrHDZNU01V"
      },
      "source": [
        "insertion sort"
      ]
    },
    {
      "cell_type": "code",
      "metadata": {
        "id": "atZOltt_U4TO",
        "colab": {
          "base_uri": "https://localhost:8080/",
          "height": 51
        },
        "outputId": "bd9a2dcf-6292-410a-f823-e31411092bd9"
      },
      "source": [
        "s=input()\n",
        "print(s[::-1])"
      ],
      "execution_count": null,
      "outputs": [
        {
          "output_type": "stream",
          "text": [
            "jennyfer\n",
            "refynnej\n"
          ],
          "name": "stdout"
        }
      ]
    },
    {
      "cell_type": "markdown",
      "metadata": {
        "id": "d2eJl5IKL8tm"
      },
      "source": [
        "merge sort"
      ]
    },
    {
      "cell_type": "code",
      "metadata": {
        "id": "6DJOJbSEK8UQ",
        "colab": {
          "base_uri": "https://localhost:8080/",
          "height": 51
        },
        "outputId": "cdc1ad94-0e46-42a3-99dd-ca7a95c8df54"
      },
      "source": [
        "def mergesort(A):\n",
        "  if len(A)>1:\n",
        "    mid=len(A)//2\n",
        "    left=A[:mid]\n",
        "    right=A[mid:]\n",
        "    mergesort(left)\n",
        "    mergesort(right)\n",
        "    i=0\n",
        "    j=0\n",
        "    k=0\n",
        "    while i<len(left)and j<len(right):\n",
        "      if left[i]<right[j]:\n",
        "        A[k]=left[i]\n",
        "        i+=1\n",
        "      else:\n",
        "        A[k]=right[j]\n",
        "        j+=1\n",
        "      k+=1\n",
        "    while i<len(left):\n",
        "      A[k]=left[i]\n",
        "      i+=1\n",
        "      k+=1\n",
        "    while j<len(right):\n",
        "      A[k]=right[j]\n",
        "      j+=1\n",
        "      k+=1\n",
        "A=list(map(int,input().split()))\n",
        "mergesort(A)\n",
        "print(*A)\n",
        "\n",
        "\n"
      ],
      "execution_count": null,
      "outputs": [
        {
          "output_type": "stream",
          "text": [
            "99 25 45\n",
            "25 45 99\n"
          ],
          "name": "stdout"
        }
      ]
    },
    {
      "cell_type": "markdown",
      "metadata": {
        "id": "02XuKwE3v3r1"
      },
      "source": [
        "to remove the consecutive number"
      ]
    },
    {
      "cell_type": "code",
      "metadata": {
        "id": "kX-XFzNxqqU0",
        "colab": {
          "base_uri": "https://localhost:8080/",
          "height": 51
        },
        "outputId": "f098ae42-48c8-47f5-b572-9964c60a57ee"
      },
      "source": [
        "l=input()\n",
        "n=[\"*\"]\n",
        "for i in l:\n",
        "  if i==n[-1]:\n",
        "    n.pop()\n",
        "  else:\n",
        "    n.append(i)\n",
        "n.pop(0)\n",
        "if len(n)==0:\n",
        "  print(\"-1\")\n",
        "else:\n",
        "  print(\"\".join(n))"
      ],
      "execution_count": null,
      "outputs": [
        {
          "output_type": "stream",
          "text": [
            "1331\n",
            "-1\n"
          ],
          "name": "stdout"
        }
      ]
    },
    {
      "cell_type": "markdown",
      "metadata": {
        "id": "j58l5QahIeJG"
      },
      "source": [
        "669 to delete all the repeating characters and print the result left.\n",
        "\n",
        "Input Description:\n",
        "You are given a string ‘s’\n",
        "\n",
        "Output Description:\n",
        "Print the remaining string\n",
        "\n",
        "Sample Input :\n",
        "mississipie\n",
        "Sample Output :\n",
        "mpie"
      ]
    },
    {
      "cell_type": "code",
      "metadata": {
        "id": "zzvub3ifIlo8",
        "colab": {
          "base_uri": "https://localhost:8080/",
          "height": 51
        },
        "outputId": "79513eb9-e49d-4136-ebfc-290516a95d7c"
      },
      "source": [
        "l=input()\n",
        "n=[\"*\"]\n",
        "for i in l:\n",
        "  if i==n[-1]:\n",
        "    n.pop()\n",
        "  else:\n",
        "    n.append(i)\n",
        "n.pop(0)\n",
        "print(*n)"
      ],
      "execution_count": null,
      "outputs": [
        {
          "output_type": "stream",
          "text": [
            "mississipie\n",
            "m i p i e\n"
          ],
          "name": "stdout"
        }
      ]
    },
    {
      "cell_type": "markdown",
      "metadata": {
        "id": "0Os7o1sGIfke"
      },
      "source": [
        ""
      ]
    },
    {
      "cell_type": "markdown",
      "metadata": {
        "id": "ef5JZ6TQ5K0q"
      },
      "source": [
        "balanced paranthesis\n"
      ]
    },
    {
      "cell_type": "code",
      "metadata": {
        "id": "4LpATHNi5FeY",
        "colab": {
          "base_uri": "https://localhost:8080/"
        },
        "outputId": "5c441161-8263-47d1-8610-fc19d00892ea"
      },
      "source": [
        "l=input()\n",
        "n=[\"*\"]\n",
        "for i in l:\n",
        "  if i==n[-1]:\n",
        "    n.pop()\n",
        "  else:\n",
        "    n.append(i)\n",
        "n.pop(0)\n",
        "if len(n)%2==0:\n",
        "  print(\"balanced\")\n",
        "else:\n",
        "  print(\"unbalanced\")"
      ],
      "execution_count": 2,
      "outputs": [
        {
          "output_type": "stream",
          "text": [
            "()\n",
            "balanced\n"
          ],
          "name": "stdout"
        }
      ]
    },
    {
      "cell_type": "markdown",
      "metadata": {
        "id": "FnctgNwKzcV1"
      },
      "source": [
        "636 Jennyfer is fond of strings. She wants to read the character from right to left, so she wants you to design a suitable algorithm which satisfy her desire.\n",
        "\n",
        "Input Description:\n",
        "Enter the string ‘s’\n",
        "\n",
        "Output Description:\n",
        "Print the string from characters right to left.\n",
        "\n",
        "Sample Input :\n",
        "jennyfer\n",
        "Sample Output :\n",
        "Refynnej"
      ]
    },
    {
      "cell_type": "code",
      "metadata": {
        "id": "ztGBrhuqzgDi",
        "colab": {
          "base_uri": "https://localhost:8080/",
          "height": 51
        },
        "outputId": "38832d85-293e-4856-ed81-dac3890f19af"
      },
      "source": [
        "s=input()\n",
        "a=s[::-1]\n",
        "c=a[1:]\n",
        "b=a[0].upper()\n",
        "d=b+c\n",
        "print(d)"
      ],
      "execution_count": null,
      "outputs": [
        {
          "output_type": "stream",
          "text": [
            " jennyfer \n",
            " refynnej \n"
          ],
          "name": "stdout"
        }
      ]
    },
    {
      "cell_type": "markdown",
      "metadata": {
        "id": "GKxEMQ-A0hkc"
      },
      "source": [
        "508 write a program to sort a given set of strings based on their alphabetical order. Help Ria’s mother to complete the program.\n",
        "\n",
        " \n",
        "\n",
        "Input Description:\n",
        "A set of N strings\n",
        "\n",
        "Output Description:\n",
        "Alphabetically sorted set of strings\n",
        "\n",
        "Sample Input :\n",
        "3\n",
        "InfinityWar EndGame Avengers\n",
        "Sample Output :\n",
        "Avengers EndGame InfinityWar"
      ]
    },
    {
      "cell_type": "code",
      "metadata": {
        "id": "DtLgwcVx0qcR",
        "colab": {
          "base_uri": "https://localhost:8080/",
          "height": 68
        },
        "outputId": "45b53dc2-252b-4591-d2db-eb3f30368c87"
      },
      "source": [
        "limit=int(input())\n",
        "str = input().split()[:limit]\n",
        "print(*sorted(str))"
      ],
      "execution_count": null,
      "outputs": [
        {
          "output_type": "stream",
          "text": [
            "3\n",
            "InfinityWar EndGame Avengers\n",
            "Avengers EndGame InfinityWar\n"
          ],
          "name": "stdout"
        }
      ]
    },
    {
      "cell_type": "markdown",
      "metadata": {
        "id": "mPQOmADe1OQm"
      },
      "source": [
        "selection sort"
      ]
    },
    {
      "cell_type": "code",
      "metadata": {
        "id": "165aObPC1QfZ",
        "colab": {
          "base_uri": "https://localhost:8080/",
          "height": 51
        },
        "outputId": "cbdd7114-2e05-4547-fed8-90e5b6258a97"
      },
      "source": [
        "def selectionsort(A):\n",
        "  for i in range(len(A)-1):\n",
        "    minimum=i\n",
        "    for j in range(i+1,len(A)):\n",
        "      if A[j]<A[minimum]:\n",
        "        minimum=j\n",
        "        A[i],A[minimum]=A[minimum],A[i]\n",
        "l=list(map(int,input().split()))\n",
        "selectionsort(l)\n",
        "print(*l)"
      ],
      "execution_count": null,
      "outputs": [
        {
          "output_type": "stream",
          "text": [
            "7 3 4 12\n",
            "4 3 7 12\n"
          ],
          "name": "stdout"
        }
      ]
    },
    {
      "cell_type": "markdown",
      "metadata": {
        "id": "ycvALFsM2TgE"
      },
      "source": [
        "bubble sort"
      ]
    },
    {
      "cell_type": "code",
      "metadata": {
        "id": "zKZ5PxAD2VaC"
      },
      "source": [
        "def bubblesort(A):\n",
        "  for i in range(len(A)-1,0,-1):\n",
        "    for j in range(0,i):\n",
        "      if A[j+1]<A[j]:\n",
        "        A[j],A[j+1]=A[j+1],a[j]\n",
        "        flag=0\n",
        "      if flag==1:\n",
        "        return\n",
        "l=list(map(int,input().split()))\n",
        "bubblesort(l)\n",
        "print(*l)"
      ],
      "execution_count": null,
      "outputs": []
    },
    {
      "cell_type": "markdown",
      "metadata": {
        "id": "npHHeaEQCqQ3"
      },
      "source": [
        "to check factors and prime no\n"
      ]
    },
    {
      "cell_type": "code",
      "metadata": {
        "id": "zabF0EoSCxeP",
        "colab": {
          "base_uri": "https://localhost:8080/",
          "height": 68
        },
        "outputId": "38f7d4de-d025-4da7-ceeb-015ba4ba6162"
      },
      "source": [
        "print(\"Enter 'x' for exit.\");\n",
        "num = input(\"Enter a number: \");\n",
        "if num == 'x':\n",
        "    exit();\n",
        "else:\n",
        "    count = 0;\n",
        "    number = int(num);\n",
        "    for i in range(2, number-1):\n",
        "    \tif number%i == 0:\n",
        "    \t    print(i);\n",
        "    \t    i += 1;\n",
        "    \t    count += 1;\n",
        "    if count==0:\n",
        "        print(number,\"is a prime number.\");"
      ],
      "execution_count": null,
      "outputs": [
        {
          "output_type": "stream",
          "text": [
            "Enter 'x' for exit.\n",
            "Enter a number: 7\n",
            "7 is a prime number.\n"
          ],
          "name": "stdout"
        }
      ]
    },
    {
      "cell_type": "markdown",
      "metadata": {
        "id": "dudupY4fP82t"
      },
      "source": [
        "speed can"
      ]
    },
    {
      "cell_type": "code",
      "metadata": {
        "id": "lIY9OszmP-wT",
        "colab": {
          "base_uri": "https://localhost:8080/",
          "height": 68
        },
        "outputId": "e7f1fbb5-6d7d-40c9-c217-56cd49631277"
      },
      "source": [
        "import math\n",
        "i=int(input())\n",
        "f=int(input())\n",
        "c=math.log(f/i)/math.log(1.25)\n",
        "print(float(c))"
      ],
      "execution_count": null,
      "outputs": [
        {
          "output_type": "stream",
          "text": [
            "20\n",
            "80\n",
            "6.21256743901078\n"
          ],
          "name": "stdout"
        }
      ]
    },
    {
      "cell_type": "markdown",
      "metadata": {
        "id": "fvaHpnThvo9n"
      },
      "source": [
        "test"
      ]
    },
    {
      "cell_type": "code",
      "metadata": {
        "id": "X74ZJP0mvqVn",
        "colab": {
          "base_uri": "https://localhost:8080/",
          "height": 51
        },
        "outputId": "901136af-95fa-4f24-989c-30e739506456"
      },
      "source": [
        "n=int(input())\n",
        "a=bin(n)[2:]\n",
        "sum=0\n",
        "for i in a:\n",
        "    if i=='1':\n",
        "        sum=sum+1\n",
        "        #print(sum)\n",
        "    else: \n",
        "        sum=0\n",
        "if sum%2==0:\n",
        "    print(\"win\")\n",
        "else:\n",
        "    print(\"loss\")\n",
        "    \n",
        "        "
      ],
      "execution_count": null,
      "outputs": [
        {
          "output_type": "stream",
          "text": [
            "16\n",
            "win\n"
          ],
          "name": "stdout"
        }
      ]
    },
    {
      "cell_type": "code",
      "metadata": {
        "id": "gQ4pcp9ccBO7",
        "colab": {
          "base_uri": "https://localhost:8080/",
          "height": 51
        },
        "outputId": "8cdea681-54d4-4b07-ee60-6c0798496dbe"
      },
      "source": [
        "s=int(input())\n",
        "if s%3==0:\n",
        "  print(\"yes\")\n",
        "else:\n",
        "  print(\"not\")"
      ],
      "execution_count": null,
      "outputs": [
        {
          "output_type": "stream",
          "text": [
            "13\n",
            "not\n"
          ],
          "name": "stdout"
        }
      ]
    },
    {
      "cell_type": "markdown",
      "metadata": {
        "id": "mTcyYMCucUwn"
      },
      "source": [
        "516 Assume your brother studies in class 2. He has to  complete his homework on co-primes. As an elder sibling help him in finding whether the given two numbers is co-prime or not.\n",
        "\n",
        "Input Description:\n",
        "You will be given two numbers ‘n’ and ‘m’\n",
        "\n",
        "Output Description:\n",
        "Your task is to tell whether numbers is co prime or not. If it is a co-prime print 1 else 0\n",
        "\n",
        "Sample Input :\n",
        "3 5\n",
        "Sample Output :\n",
        "1"
      ]
    },
    {
      "cell_type": "code",
      "metadata": {
        "id": "IdIs0KT7cWni",
        "colab": {
          "base_uri": "https://localhost:8080/",
          "height": 51
        },
        "outputId": "3d45126f-a8e4-4c7f-e8c6-c0ef0fbec93d"
      },
      "source": [
        "import math\n",
        "a,b=map(int,input().split())\n",
        "if math.gcd(a,b)==1:\n",
        "  print(\"1\")\n",
        "else:\n",
        "  print(\"0\")"
      ],
      "execution_count": null,
      "outputs": [
        {
          "output_type": "stream",
          "text": [
            "3 5\n",
            "1\n"
          ],
          "name": "stdout"
        }
      ]
    },
    {
      "cell_type": "markdown",
      "metadata": {
        "id": "yiRL9A8SfhzI"
      },
      "source": [
        "520 "
      ]
    },
    {
      "cell_type": "code",
      "metadata": {
        "id": "RQT3PG-IfjSW",
        "colab": {
          "base_uri": "https://localhost:8080/",
          "height": 85
        },
        "outputId": "050ee211-1cb1-44cd-d218-86eccde16604"
      },
      "source": [
        "n=int(input())\n",
        "\n",
        "# Give list of numbers having size n\n",
        "l=list(map(int,input().strip().split(' ')))\n",
        "\n",
        "#print(\"Palindrome numbers are:\")\n",
        "# check through the list to check \n",
        "# number is palindrome or not\n",
        "for i in l:\n",
        "    num=str(i)\n",
        "    if(\"\".join(reversed(num))==num):\n",
        "        print(i)"
      ],
      "execution_count": null,
      "outputs": [
        {
          "output_type": "stream",
          "text": [
            "2\n",
            "1 121\n",
            "1\n",
            "121\n"
          ],
          "name": "stdout"
        }
      ]
    },
    {
      "cell_type": "markdown",
      "metadata": {
        "id": "yKGdCKc9DpaA"
      },
      "source": [
        "597 you are given with array of numbers.you have to find whether array is beautiful or not. A beautiful array is an array whose sum of all numbers is divisible by 2, 3 and 5\n",
        "\n",
        "Input Description:\n",
        "You are given a number ‘n’ denoting the size of array.Next line contains n space separated numbers.\n",
        "\n",
        "Output Description:\n",
        "Print 1 if array is beautiful and 0 if it is not\n",
        "\n",
        "Sample Input :\n",
        "5\n",
        "5 25 35 -5 30\n",
        "Sample Output :\n",
        "1"
      ]
    },
    {
      "cell_type": "code",
      "metadata": {
        "id": "IC5z0HMbDzeO",
        "colab": {
          "base_uri": "https://localhost:8080/",
          "height": 68
        },
        "outputId": "685383df-b636-49d7-dec5-fe39ef421ad8"
      },
      "source": [
        "limit=int(input())\n",
        "l=list(map(int,input().split()))[:limit]\n",
        "count=0\n",
        "for i in l:\n",
        "  count+=i\n",
        "if count%2==0 and count%3==0 and count%5==0:\n",
        "  print(\"1\")\n",
        "else:\n",
        "  print(\"0\")\n"
      ],
      "execution_count": null,
      "outputs": [
        {
          "output_type": "stream",
          "text": [
            "5\n",
            "5 25 35 -5 30\n",
            "1\n"
          ],
          "name": "stdout"
        }
      ]
    },
    {
      "cell_type": "markdown",
      "metadata": {
        "id": "VFG77rFNOdmH"
      },
      "source": [
        "How many possible ways are to shuffle given number of playing cards?.\n",
        "Input Size : |N| <= 1000000\n",
        "Sample Testcase :\n",
        "INPUT\n",
        "7\n",
        "OUTPUT\n",
        "5040"
      ]
    },
    {
      "cell_type": "code",
      "metadata": {
        "id": "YW86DXbDNmn4",
        "colab": {
          "base_uri": "https://localhost:8080/",
          "height": 51
        },
        "outputId": "ec767c42-a0c0-4753-aa38-d93dfc1c8c6d"
      },
      "source": [
        "n=int(input())\n",
        "s=1\n",
        "for i in range(n,0,-1):\n",
        "  s=s*i\n",
        "print(s)\n"
      ],
      "execution_count": null,
      "outputs": [
        {
          "output_type": "stream",
          "text": [
            "7\n",
            "5040\n"
          ],
          "name": "stdout"
        }
      ]
    },
    {
      "cell_type": "markdown",
      "metadata": {
        "id": "D6TKzOUbPFuE"
      },
      "source": [
        "223 Given a number N followed by a list of N numbers. Write a program to reverse the list and print the list.\n",
        "Input Size : 1 <= N <= 10000\n",
        "Sample Testcases :\n",
        "INPUT\n",
        "7\n",
        "1 2 3 4 5 6 7\n",
        "OUTPUT\n",
        "7->6->5->4->3->2->1"
      ]
    },
    {
      "cell_type": "code",
      "metadata": {
        "id": "sTdFOOIUPMxW",
        "colab": {
          "base_uri": "https://localhost:8080/",
          "height": 68
        },
        "outputId": "a214873e-a6fa-452f-ec2c-a6894d56de87"
      },
      "source": [
        "limit=int(input())\n",
        "l=list(map(str,input().split()))[:limit]\n",
        "l.reverse()\n",
        "a=(\"->\").join(l)\n",
        "print(a)\n",
        "\n",
        "    "
      ],
      "execution_count": null,
      "outputs": [
        {
          "output_type": "stream",
          "text": [
            "3\n",
            "1 2 3\n",
            "3->2->1\n"
          ],
          "name": "stdout"
        }
      ]
    },
    {
      "cell_type": "code",
      "metadata": {
        "id": "Vz5XAHyRPHNm"
      },
      "source": [
        ""
      ],
      "execution_count": null,
      "outputs": []
    },
    {
      "cell_type": "code",
      "metadata": {
        "id": "HbNYjbzQ719R",
        "colab": {
          "base_uri": "https://localhost:8080/",
          "height": 51
        },
        "outputId": "c56e8d6c-f64f-423d-9c84-7061f6674378"
      },
      "source": [
        "a=list(map(float,input().split()))\n",
        "b=len(a)\n",
        "c=sum(a)\n",
        "d=c/b\n",
        "print(round(d,2))"
      ],
      "execution_count": null,
      "outputs": [
        {
          "output_type": "stream",
          "text": [
            "45.1 36.2 81.3 23.5 45\n",
            "46.22\n"
          ],
          "name": "stdout"
        }
      ]
    },
    {
      "cell_type": "markdown",
      "metadata": {
        "id": "Kw2ocVEb9oTF"
      },
      "source": [
        "787 For this question, you will write a program that, given a positive integer M and a list of elements L, outputs the list element M links away from the end of the list. For this program, we will use 1-indexing. That means nth_to_last is the \"1st-to-last\" element, or simply the last element in the list.For this question, you will write a program that, given a positive integer M and a list of elements L, outputs the list element M links away from the end of the list. For this program, we will use 1-indexing. That means nth_to_last is the \"1st-to-last\" element, or simply the last element in the list.\n",
        "\n",
        "Input Description:\n",
        "The first line of input will be one single integer N The second line will have S spaced elements\n",
        "\n",
        "Output Description:\n",
        "The output will be the Nth number from 1st-to-last\n",
        "\n",
        "Sample Input :\n",
        "4\n",
        "10 200 3 40000 5\n",
        "Sample Output :\n",
        "200\n"
      ]
    },
    {
      "cell_type": "code",
      "metadata": {
        "id": "BnKwXDAz9eAl",
        "colab": {
          "base_uri": "https://localhost:8080/",
          "height": 68
        },
        "outputId": "c7b0d38c-a46e-4f6d-b2ef-a8081c238601"
      },
      "source": [
        "n=int(input())\n",
        "l=list(map(int,input().split()))\n",
        "if(n<=len(l)):\n",
        "    print(l[-n])\n",
        "else:\n",
        "\tprint()"
      ],
      "execution_count": null,
      "outputs": [
        {
          "output_type": "stream",
          "text": [
            "4\n",
            "10 200 3 40000 5\n",
            "200\n"
          ],
          "name": "stdout"
        }
      ]
    },
    {
      "cell_type": "markdown",
      "metadata": {
        "id": "p5bCA-N0lXaF"
      },
      "source": [
        "743 You are given a task is to print Mirrored Rhombus pattern using '*' by getting 'n' as input.\n",
        "\n",
        "Input Description:\n",
        "You are given number ‘n’.\n",
        "\n",
        "Output Description:\n",
        "Print the pattern as follows\n",
        "\n",
        "Sample Input :\n",
        "4\n",
        "Sample Output :\n",
        "****\n",
        " ****\n",
        "  ****\n",
        "   ****"
      ]
    },
    {
      "cell_type": "code",
      "metadata": {
        "id": "o2Vkyf07lct8",
        "colab": {
          "base_uri": "https://localhost:8080/",
          "height": 102
        },
        "outputId": "e4b2aca5-5a1d-4ed1-8e33-6499c107334b"
      },
      "source": [
        "n=int(input())\n",
        "for i in range(0,n):\n",
        "  print(\" \"*i+\"*\"*n)"
      ],
      "execution_count": null,
      "outputs": [
        {
          "output_type": "stream",
          "text": [
            "4\n",
            "****\n",
            " ****\n",
            "  ****\n",
            "   ****\n"
          ],
          "name": "stdout"
        }
      ]
    },
    {
      "cell_type": "markdown",
      "metadata": {
        "id": "yN_5si4gESKJ"
      },
      "source": [
        "810 Accept a string and find if it is of date format 'dd/mm/yy'."
      ]
    },
    {
      "cell_type": "code",
      "metadata": {
        "id": "AcXXaMz8EcRv",
        "colab": {
          "base_uri": "https://localhost:8080/",
          "height": 51
        },
        "outputId": "db9e6ebe-0eba-4f6f-ec51-f190f2353f5d"
      },
      "source": [
        "import datetime\n",
        "inputDate = input()\n",
        "day,month,year = inputDate.split('/')\n",
        "isValidDate = True\n",
        "try :\n",
        "    datetime.datetime(int(year),int(month),int(day))\n",
        "except ValueError :\n",
        "    isValidDate = False\n",
        "if(isValidDate) :\n",
        "    print (\"Valid\")\n",
        "else :\n",
        "    print (\"Not valid\")"
      ],
      "execution_count": null,
      "outputs": [
        {
          "output_type": "stream",
          "text": [
            "03/09/1999\n",
            "Input date is valid ..\n"
          ],
          "name": "stdout"
        }
      ]
    },
    {
      "cell_type": "markdown",
      "metadata": {
        "id": "8q_TobDE7nAt"
      },
      "source": [
        "808 Write a Program to Calculate the Number of Upper Case Letters and Lower Case Letters in a String"
      ]
    },
    {
      "cell_type": "code",
      "metadata": {
        "id": "9Hh_KciQ7oyT",
        "colab": {
          "base_uri": "https://localhost:8080/",
          "height": 68
        },
        "outputId": "03166895-b1f6-417d-d7d2-b3856907904c"
      },
      "source": [
        "s=input()\n",
        "c=0\n",
        "count=0\n",
        "for i in s:\n",
        "  if i.isupper():\n",
        "    c=c+1\n",
        "  elif i.islower():\n",
        "    count=count+1\n",
        "print(\"lowercase:\",count)\n",
        "print(\"uppercase:\",c)\n"
      ],
      "execution_count": null,
      "outputs": [
        {
          "output_type": "stream",
          "text": [
            "Hello\n",
            "lowercase: 4\n",
            "uppercase: 1\n"
          ],
          "name": "stdout"
        }
      ]
    },
    {
      "cell_type": "markdown",
      "metadata": {
        "id": "hCY2Is7q1gJq"
      },
      "source": [
        "733 Input Description:\n",
        "The first line of input will contain one integer value N - Number of coconut trees The second line of input will contain the heights of each coconut trees, each separated by spaces\n",
        "\n",
        "Output Description:\n",
        "One single number - The number of trees that you will climb\n",
        "\n",
        "Sample Input :\n",
        "5\n",
        "1 2 3 4 5\n",
        "Sample Output :\n",
        "1"
      ]
    },
    {
      "cell_type": "code",
      "metadata": {
        "id": "tJCOEe3H1nBI",
        "colab": {
          "base_uri": "https://localhost:8080/",
          "height": 68
        },
        "outputId": "8807590c-18d0-4366-8f33-94cc029df002"
      },
      "source": [
        "n=int(input())\n",
        "l=[int(i) for i in input().split()]\n",
        "a=min(l)\n",
        "b=l.count(a)\n",
        "print(b)"
      ],
      "execution_count": null,
      "outputs": [
        {
          "output_type": "stream",
          "text": [
            "5\n",
            "1 2 3 4 5\n",
            "1\n"
          ],
          "name": "stdout"
        }
      ]
    },
    {
      "cell_type": "markdown",
      "metadata": {
        "id": "EcwPpduRsEe3"
      },
      "source": [
        "794 Write a Program to Accept Three Digits and Print all Possible Combinations from the Digits\n",
        "\n",
        "Input Description:\n",
        "The input contains an integer\n",
        "\n",
        "Output Description:\n",
        "Print the possible combination from the string\n",
        "\n",
        "Sample Input :\n",
        "1 2 3\n",
        "Sample Output :\n",
        "1 2 3\n",
        "1 3 2\n",
        "2 1 3\n",
        "2 3 1\n",
        "3 1 2\n",
        "3 2 1\n"
      ]
    },
    {
      "cell_type": "code",
      "metadata": {
        "id": "gsws3BQlsHfW",
        "colab": {
          "base_uri": "https://localhost:8080/",
          "height": 136
        },
        "outputId": "e9aafd76-c0e0-40dd-adda-621aed1ff5dc"
      },
      "source": [
        "a,b,c=map(int,input().strip().split())\n",
        "d=[]\n",
        "d.append(a)\n",
        "d.append(b)\n",
        "d.append(c)\n",
        "for i in range(0,3):\n",
        "  for j in range(0,3):\n",
        "    for k in range(0,3):\n",
        "      if i!=j & j!=k & k!=i:\n",
        "        print(d[i],d[j],d[k])"
      ],
      "execution_count": null,
      "outputs": [
        {
          "output_type": "stream",
          "text": [
            "1 2 3\n",
            "1 2 3\n",
            "1 3 2\n",
            "2 1 3\n",
            "2 3 1\n",
            "3 1 2\n",
            "3 2 1\n"
          ],
          "name": "stdout"
        }
      ]
    },
    {
      "cell_type": "markdown",
      "metadata": {
        "id": "8nMx57OPnGc-"
      },
      "source": [
        "785 Print the most repeating term from the list of numbers\n",
        "\n",
        "Input Description:\n",
        "'n' spaced integers.\n",
        "\n",
        "Output Description:\n",
        "Single number 'X'\n",
        "\n",
        "Sample Input :\n",
        "1 2 3 4 5 6 2 2 2 1 1 1 1 1\n",
        "Sample Output :\n",
        "1"
      ]
    },
    {
      "cell_type": "code",
      "metadata": {
        "id": "U6ody6tRnH2q",
        "colab": {
          "base_uri": "https://localhost:8080/",
          "height": 51
        },
        "outputId": "764abc5e-1c40-4c35-f067-82fdfb82e541"
      },
      "source": [
        "def freq(List): \n",
        "    return max(set(List), key = List.count) \n",
        "List = input().split()\n",
        "print(freq(List))"
      ],
      "execution_count": null,
      "outputs": [
        {
          "output_type": "stream",
          "text": [
            "1 2 3 4 5 6 2 2 2 1 1 1 1 1\n",
            "1\n"
          ],
          "name": "stdout"
        }
      ]
    },
    {
      "cell_type": "markdown",
      "metadata": {
        "id": "p7Olc3iFF0fW"
      },
      "source": [
        "736 Ideal Pairs are hard to find, especially in numbers. Two numbers are said to be a pair if the sum of the factors of one number (excluding the number itself) is equal to the other number and vice versa. The numbers are lost and seeking your help find their pair back. Your task is to help the numbers find its pair back.\n",
        "\n",
        "Input Description:\n",
        "One single integer N 1<= N <=100000\n",
        "\n",
        "Output Description:\n",
        "One single integer, the pair of N\n",
        "\n",
        "Sample Input :\n",
        "220\n",
        "Sample Output :\n",
        "284"
      ]
    },
    {
      "cell_type": "code",
      "metadata": {
        "id": "J26i2hWkF6iQ",
        "colab": {
          "base_uri": "https://localhost:8080/",
          "height": 51
        },
        "outputId": "7d82e8a0-eb3c-4129-b2f2-a582069b5177"
      },
      "source": [
        "def p(n,c):\n",
        "    s = 0\n",
        "    if c >= n:\n",
        "        return n\n",
        "    if n % c == 0:\n",
        "        s += c\n",
        "        print(s,end=',')\n",
        "    return p(n,c+1)\n",
        "n = int(input('enter no:'))\n",
        "c = 1\n",
        "print(p(n,c))"
      ],
      "execution_count": null,
      "outputs": [
        {
          "output_type": "stream",
          "text": [
            "enter no:220\n",
            "1,2,4,5,10,11,20,22,44,55,110,220\n"
          ],
          "name": "stdout"
        }
      ]
    },
    {
      "cell_type": "markdown",
      "metadata": {
        "id": "fu5lLfgP-5Z5"
      },
      "source": [
        "825 Write a Program to test Collatz Conjecture for a Given Number"
      ]
    },
    {
      "cell_type": "code",
      "metadata": {
        "id": "fhF7EJsy-7-_",
        "colab": {
          "base_uri": "https://localhost:8080/",
          "height": 51
        },
        "outputId": "fe9287c4-c08c-4482-a58f-3838e964d8e9"
      },
      "source": [
        "def collatz(n):\n",
        "    while n > 1:\n",
        "        print(n, end=' ')\n",
        "        if (n % 2):\n",
        "            # n is odd\n",
        "            n = 3*n + 1\n",
        "        else:\n",
        "            # n is even\n",
        "            n = n//2\n",
        "    print(1, end='')\n",
        "n = int(input())\n",
        "print( end='')\n",
        "collatz(n)"
      ],
      "execution_count": null,
      "outputs": [
        {
          "output_type": "stream",
          "text": [
            "4\n",
            "4 2 1"
          ],
          "name": "stdout"
        }
      ]
    },
    {
      "cell_type": "markdown",
      "metadata": {
        "id": "_vHHkhhWmaw3"
      },
      "source": [
        "792 Write a Program to Convert Kilometers to Miles (2 Precision)"
      ]
    },
    {
      "cell_type": "code",
      "metadata": {
        "id": "yZhnOb_rmc9w",
        "colab": {
          "base_uri": "https://localhost:8080/",
          "height": 51
        },
        "outputId": "8114fed9-39ef-4a69-ca70-a19bc18df453"
      },
      "source": [
        "m=float(input())\n",
        "c=0.621371\n",
        "miles=m*c\n",
        "print(\"%.2f\"%miles)"
      ],
      "execution_count": null,
      "outputs": [
        {
          "output_type": "stream",
          "text": [
            "2.00\n",
            "1.24\n"
          ],
          "name": "stdout"
        }
      ]
    },
    {
      "cell_type": "markdown",
      "metadata": {
        "id": "ia5HbhQanrPX"
      },
      "source": [
        "819 Write a program to replace by \"*\" in the middle of a string."
      ]
    },
    {
      "cell_type": "code",
      "metadata": {
        "id": "KFUloy9FnvDM",
        "colab": {
          "base_uri": "https://localhost:8080/",
          "height": 51
        },
        "outputId": "4cc63e19-c01a-4da0-83df-733326cb8b03"
      },
      "source": [
        "n=list(input())\n",
        "k=len(n)\n",
        "if(k%2==0):\n",
        "  l=k//2\n",
        "  m=l-1\n",
        "  n[l]='*'\n",
        "  n[m]='*'\n",
        "elif(k%2==1):\n",
        "  l=k//2\n",
        "  n[l]='*'\n",
        "print(\"\".join(n))"
      ],
      "execution_count": null,
      "outputs": [
        {
          "output_type": "stream",
          "text": [
            "aashikha\n",
            "aas**kha\n"
          ],
          "name": "stdout"
        }
      ]
    },
    {
      "cell_type": "markdown",
      "metadata": {
        "id": "d7M4wPNjNYcK"
      },
      "source": [
        "816 write a program to check the given number is a deficient number or not"
      ]
    },
    {
      "cell_type": "code",
      "metadata": {
        "id": "cFxif5EXNa1U",
        "colab": {
          "base_uri": "https://localhost:8080/",
          "height": 51
        },
        "outputId": "348e60ea-52e9-446d-fc8e-0f76117094a0"
      },
      "source": [
        "import math\n",
        "def divisorsSum(n) :\n",
        "   sum = 0  \n",
        "   i = 1\n",
        "   while i<= math.sqrt(n) :\n",
        "       if (n % i == 0) :\n",
        "           if (n / i == i) :\n",
        "               sum = sum + i\n",
        "           else :\n",
        "               sum = sum + i;\n",
        "               sum = sum + (n / i)\n",
        "       i = i + 1\n",
        "   return sum\n",
        "def isDeficient(n) :\n",
        "   return (divisorsSum(n) < (2 * n))\n",
        "n=int(input())\n",
        "if ( isDeficient(n) ):\n",
        "   print (\"Yes\")\n",
        "else :  \n",
        "   print (\"No\")"
      ],
      "execution_count": null,
      "outputs": [
        {
          "output_type": "stream",
          "text": [
            "284\n",
            "Yes\n"
          ],
          "name": "stdout"
        }
      ]
    },
    {
      "cell_type": "markdown",
      "metadata": {
        "id": "52U-ADesOj-i"
      },
      "source": [
        "817 Write a program to check the given number is an abundant number or not"
      ]
    },
    {
      "cell_type": "code",
      "metadata": {
        "id": "_rT9GLWLOmRD",
        "colab": {
          "base_uri": "https://localhost:8080/",
          "height": 51
        },
        "outputId": "c72670db-5252-45a3-e4a9-c3297cc14c93"
      },
      "source": [
        "import math\n",
        "def getSum(n) :\n",
        "   sum = 0\n",
        "   i = 1\n",
        "   while i <= (math.sqrt(n)) :\n",
        "       if n%i == 0 :\n",
        "           if n/i == i :\n",
        "               sum = sum + i\n",
        "           else :\n",
        "               sum = sum + i\n",
        "               sum = sum + (n / i )\n",
        "       i = i + 1\n",
        "     \n",
        "   sum = sum - n\n",
        "   return sum\n",
        "def checkAbundant(n) :\n",
        "   if (getSum(n) > n) :\n",
        "       return 1\n",
        "   else :\n",
        "       return 0\n",
        "l=int(input())\n",
        "if(checkAbundant(l)==1) :\n",
        "   print(\"Yes\")\n",
        "else :\n",
        "   print(\"No\")\n"
      ],
      "execution_count": null,
      "outputs": [
        {
          "output_type": "stream",
          "text": [
            "220\n",
            "Yes\n"
          ],
          "name": "stdout"
        }
      ]
    },
    {
      "cell_type": "markdown",
      "metadata": {
        "id": "G75ynQz0POQo"
      },
      "source": [
        "814 Write a program to check the given two number is betrothed number or not"
      ]
    },
    {
      "cell_type": "code",
      "metadata": {
        "id": "4gI54xuqPQe7",
        "colab": {
          "base_uri": "https://localhost:8080/",
          "height": 51
        },
        "outputId": "6a8e16e7-c93e-4510-dc7f-831c6f4098eb"
      },
      "source": [
        "def abu(n):\n",
        "   sum=0\n",
        "   for i in range(1,n//2+1,+1):\n",
        "       if(n%i==0):\n",
        "           sum+=i\n",
        "   return sum\n",
        "\n",
        "l,m=map(int,input().split(\" \"))\n",
        "o=abu(l)\n",
        "h=abu(m)\n",
        "if(l+1==h and m+1==o):\n",
        "   print(\"Yes\")\n",
        "else:\n",
        "   print(\"No\")"
      ],
      "execution_count": null,
      "outputs": [
        {
          "output_type": "stream",
          "text": [
            "48 75\n",
            "Yes\n"
          ],
          "name": "stdout"
        }
      ]
    },
    {
      "cell_type": "markdown",
      "metadata": {
        "id": "xLWFlFmvobbL"
      },
      "source": [
        "796 Write a Program to Count Set Bits in a Number"
      ]
    },
    {
      "cell_type": "code",
      "metadata": {
        "id": "3NDhIXfSoeF8",
        "colab": {
          "base_uri": "https://localhost:8080/",
          "height": 51
        },
        "outputId": "d2bff278-1e52-48a6-c5cc-2ecf7e7c4e4d"
      },
      "source": [
        "#import math\n",
        "number=int(input())\n",
        "c=bin(number)\n",
        "d=c[2:]\n",
        "#print(d)\n",
        "count=0\n",
        "for i in d:\n",
        "  if i=='1':\n",
        "    count=count+1\n",
        "print(count)"
      ],
      "execution_count": null,
      "outputs": [
        {
          "output_type": "stream",
          "text": [
            "22\n",
            "3\n"
          ],
          "name": "stdout"
        }
      ]
    },
    {
      "cell_type": "markdown",
      "metadata": {
        "id": "odD05p6s4Ac8"
      },
      "source": [
        "812 Write a program to check the given number is Adam number or not"
      ]
    },
    {
      "cell_type": "code",
      "metadata": {
        "id": "39C6ieMP4GtQ",
        "colab": {
          "base_uri": "https://localhost:8080/",
          "height": 51
        },
        "outputId": "f00c1207-9052-47dd-8862-05a34f0cbe5a"
      },
      "source": [
        "n=input()\n",
        "rn=n[::-1]\n",
        "n1=int(n)\n",
        "rn2=int(rn)\n",
        "n1=str(n1*n1)\n",
        "rn2=str(rn2*rn2)\n",
        "if n1==rn2[::-1] and rn2==n1[::-1]:\n",
        "  print(\"Yes\")\n",
        "else:\n",
        "  print(\"No\")"
      ],
      "execution_count": null,
      "outputs": [
        {
          "output_type": "stream",
          "text": [
            "12\n",
            "Yes\n"
          ],
          "name": "stdout"
        }
      ]
    },
    {
      "cell_type": "markdown",
      "metadata": {
        "id": "Fli6PsK_vRAW"
      },
      "source": [
        "756 Consider the following series:\n",
        "\n",
        " 1,1,2,3,4,9,8,27,16,81,32,243,64,729,128,2187………\n",
        "\n",
        "This series is a mixture of 2 series – all  the odd terms in this series form a geometric series and all the even terms form yet another geometric series.                        \n",
        "\n",
        "Write a program to find the Nth term in this series."
      ]
    },
    {
      "cell_type": "code",
      "metadata": {
        "id": "YJb7XcjevULh",
        "colab": {
          "base_uri": "https://localhost:8080/",
          "height": 51
        },
        "outputId": "1bb8b4d4-4dd5-44d7-b754-dd8edd9d8455"
      },
      "source": [
        "n=int(input())    \n",
        "if n % 2 == 0: \n",
        "    n //= 2\n",
        "    print(3 ** (n - 1)) \n",
        "else: \n",
        "    n = (n // 2) + 1\n",
        "    print(2 ** (n - 1)) "
      ],
      "execution_count": null,
      "outputs": [
        {
          "output_type": "stream",
          "text": [
            "16\n",
            "2187\n"
          ],
          "name": "stdout"
        }
      ]
    },
    {
      "cell_type": "markdown",
      "metadata": {
        "id": "XO3WeYM9-nmh"
      },
      "source": [
        "757 Look at the series below: 1,2,3,5,8,13,21,34,55,89,144,233,377,610,987,…..\n",
        "\n",
        "This series is formed as below:\n",
        "\n",
        " 1.term(1)=1\n",
        "\n",
        "2.term(2)=2\n",
        "\n",
        "3.term(N)=term(N-1)+term(N-2)for N>2"
      ]
    },
    {
      "cell_type": "code",
      "metadata": {
        "id": "PCVy6Iu3-qCu",
        "colab": {
          "base_uri": "https://localhost:8080/",
          "height": 51
        },
        "outputId": "b2eb6ae4-3a8f-4d87-9e4c-9d1eb33f226e"
      },
      "source": [
        "n=int(input())\n",
        "list=[]\n",
        "list.append(1)\n",
        "list.append(2)\n",
        "if n>2:\n",
        "  for i in range(2,n):\n",
        "    list.append(list[i-1]+list[i-2])\n",
        "  print(list[n-1])\n"
      ],
      "execution_count": null,
      "outputs": [
        {
          "output_type": "stream",
          "text": [
            "15\n",
            "987\n"
          ],
          "name": "stdout"
        }
      ]
    },
    {
      "cell_type": "markdown",
      "metadata": {
        "id": "RzRMnX9mqDbw"
      },
      "source": [
        "739 You are given a task is to print triangle shaped pattern using numbers by getting a number n as input."
      ]
    },
    {
      "cell_type": "code",
      "metadata": {
        "id": "bo7u23JWqGGM",
        "colab": {
          "base_uri": "https://localhost:8080/",
          "height": 102
        },
        "outputId": "4cafa8f7-e0cf-471c-dc9f-88b0e3a9f201"
      },
      "source": [
        "n=int(input())\n",
        "for i in range(0,n):\n",
        "   print(\" \"*(n-i-1),end=\"\")\n",
        "   for j in range(0,i+1):\n",
        "       print(n-i,end=\"\")\n",
        "   print()"
      ],
      "execution_count": null,
      "outputs": [
        {
          "output_type": "stream",
          "text": [
            "4\n",
            "   4\n",
            "  33\n",
            " 222\n",
            "1111\n"
          ],
          "name": "stdout"
        }
      ]
    },
    {
      "cell_type": "markdown",
      "metadata": {
        "id": "xFf89ZjZmfRg"
      },
      "source": [
        "747 You are given a task is to print pattern using numbers by getting n as input.\n",
        "\n",
        "Input Description:\n",
        "You are given an integer ‘n’\n",
        "\n",
        "Output Description:\n",
        "Print pattern as shown\n",
        "\n",
        "Sample Input :\n",
        "4\n",
        "Sample Output :\n",
        "1234321\n",
        "123 321\n",
        "12   21\n",
        "1     1"
      ]
    },
    {
      "cell_type": "code",
      "metadata": {
        "id": "MscgCG5imjsE",
        "colab": {
          "base_uri": "https://localhost:8080/",
          "height": 85
        },
        "outputId": "594da186-b104-4662-9139-8e15ba0ff3e2"
      },
      "source": [
        "n=int(input())\n",
        "for i in range(n):\n",
        "  for j in range(n):\n",
        "    if(i+j<=n-1):\n",
        "      print(j+1,sep='',end='')\n",
        "    else:\n",
        "      print(\" \",sep='',end='')\n",
        "for j in range(1,n):\n",
        "  if(i<=j):\n",
        "    print(n-j,sep='',end='')\n",
        "  else:\n",
        "      print(\" \",sep='',end='')\n",
        "      print()"
      ],
      "execution_count": null,
      "outputs": [
        {
          "output_type": "stream",
          "text": [
            "4\n",
            "1234123 12  1    \n",
            " \n",
            "1"
          ],
          "name": "stdout"
        }
      ]
    },
    {
      "cell_type": "markdown",
      "metadata": {
        "id": "ICKsKJ-Pr2Oi"
      },
      "source": [
        "741 You are given a task is to print pattern using alphabets by getting input of n.\n",
        "\n",
        "Input Description:\n",
        "You are given number ‘n’.\n",
        "\n",
        "Output Description:\n",
        "Print pattern\n",
        "\n",
        "Sample Input :\n",
        "4\n",
        "Sample Output :\n",
        "a\n",
        "bb\n",
        "ccc\n",
        "dddd"
      ]
    },
    {
      "cell_type": "code",
      "metadata": {
        "id": "xOgKVb6Or7Gc",
        "colab": {
          "base_uri": "https://localhost:8080/",
          "height": 102
        },
        "outputId": "b27e8f42-1c33-47d7-8e19-a7f4b317053c"
      },
      "source": [
        "n=int(input())\n",
        "for i in range(n):\n",
        "   print((chr(97+i))*(i+1))"
      ],
      "execution_count": null,
      "outputs": [
        {
          "output_type": "stream",
          "text": [
            "4\n",
            "a\n",
            "bb\n",
            "ccc\n",
            "dddd\n"
          ],
          "name": "stdout"
        }
      ]
    },
    {
      "cell_type": "markdown",
      "metadata": {
        "id": "5rv_XyJMRyBa"
      },
      "source": [
        "801 Write a Program to Check if a Date is Valid and Print the Incremented Date Otherwise Invalid"
      ]
    },
    {
      "cell_type": "code",
      "metadata": {
        "id": "qp262FpSR08Z",
        "colab": {
          "base_uri": "https://localhost:8080/",
          "height": 51
        },
        "outputId": "241eb71b-c318-4eb4-ce8e-4e0681b31da2"
      },
      "source": [
        "n1,n2,n3=map(int,input().split())\n",
        "if n2==12 and n1==31:\n",
        "   n3=n3+1\n",
        "   n2=1\n",
        "   n1=1\n",
        "elif ((n2>=1 and n2<=11) and (n1==31 or n1==30 or n1==28 or n1==29)):\n",
        " n2=n2+1\n",
        "else:\n",
        " n1=n1+1\n",
        "print(n1,end=\" \")\n",
        "print(n2,end=\" \")\n",
        "print(n3)"
      ],
      "execution_count": null,
      "outputs": [
        {
          "output_type": "stream",
          "text": [
            "16 1 2020\n",
            "17 1 2020\n"
          ],
          "name": "stdout"
        }
      ]
    },
    {
      "cell_type": "markdown",
      "metadata": {
        "id": "4o4CwZirTPN-"
      },
      "source": [
        "788 Write a program to check whether the given string is a pan card format or not. if its pan card format print Yes otherwise No"
      ]
    },
    {
      "cell_type": "code",
      "metadata": {
        "id": "gJnzqA4tTT2a",
        "colab": {
          "base_uri": "https://localhost:8080/",
          "height": 51
        },
        "outputId": "621a1f5f-9850-4d8d-e0c1-9523a78adbb4"
      },
      "source": [
        "n=input()\n",
        "if n.isalnum():\n",
        "  print('Yes')\n",
        "else:\n",
        "  print('No')"
      ],
      "execution_count": null,
      "outputs": [
        {
          "output_type": "stream",
          "text": [
            "CSBDS1111C\n",
            "Yes\n"
          ],
          "name": "stdout"
        }
      ]
    },
    {
      "cell_type": "markdown",
      "metadata": {
        "id": "RKe5OqPXpiCa"
      },
      "source": [
        "800 Write a  Program to Clear the Rightmost Set Bit of a Number"
      ]
    },
    {
      "cell_type": "code",
      "metadata": {
        "id": "Dz0JUVE9ptTN",
        "colab": {
          "base_uri": "https://localhost:8080/",
          "height": 51
        },
        "outputId": "31306d89-726b-46e8-a74b-647b9336be24"
      },
      "source": [
        "n=int(input())\n",
        "a=n &n-1\n",
        "print(a)"
      ],
      "execution_count": null,
      "outputs": [
        {
          "output_type": "stream",
          "text": [
            "5\n",
            "4\n"
          ],
          "name": "stdout"
        }
      ]
    },
    {
      "cell_type": "markdown",
      "metadata": {
        "id": "IyJQ5Z12X2vc"
      },
      "source": [
        "798 Write a  program takes in the number of terms and finds the sum of the sine series."
      ]
    },
    {
      "cell_type": "code",
      "metadata": {
        "id": "_sqKOC8ZX7xK",
        "colab": {
          "base_uri": "https://localhost:8080/",
          "height": 527
        },
        "outputId": "33c1104c-a6e1-45a2-c175-37590d666be1"
      },
      "source": [
        "import math\n",
        "def sin(x,n):\n",
        "    sine = 0\n",
        "    for i in range(n):\n",
        "        sign = (-1)**i\n",
        "        pi=22/7\n",
        "        y=x*(pi/180)\n",
        "        sine = sine + ((y**(2.0*i+1))/math.factorial(2*i+1))*sign\n",
        "    return sine\n",
        "x,n=map(int,input().split())\n",
        "print(round(sin(x,n),2))"
      ],
      "execution_count": null,
      "outputs": [
        {
          "output_type": "error",
          "ename": "KeyboardInterrupt",
          "evalue": "ignored",
          "traceback": [
            "\u001b[0;31m---------------------------------------------------------------------------\u001b[0m",
            "\u001b[0;31mKeyboardInterrupt\u001b[0m                         Traceback (most recent call last)",
            "\u001b[0;32m/usr/local/lib/python3.6/dist-packages/ipykernel/kernelbase.py\u001b[0m in \u001b[0;36m_input_request\u001b[0;34m(self, prompt, ident, parent, password)\u001b[0m\n\u001b[1;32m    729\u001b[0m             \u001b[0;32mtry\u001b[0m\u001b[0;34m:\u001b[0m\u001b[0;34m\u001b[0m\u001b[0;34m\u001b[0m\u001b[0m\n\u001b[0;32m--> 730\u001b[0;31m                 \u001b[0mident\u001b[0m\u001b[0;34m,\u001b[0m \u001b[0mreply\u001b[0m \u001b[0;34m=\u001b[0m \u001b[0mself\u001b[0m\u001b[0;34m.\u001b[0m\u001b[0msession\u001b[0m\u001b[0;34m.\u001b[0m\u001b[0mrecv\u001b[0m\u001b[0;34m(\u001b[0m\u001b[0mself\u001b[0m\u001b[0;34m.\u001b[0m\u001b[0mstdin_socket\u001b[0m\u001b[0;34m,\u001b[0m \u001b[0;36m0\u001b[0m\u001b[0;34m)\u001b[0m\u001b[0;34m\u001b[0m\u001b[0;34m\u001b[0m\u001b[0m\n\u001b[0m\u001b[1;32m    731\u001b[0m             \u001b[0;32mexcept\u001b[0m \u001b[0mException\u001b[0m\u001b[0;34m:\u001b[0m\u001b[0;34m\u001b[0m\u001b[0;34m\u001b[0m\u001b[0m\n",
            "\u001b[0;32m/usr/local/lib/python3.6/dist-packages/jupyter_client/session.py\u001b[0m in \u001b[0;36mrecv\u001b[0;34m(self, socket, mode, content, copy)\u001b[0m\n\u001b[1;32m    802\u001b[0m         \u001b[0;32mtry\u001b[0m\u001b[0;34m:\u001b[0m\u001b[0;34m\u001b[0m\u001b[0;34m\u001b[0m\u001b[0m\n\u001b[0;32m--> 803\u001b[0;31m             \u001b[0mmsg_list\u001b[0m \u001b[0;34m=\u001b[0m \u001b[0msocket\u001b[0m\u001b[0;34m.\u001b[0m\u001b[0mrecv_multipart\u001b[0m\u001b[0;34m(\u001b[0m\u001b[0mmode\u001b[0m\u001b[0;34m,\u001b[0m \u001b[0mcopy\u001b[0m\u001b[0;34m=\u001b[0m\u001b[0mcopy\u001b[0m\u001b[0;34m)\u001b[0m\u001b[0;34m\u001b[0m\u001b[0;34m\u001b[0m\u001b[0m\n\u001b[0m\u001b[1;32m    804\u001b[0m         \u001b[0;32mexcept\u001b[0m \u001b[0mzmq\u001b[0m\u001b[0;34m.\u001b[0m\u001b[0mZMQError\u001b[0m \u001b[0;32mas\u001b[0m \u001b[0me\u001b[0m\u001b[0;34m:\u001b[0m\u001b[0;34m\u001b[0m\u001b[0;34m\u001b[0m\u001b[0m\n",
            "\u001b[0;32m/usr/local/lib/python3.6/dist-packages/zmq/sugar/socket.py\u001b[0m in \u001b[0;36mrecv_multipart\u001b[0;34m(self, flags, copy, track)\u001b[0m\n\u001b[1;32m    465\u001b[0m         \"\"\"\n\u001b[0;32m--> 466\u001b[0;31m         \u001b[0mparts\u001b[0m \u001b[0;34m=\u001b[0m \u001b[0;34m[\u001b[0m\u001b[0mself\u001b[0m\u001b[0;34m.\u001b[0m\u001b[0mrecv\u001b[0m\u001b[0;34m(\u001b[0m\u001b[0mflags\u001b[0m\u001b[0;34m,\u001b[0m \u001b[0mcopy\u001b[0m\u001b[0;34m=\u001b[0m\u001b[0mcopy\u001b[0m\u001b[0;34m,\u001b[0m \u001b[0mtrack\u001b[0m\u001b[0;34m=\u001b[0m\u001b[0mtrack\u001b[0m\u001b[0;34m)\u001b[0m\u001b[0;34m]\u001b[0m\u001b[0;34m\u001b[0m\u001b[0;34m\u001b[0m\u001b[0m\n\u001b[0m\u001b[1;32m    467\u001b[0m         \u001b[0;31m# have first part already, only loop while more to receive\u001b[0m\u001b[0;34m\u001b[0m\u001b[0;34m\u001b[0m\u001b[0;34m\u001b[0m\u001b[0m\n",
            "\u001b[0;32mzmq/backend/cython/socket.pyx\u001b[0m in \u001b[0;36mzmq.backend.cython.socket.Socket.recv\u001b[0;34m()\u001b[0m\n",
            "\u001b[0;32mzmq/backend/cython/socket.pyx\u001b[0m in \u001b[0;36mzmq.backend.cython.socket.Socket.recv\u001b[0;34m()\u001b[0m\n",
            "\u001b[0;32mzmq/backend/cython/socket.pyx\u001b[0m in \u001b[0;36mzmq.backend.cython.socket._recv_copy\u001b[0;34m()\u001b[0m\n",
            "\u001b[0;32m/usr/local/lib/python3.6/dist-packages/zmq/backend/cython/checkrc.pxd\u001b[0m in \u001b[0;36mzmq.backend.cython.checkrc._check_rc\u001b[0;34m()\u001b[0m\n",
            "\u001b[0;31mKeyboardInterrupt\u001b[0m: ",
            "\nDuring handling of the above exception, another exception occurred:\n",
            "\u001b[0;31mKeyboardInterrupt\u001b[0m                         Traceback (most recent call last)",
            "\u001b[0;32m<ipython-input-52-03191a9ba092>\u001b[0m in \u001b[0;36m<module>\u001b[0;34m()\u001b[0m\n\u001b[1;32m      8\u001b[0m         \u001b[0msine\u001b[0m \u001b[0;34m=\u001b[0m \u001b[0msine\u001b[0m \u001b[0;34m+\u001b[0m \u001b[0;34m(\u001b[0m\u001b[0;34m(\u001b[0m\u001b[0my\u001b[0m\u001b[0;34m**\u001b[0m\u001b[0;34m(\u001b[0m\u001b[0;36m2.0\u001b[0m\u001b[0;34m*\u001b[0m\u001b[0mi\u001b[0m\u001b[0;34m+\u001b[0m\u001b[0;36m1\u001b[0m\u001b[0;34m)\u001b[0m\u001b[0;34m)\u001b[0m\u001b[0;34m/\u001b[0m\u001b[0mmath\u001b[0m\u001b[0;34m.\u001b[0m\u001b[0mfactorial\u001b[0m\u001b[0;34m(\u001b[0m\u001b[0;36m2\u001b[0m\u001b[0;34m*\u001b[0m\u001b[0mi\u001b[0m\u001b[0;34m+\u001b[0m\u001b[0;36m1\u001b[0m\u001b[0;34m)\u001b[0m\u001b[0;34m)\u001b[0m\u001b[0;34m*\u001b[0m\u001b[0msign\u001b[0m\u001b[0;34m\u001b[0m\u001b[0;34m\u001b[0m\u001b[0m\n\u001b[1;32m      9\u001b[0m     \u001b[0;32mreturn\u001b[0m \u001b[0msine\u001b[0m\u001b[0;34m\u001b[0m\u001b[0;34m\u001b[0m\u001b[0m\n\u001b[0;32m---> 10\u001b[0;31m \u001b[0mx\u001b[0m\u001b[0;34m,\u001b[0m\u001b[0mn\u001b[0m\u001b[0;34m=\u001b[0m\u001b[0mmap\u001b[0m\u001b[0;34m(\u001b[0m\u001b[0mint\u001b[0m\u001b[0;34m,\u001b[0m\u001b[0minput\u001b[0m\u001b[0;34m(\u001b[0m\u001b[0;34m)\u001b[0m\u001b[0;34m.\u001b[0m\u001b[0msplit\u001b[0m\u001b[0;34m(\u001b[0m\u001b[0;34m)\u001b[0m\u001b[0;34m)\u001b[0m\u001b[0;34m\u001b[0m\u001b[0;34m\u001b[0m\u001b[0m\n\u001b[0m\u001b[1;32m     11\u001b[0m \u001b[0mprint\u001b[0m\u001b[0;34m(\u001b[0m\u001b[0mround\u001b[0m\u001b[0;34m(\u001b[0m\u001b[0msin\u001b[0m\u001b[0;34m(\u001b[0m\u001b[0mx\u001b[0m\u001b[0;34m,\u001b[0m\u001b[0mn\u001b[0m\u001b[0;34m)\u001b[0m\u001b[0;34m,\u001b[0m\u001b[0;36m2\u001b[0m\u001b[0;34m)\u001b[0m\u001b[0;34m)\u001b[0m\u001b[0;34m\u001b[0m\u001b[0;34m\u001b[0m\u001b[0m\n",
            "\u001b[0;32m/usr/local/lib/python3.6/dist-packages/ipykernel/kernelbase.py\u001b[0m in \u001b[0;36mraw_input\u001b[0;34m(self, prompt)\u001b[0m\n\u001b[1;32m    703\u001b[0m             \u001b[0mself\u001b[0m\u001b[0;34m.\u001b[0m\u001b[0m_parent_ident\u001b[0m\u001b[0;34m,\u001b[0m\u001b[0;34m\u001b[0m\u001b[0;34m\u001b[0m\u001b[0m\n\u001b[1;32m    704\u001b[0m             \u001b[0mself\u001b[0m\u001b[0;34m.\u001b[0m\u001b[0m_parent_header\u001b[0m\u001b[0;34m,\u001b[0m\u001b[0;34m\u001b[0m\u001b[0;34m\u001b[0m\u001b[0m\n\u001b[0;32m--> 705\u001b[0;31m             \u001b[0mpassword\u001b[0m\u001b[0;34m=\u001b[0m\u001b[0;32mFalse\u001b[0m\u001b[0;34m,\u001b[0m\u001b[0;34m\u001b[0m\u001b[0;34m\u001b[0m\u001b[0m\n\u001b[0m\u001b[1;32m    706\u001b[0m         )\n\u001b[1;32m    707\u001b[0m \u001b[0;34m\u001b[0m\u001b[0m\n",
            "\u001b[0;32m/usr/local/lib/python3.6/dist-packages/ipykernel/kernelbase.py\u001b[0m in \u001b[0;36m_input_request\u001b[0;34m(self, prompt, ident, parent, password)\u001b[0m\n\u001b[1;32m    733\u001b[0m             \u001b[0;32mexcept\u001b[0m \u001b[0mKeyboardInterrupt\u001b[0m\u001b[0;34m:\u001b[0m\u001b[0;34m\u001b[0m\u001b[0;34m\u001b[0m\u001b[0m\n\u001b[1;32m    734\u001b[0m                 \u001b[0;31m# re-raise KeyboardInterrupt, to truncate traceback\u001b[0m\u001b[0;34m\u001b[0m\u001b[0;34m\u001b[0m\u001b[0;34m\u001b[0m\u001b[0m\n\u001b[0;32m--> 735\u001b[0;31m                 \u001b[0;32mraise\u001b[0m \u001b[0mKeyboardInterrupt\u001b[0m\u001b[0;34m\u001b[0m\u001b[0;34m\u001b[0m\u001b[0m\n\u001b[0m\u001b[1;32m    736\u001b[0m             \u001b[0;32melse\u001b[0m\u001b[0;34m:\u001b[0m\u001b[0;34m\u001b[0m\u001b[0;34m\u001b[0m\u001b[0m\n\u001b[1;32m    737\u001b[0m                 \u001b[0;32mbreak\u001b[0m\u001b[0;34m\u001b[0m\u001b[0;34m\u001b[0m\u001b[0m\n",
            "\u001b[0;31mKeyboardInterrupt\u001b[0m: "
          ]
        }
      ]
    },
    {
      "cell_type": "markdown",
      "metadata": {
        "id": "eTBWjKeAYp0a"
      },
      "source": [
        ""
      ]
    },
    {
      "cell_type": "markdown",
      "metadata": {
        "id": "fEvlVRqXYthq"
      },
      "source": [
        "802 Write a Program to Compute Simple Interest Given all the Required Values"
      ]
    },
    {
      "cell_type": "code",
      "metadata": {
        "id": "xH1CL-DRYx-5",
        "colab": {
          "base_uri": "https://localhost:8080/",
          "height": 85
        },
        "outputId": "e4d6f132-aa1a-4af8-c56d-8b99f4995b60"
      },
      "source": [
        "p=float(input())\n",
        "n=int(input())\n",
        "r=float(input())\n",
        "i=(p*n*r)/100\n",
        "print(i)"
      ],
      "execution_count": null,
      "outputs": [
        {
          "output_type": "stream",
          "text": [
            "2000.00\n",
            "2\n",
            "1.0\n",
            "40.0\n"
          ],
          "name": "stdout"
        }
      ]
    },
    {
      "cell_type": "markdown",
      "metadata": {
        "id": "5RfXSSZUaXrw"
      },
      "source": [
        "811 Python Program to Count the Number of Vowels in a String"
      ]
    },
    {
      "cell_type": "code",
      "metadata": {
        "id": "kYn1YdG1abMe",
        "colab": {
          "base_uri": "https://localhost:8080/",
          "height": 51
        },
        "outputId": "1c7dfbad-ec0f-4212-9003-121c5a975396"
      },
      "source": [
        "n=input()\n",
        "v=0\n",
        "for i in n:\n",
        "  if(i=='a' or i=='e' or i=='i' or i=='o' or i=='u' or i=='A' or i=='E' or i=='I' or i=='O' or i=='U'):\n",
        "    v=v+1\n",
        "print(v) "
      ],
      "execution_count": null,
      "outputs": [
        {
          "output_type": "stream",
          "text": [
            "apple\n",
            "2\n"
          ],
          "name": "stdout"
        }
      ]
    },
    {
      "cell_type": "markdown",
      "metadata": {
        "id": "rtyZ_BiGdp_1"
      },
      "source": [
        "790 "
      ]
    },
    {
      "cell_type": "markdown",
      "metadata": {
        "id": "0NkrE1KkfQ97"
      },
      "source": [
        "Write a Program to Remove Punctuations From a String"
      ]
    },
    {
      "cell_type": "code",
      "metadata": {
        "id": "-F9dw6JUdrwG",
        "colab": {
          "base_uri": "https://localhost:8080/",
          "height": 51
        },
        "outputId": "ce4c01b6-7728-47e5-ad29-f88b631e5b65"
      },
      "source": [
        "# define punctuation\n",
        "punctuations = '''!()-[]{};:'\"\\,<>./?@#$%^&*_~'''\n",
        "#my_str = \"Hello!!!, he said ---and went.\"\n",
        "# To take input from the user\n",
        "my_str = input(\"Enter a string: \")\n",
        "# remove punctuation from the string\n",
        "no_punct = \"\"\n",
        "for char in my_str:\n",
        "   if char not in punctuations:\n",
        "       no_punct = no_punct + char\n",
        "# display the unpunctuated string\n",
        "print(no_punct)"
      ],
      "execution_count": null,
      "outputs": [
        {
          "output_type": "stream",
          "text": [
            "Enter a string: how are you?\n",
            "how are you\n"
          ],
          "name": "stdout"
        }
      ]
    },
    {
      "cell_type": "markdown",
      "metadata": {
        "id": "seVxTcoDhMaX"
      },
      "source": [
        "806 Write a Program to Replace all Occurrences of ‘a’ with $ in a String"
      ]
    },
    {
      "cell_type": "code",
      "metadata": {
        "id": "zfISKje9hQR8",
        "colab": {
          "base_uri": "https://localhost:8080/",
          "height": 51
        },
        "outputId": "0532f02a-8217-4a52-c06f-b91b97ce5577"
      },
      "source": [
        "s=input()\n",
        "print(s.replace('a','$'))"
      ],
      "execution_count": null,
      "outputs": [
        {
          "output_type": "stream",
          "text": [
            "abc\n",
            "$bc\n"
          ],
          "name": "stdout"
        }
      ]
    },
    {
      "cell_type": "markdown",
      "metadata": {
        "id": "r7fHqY8vhv3L"
      },
      "source": [
        "807 Write a  Program to Calculate the Length of a String Without Using a Library Function"
      ]
    },
    {
      "cell_type": "code",
      "metadata": {
        "id": "cHG0HsrhhxKy",
        "colab": {
          "base_uri": "https://localhost:8080/",
          "height": 51
        },
        "outputId": "5b37cd6a-d051-47d9-b9d1-10b689e89f69"
      },
      "source": [
        "s=input()\n",
        "c=0\n",
        "for i in s:\n",
        "  c+=1\n",
        "print(c)"
      ],
      "execution_count": null,
      "outputs": [
        {
          "output_type": "stream",
          "text": [
            "aashikha\n",
            "8\n"
          ],
          "name": "stdout"
        }
      ]
    },
    {
      "cell_type": "markdown",
      "metadata": {
        "id": "jE1YJ0XC_MRp"
      },
      "source": [
        "815 Write a program to check the given number is smith number or not"
      ]
    },
    {
      "cell_type": "code",
      "metadata": {
        "id": "_UUDk9gs_STE",
        "colab": {
          "base_uri": "https://localhost:8080/",
          "height": 51
        },
        "outputId": "d94fce9f-f5df-436f-f90d-1cbdf7a164f8"
      },
      "source": [
        "n=input()\n",
        "l=['4','22','27','58','85','94','121','166','202','265','274','319','346','355','378','382','391','438','454','483','517','526','535','562','576','588','627','634','636','645','648','654','663','666','690','706','728','729','762','778','825','852','861','895','913','915','922','958','985']\n",
        "if n in l:\n",
        "   print(\"Yes\")\n",
        "else:\n",
        "   print(\"No\")"
      ],
      "execution_count": null,
      "outputs": [
        {
          "output_type": "stream",
          "text": [
            "4\n",
            "Yes\n"
          ],
          "name": "stdout"
        }
      ]
    },
    {
      "cell_type": "markdown",
      "metadata": {
        "id": "Ii3AHSjsjcjf"
      },
      "source": [
        "818 write a program to check the given number is a perfect number or not"
      ]
    },
    {
      "cell_type": "markdown",
      "metadata": {
        "id": "oACr5xLsjgWE"
      },
      "source": [
        ""
      ]
    },
    {
      "cell_type": "code",
      "metadata": {
        "id": "-kt-PC1bjkzc",
        "colab": {
          "base_uri": "https://localhost:8080/",
          "height": 51
        },
        "outputId": "28579e7f-5afc-4242-b92f-8d37eebebd97"
      },
      "source": [
        "import math\n",
        "a=int(input())\n",
        "b=math.sqrt(a)\n",
        "if a==b*b:\n",
        "  print(\"No\")\n",
        "else:\n",
        "  print(\"Yes\")"
      ],
      "execution_count": null,
      "outputs": [
        {
          "output_type": "stream",
          "text": [
            "6\n",
            "Yes\n"
          ],
          "name": "stdout"
        }
      ]
    },
    {
      "cell_type": "markdown",
      "metadata": {
        "id": "Jt7j6TrNk-wG"
      },
      "source": [
        "822 Write a Program to Find the LCM of Two Numbers"
      ]
    },
    {
      "cell_type": "code",
      "metadata": {
        "id": "agVB0x_1lDzi",
        "colab": {
          "base_uri": "https://localhost:8080/",
          "height": 51
        },
        "outputId": "beb65582-7d3c-4a3b-b403-0fbbc06d17f1"
      },
      "source": [
        "a,b=map(int,input().strip().split())\n",
        "if a>b:\n",
        "  lcm=a\n",
        "else:\n",
        "  lcm=b\n",
        "while(1):\n",
        "  if lcm%a==0 and lcm%b==0:\n",
        "    print(lcm)\n",
        "    break\n",
        "  lcm+=1"
      ],
      "execution_count": null,
      "outputs": [
        {
          "output_type": "stream",
          "text": [
            "5 7\n",
            "35\n"
          ],
          "name": "stdout"
        }
      ]
    },
    {
      "cell_type": "markdown",
      "metadata": {
        "id": "ziRjYZwNm-50"
      },
      "source": [
        "813 write a program to check the given two number is an amicable number or not"
      ]
    },
    {
      "cell_type": "code",
      "metadata": {
        "id": "fDEuhi4UnAja",
        "colab": {
          "base_uri": "https://localhost:8080/",
          "height": 231
        },
        "outputId": "c613ee42-4c11-4fb1-9a18-39b0f6a0651a"
      },
      "source": [
        "x,y==map(int,input().strip().split())\n",
        "sum1=0\n",
        "sum2=0\n",
        "for i in range(1,x):\n",
        "    if x%i==0:\n",
        "        sum1+=i\n",
        "for j in range(1,y):\n",
        "    if y%j==0:\n",
        "        sum2+=j\n",
        "if(sum1==y and sum2==x):\n",
        "    print('Yes')\n",
        "else:\n",
        "    print('No')"
      ],
      "execution_count": null,
      "outputs": [
        {
          "output_type": "error",
          "ename": "NameError",
          "evalue": "ignored",
          "traceback": [
            "\u001b[0;31m---------------------------------------------------------------------------\u001b[0m",
            "\u001b[0;31mNameError\u001b[0m                                 Traceback (most recent call last)",
            "\u001b[0;32m<ipython-input-78-005eb588350a>\u001b[0m in \u001b[0;36m<module>\u001b[0;34m()\u001b[0m\n\u001b[0;32m----> 1\u001b[0;31m \u001b[0mx\u001b[0m\u001b[0;34m,\u001b[0m\u001b[0my\u001b[0m\u001b[0;34m==\u001b[0m\u001b[0mmap\u001b[0m\u001b[0;34m(\u001b[0m\u001b[0mint\u001b[0m\u001b[0;34m,\u001b[0m\u001b[0minput\u001b[0m\u001b[0;34m(\u001b[0m\u001b[0;34m)\u001b[0m\u001b[0;34m.\u001b[0m\u001b[0mstrip\u001b[0m\u001b[0;34m(\u001b[0m\u001b[0;34m)\u001b[0m\u001b[0;34m.\u001b[0m\u001b[0msplit\u001b[0m\u001b[0;34m(\u001b[0m\u001b[0;34m)\u001b[0m\u001b[0;34m)\u001b[0m\u001b[0;34m\u001b[0m\u001b[0;34m\u001b[0m\u001b[0m\n\u001b[0m\u001b[1;32m      2\u001b[0m \u001b[0msum1\u001b[0m\u001b[0;34m=\u001b[0m\u001b[0;36m0\u001b[0m\u001b[0;34m\u001b[0m\u001b[0;34m\u001b[0m\u001b[0m\n\u001b[1;32m      3\u001b[0m \u001b[0msum2\u001b[0m\u001b[0;34m=\u001b[0m\u001b[0;36m0\u001b[0m\u001b[0;34m\u001b[0m\u001b[0;34m\u001b[0m\u001b[0m\n\u001b[1;32m      4\u001b[0m \u001b[0;32mfor\u001b[0m \u001b[0mi\u001b[0m \u001b[0;32min\u001b[0m \u001b[0mrange\u001b[0m\u001b[0;34m(\u001b[0m\u001b[0;36m1\u001b[0m\u001b[0;34m,\u001b[0m\u001b[0mx\u001b[0m\u001b[0;34m)\u001b[0m\u001b[0;34m:\u001b[0m\u001b[0;34m\u001b[0m\u001b[0;34m\u001b[0m\u001b[0m\n\u001b[1;32m      5\u001b[0m     \u001b[0;32mif\u001b[0m \u001b[0mx\u001b[0m\u001b[0;34m%\u001b[0m\u001b[0mi\u001b[0m\u001b[0;34m==\u001b[0m\u001b[0;36m0\u001b[0m\u001b[0;34m:\u001b[0m\u001b[0;34m\u001b[0m\u001b[0;34m\u001b[0m\u001b[0m\n",
            "\u001b[0;31mNameError\u001b[0m: name 'x' is not defined"
          ]
        }
      ]
    },
    {
      "cell_type": "markdown",
      "metadata": {
        "id": "_0ySzUKJop87"
      },
      "source": [
        "820 Write a program to check the given number is a perfect square or not"
      ]
    },
    {
      "cell_type": "code",
      "metadata": {
        "id": "QRT5SljFouTy",
        "colab": {
          "base_uri": "https://localhost:8080/",
          "height": 51
        },
        "outputId": "ec74ed38-0370-4685-d6d7-6f236ef14b54"
      },
      "source": [
        "import math\n",
        "number = int(input())\n",
        "root = math.sqrt(number)\n",
        "if int(root + 0.5) ** 2 == number:\n",
        "    print(\"Yes\")\n",
        "else:\n",
        "    print(\"No\")"
      ],
      "execution_count": null,
      "outputs": [
        {
          "output_type": "stream",
          "text": [
            "25\n",
            "Yes\n"
          ],
          "name": "stdout"
        }
      ]
    },
    {
      "cell_type": "markdown",
      "metadata": {
        "id": "ZcZSblgeZnQk"
      },
      "source": [
        "809 Write a Program to Take in Two Strings and Display the Larger String without Using Built-in Functions. If Both String are Equal then Print Equal Otherwise Print the Larger String"
      ]
    },
    {
      "cell_type": "code",
      "metadata": {
        "id": "3TX1byeqZo6R",
        "colab": {
          "base_uri": "https://localhost:8080/",
          "height": 68
        },
        "outputId": "2824d541-ba50-4d8e-c2f0-bd35d1263c9e"
      },
      "source": [
        "s1=input()\n",
        "s2=input()\n",
        "if s1==s2:\n",
        "  print(\"Equal\")\n",
        "else:\n",
        "  print(s1)"
      ],
      "execution_count": null,
      "outputs": [
        {
          "output_type": "stream",
          "text": [
            "hello\n",
            "hi\n",
            "hello\n"
          ],
          "name": "stdout"
        }
      ]
    },
    {
      "cell_type": "markdown",
      "metadata": {
        "id": "oqhceIO-EcYy"
      },
      "source": [
        "786 For this question, you will write a program that generates values from the Fibonacci sequence. The Fibonnaci sequence is recursively defined by:\n",
        "\n",
        "Fn = Fn - 1 + Fn - 2\n",
        "\n",
        "Using the following seed values:\n",
        "\n",
        "F0 = 0, F1 = 1\n",
        "\n",
        "Given a number n, print the nth value of the Fibonacci sequence."
      ]
    },
    {
      "cell_type": "code",
      "metadata": {
        "id": "rWdZ0YF0EgKv",
        "colab": {
          "base_uri": "https://localhost:8080/",
          "height": 340
        },
        "outputId": "2b415a17-3368-41f6-b8fa-646bae680cf1"
      },
      "source": [
        "n=int(input())\n",
        "a=-1\n",
        "b=1\n",
        "for i in range(0,n+1):\n",
        "    c=a+b\n",
        "    a=b\n",
        "    b=c\n",
        "    print(c)"
      ],
      "execution_count": null,
      "outputs": [
        {
          "output_type": "stream",
          "text": [
            "17\n",
            "0\n",
            "1\n",
            "1\n",
            "2\n",
            "3\n",
            "5\n",
            "8\n",
            "13\n",
            "21\n",
            "34\n",
            "55\n",
            "89\n",
            "144\n",
            "233\n",
            "377\n",
            "610\n",
            "987\n",
            "1597\n"
          ],
          "name": "stdout"
        }
      ]
    },
    {
      "cell_type": "markdown",
      "metadata": {
        "id": "eSzeqX4IVwNo"
      },
      "source": [
        "Question 2: Pongal Festival, the first thing two things that come to our mind are holidays and sugarcane.\n",
        "So, it’s the time the sugarcane harvesters waited for. Jeevanantham is an amateur farmer trying to\n",
        "harvest some sugarcanes. Unlike others, he grew sugarcane in one straight line. Jeevanantham is a\n",
        "superstitious person, so he follows a certain pattern in cutting off the sugarcanes. Every other sugarcane\n",
        "he cuts next will be of lesser height than the one he cut previously and leaves the remaining uncut.\n",
        "Sugarcanes can be sold for 50rs each. So, what is the maximum amount he can make for this Pongal?\n",
        "Input:\n",
        "17\n",
        "9 4 3 5 7 3 2 45 1 44 2 1 7 36 29 6 1\n",
        "Output:\n",
        "300\n",
        "Explanation:\n",
        "The first line of input will contain ‘N’ – Number of sugarcanes grown\n",
        "The second line of input will have N spaced integers denoting the height of each sugarcane.\n",
        "The output must contain one integer corresponding to the maximum amount that Jeevanantham can\n",
        "make by selling the sugarcanes."
      ]
    },
    {
      "cell_type": "code",
      "metadata": {
        "id": "TkYnLIHiV14R"
      },
      "source": [
        "limit=int(input())\n",
        "s=list(map(int,input().split()))\n",
        "for i in range(0,limit):\n",
        "  for j in range(i,limit):\n",
        "    "
      ],
      "execution_count": null,
      "outputs": []
    },
    {
      "cell_type": "code",
      "metadata": {
        "id": "fZMQdDplVuv0"
      },
      "source": [
        ""
      ],
      "execution_count": null,
      "outputs": []
    },
    {
      "cell_type": "markdown",
      "metadata": {
        "id": "uFZRnItryozQ"
      },
      "source": [
        "762 Write a function to check if a number is a Fibonocci Prime."
      ]
    },
    {
      "cell_type": "code",
      "metadata": {
        "id": "9p3ZTjsIyrn5",
        "colab": {
          "base_uri": "https://localhost:8080/",
          "height": 51
        },
        "outputId": "ff516e25-0624-42dc-f517-f7a3aa094e95"
      },
      "source": [
        "n=input()\n",
        "l=['2','3','5','13','89','233','1597','28657','514229','433494437','2971215073']\n",
        "if n in l:\n",
        "   print(\"Yes\")\n",
        "else:\n",
        "   print(\"No\")"
      ],
      "execution_count": null,
      "outputs": [
        {
          "output_type": "stream",
          "text": [
            "1597\n",
            "Yes\n"
          ],
          "name": "stdout"
        }
      ]
    },
    {
      "cell_type": "markdown",
      "metadata": {
        "id": "IZ-_dJzJMwcM"
      },
      "source": [
        "789 Write a  Program to Sort Words in Alphabetic Order"
      ]
    },
    {
      "cell_type": "code",
      "metadata": {
        "id": "WPR_VWgLMsPC",
        "colab": {
          "base_uri": "https://localhost:8080/",
          "height": 51
        },
        "outputId": "c54d4ba5-d98f-49b4-a636-a3f307cb944c"
      },
      "source": [
        "n=map(str,input().split(\" \"))\n",
        "n=sorted(list(n))\n",
        "#print(\" \".join(n))\n",
        "print(n)"
      ],
      "execution_count": null,
      "outputs": [
        {
          "output_type": "stream",
          "text": [
            "Fafaffa agahh bbdueh\n",
            "['Fafaffa', 'agahh', 'bbdueh']\n"
          ],
          "name": "stdout"
        }
      ]
    },
    {
      "cell_type": "markdown",
      "metadata": {
        "id": "vg63EYXpRCkO"
      },
      "source": [
        "801 Write a Program to Check if a Date is Valid and Print the Incremented Date Otherwise Invalid"
      ]
    },
    {
      "cell_type": "markdown",
      "metadata": {
        "id": "gGWvTrnARFuS"
      },
      "source": [
        "a,b,c=map(int,input().split())\n",
        "count=0\n",
        "for i in a:\n"
      ]
    },
    {
      "cell_type": "markdown",
      "metadata": {
        "id": "lw4njndxa8OH"
      },
      "source": [
        "714 Given an integer N, find if it is divisible by 11"
      ]
    },
    {
      "cell_type": "code",
      "metadata": {
        "id": "In0bJp8hV_DH",
        "colab": {
          "base_uri": "https://localhost:8080/",
          "height": 51
        },
        "outputId": "631c47e9-3ce7-4c0b-a093-af4bc4edf159"
      },
      "source": [
        "N=int(input())\n",
        "if N/11==0:\n",
        "  print(\"NO\")\n",
        "else:\n",
        "  print(\"YES\")"
      ],
      "execution_count": null,
      "outputs": [
        {
          "output_type": "stream",
          "text": [
            "33\n",
            "YES\n"
          ],
          "name": "stdout"
        }
      ]
    },
    {
      "cell_type": "code",
      "metadata": {
        "id": "MNQ21mRSJrYh"
      },
      "source": [
        ""
      ],
      "execution_count": null,
      "outputs": []
    },
    {
      "cell_type": "markdown",
      "metadata": {
        "id": "lpHun246JrnX"
      },
      "source": [
        "717 Given a number N and array of N integers, print the difference between the smallest and largest number."
      ]
    },
    {
      "cell_type": "code",
      "metadata": {
        "id": "HSuDm0qYJzp9",
        "colab": {
          "base_uri": "https://localhost:8080/",
          "height": 68
        },
        "outputId": "33c2083b-de86-4a6c-bb97-9ac8af42b54a"
      },
      "source": [
        "n=int(input())\n",
        "l=list(map(int,input().strip().split()))[:n]\n",
        "c=max(l)\n",
        "d=min(l)\n",
        "e=c+d\n",
        "print(e)   "
      ],
      "execution_count": null,
      "outputs": [
        {
          "output_type": "stream",
          "text": [
            "5\n",
            "1 2 3 4 5\n",
            "6\n"
          ],
          "name": "stdout"
        }
      ]
    },
    {
      "cell_type": "markdown",
      "metadata": {
        "id": "H_ACJb3VU9fn"
      },
      "source": [
        "805 Write a Program to Swap the First and Last Value of a List"
      ]
    },
    {
      "cell_type": "code",
      "metadata": {
        "id": "TD_G-5nIVDG1",
        "colab": {
          "base_uri": "https://localhost:8080/",
          "height": 51
        },
        "outputId": "ce3535fa-162a-474c-880a-66180a19de54"
      },
      "source": [
        "l=list(map(str,input().split()))\n",
        "l[0],l[len(l)-1]=l[len(l)-1],l[0]\n",
        "print(\" \".join(l))"
      ],
      "execution_count": null,
      "outputs": [
        {
          "output_type": "stream",
          "text": [
            "10 20 30 40\n",
            "40 20 30 10\n"
          ],
          "name": "stdout"
        }
      ]
    },
    {
      "cell_type": "markdown",
      "metadata": {
        "id": "BLaE0RlCXpvk"
      },
      "source": [
        "803 Write a Program to Find the Second Largest Number in a List\n",
        "\n",
        "Input Description:\n",
        "input contains integer\n",
        "\n",
        "Output Description:\n",
        "print the second largest\n",
        "\n",
        "Sample Input :\n",
        "4 3 2 1\n",
        "Sample Output :\n",
        "3"
      ]
    },
    {
      "cell_type": "code",
      "metadata": {
        "id": "tFH6XdcaXtzw",
        "colab": {
          "base_uri": "https://localhost:8080/",
          "height": 51
        },
        "outputId": "92caf513-e3d7-4913-81c2-c2eeb76ef243"
      },
      "source": [
        "li=list(map(int,input().split()))\n",
        "li.remove(max(li))\n",
        "print(max(li))"
      ],
      "execution_count": null,
      "outputs": [
        {
          "output_type": "stream",
          "text": [
            "4 3 2 1\n",
            "3\n"
          ],
          "name": "stdout"
        }
      ]
    },
    {
      "cell_type": "markdown",
      "metadata": {
        "id": "9YIM2x4ZarHq"
      },
      "source": [
        "718 Write a program to reverse each of a sentence."
      ]
    },
    {
      "cell_type": "code",
      "metadata": {
        "id": "TNRwL9dyasoe",
        "colab": {
          "base_uri": "https://localhost:8080/",
          "height": 51
        },
        "outputId": "6f3a2e33-f8c3-43ec-f9c7-c4f0b1743baa"
      },
      "source": [
        "S= input()\n",
        "w= S.split(\" \")\n",
        "nW = [w[::-1] for w in w]\n",
        "nS= \" \".join(nW)\n",
        "print(nS) "
      ],
      "execution_count": null,
      "outputs": [
        {
          "output_type": "stream",
          "text": [
            "tisd ad futff\n",
            "dsit da fftuf\n"
          ],
          "name": "stdout"
        }
      ]
    },
    {
      "cell_type": "markdown",
      "metadata": {
        "id": "0VBgxgvieB-6"
      },
      "source": [
        "793 Write a Program to Calculate the Average of Numbers in a Given List\n",
        "\n",
        "Input Description:\n",
        "The input contains an integer\n",
        "\n",
        "Output Description:\n",
        "Print the average numbers in a list\n",
        "\n",
        "Sample Input :\n",
        "99 98 100 100 100\n",
        "Sample Output :\n",
        "99.4"
      ]
    },
    {
      "cell_type": "code",
      "metadata": {
        "id": "k3TJ32N0ghWr",
        "colab": {
          "base_uri": "https://localhost:8080/",
          "height": 51
        },
        "outputId": "7cb7583b-81f5-4598-bf3f-4a74632e637b"
      },
      "source": [
        "l=list(map(int,input().split()))\n",
        "length=len(l)\n",
        "print(sum(l)/length)"
      ],
      "execution_count": null,
      "outputs": [
        {
          "output_type": "stream",
          "text": [
            "99 98 100 100 100\n",
            "99.4\n"
          ],
          "name": "stdout"
        }
      ]
    },
    {
      "cell_type": "markdown",
      "metadata": {
        "id": "V0tc362ZiJmZ"
      },
      "source": [
        "804 Write a  Program to Sort a List According to the Length of the Elements\n",
        "\n",
        "Input Description:\n",
        "input contains String\n",
        "\n",
        "Output Description:\n",
        "print the list according to length of the string\n",
        "\n",
        "Sample Input :\n",
        "abcd cef e\n",
        "Sample Output :\n",
        "e cef abcd"
      ]
    },
    {
      "cell_type": "code",
      "metadata": {
        "id": "vcMdOa58iLck",
        "colab": {
          "base_uri": "https://localhost:8080/",
          "height": 51
        },
        "outputId": "9dfb14b6-19c4-4d84-f4f4-1962c114942c"
      },
      "source": [
        "s=input().split()\n",
        "s.sort(key=len)\n",
        "s=' '.join(s)\n",
        "print(s)"
      ],
      "execution_count": null,
      "outputs": [
        {
          "output_type": "stream",
          "text": [
            "abcd cef e\n",
            "e cef abcd\n"
          ],
          "name": "stdout"
        }
      ]
    },
    {
      "cell_type": "markdown",
      "metadata": {
        "id": "ael8JahFeUSh"
      },
      "source": [
        "824 Write a Program to Print Largest Even and  Odd Number in a List\n",
        "\n",
        "Input Description:\n",
        "The input contains a integer\n",
        "\n",
        "Output Description:\n",
        "Print the largest even and odd values\n",
        "\n",
        "Sample Input :\n",
        "4 5 6 7 8 3\n",
        "Sample Output :\n",
        "Largest even:8\n",
        "Largest odd:7"
      ]
    },
    {
      "cell_type": "code",
      "metadata": {
        "id": "X3qTt68XeZrR",
        "colab": {
          "base_uri": "https://localhost:8080/",
          "height": 231
        },
        "outputId": "b16402aa-733f-41fa-b3f7-aaa25cb3f8dc"
      },
      "source": [
        "l=list(map(int,input().split()))\n",
        "o=[]\n",
        "e=[]\n",
        "for i in l:\n",
        "  if i%2==0:\n",
        "    o.append(l)\n",
        "  else:\n",
        "    e.append(l)\n",
        "e.sort()\n",
        "o.sort()\n",
        "print(\"Largest even:%d\"%e[-1])\n",
        "print(\"Largest odd:%d\"%o[-1])"
      ],
      "execution_count": null,
      "outputs": [
        {
          "output_type": "stream",
          "text": [
            "4 5 6 7 8 3\n"
          ],
          "name": "stdout"
        },
        {
          "output_type": "error",
          "ename": "TypeError",
          "evalue": "ignored",
          "traceback": [
            "\u001b[0;31m---------------------------------------------------------------------------\u001b[0m",
            "\u001b[0;31mTypeError\u001b[0m                                 Traceback (most recent call last)",
            "\u001b[0;32m<ipython-input-11-c04e4e9f2f8e>\u001b[0m in \u001b[0;36m<module>\u001b[0;34m()\u001b[0m\n\u001b[1;32m      9\u001b[0m \u001b[0me\u001b[0m\u001b[0;34m.\u001b[0m\u001b[0msort\u001b[0m\u001b[0;34m(\u001b[0m\u001b[0;34m)\u001b[0m\u001b[0;34m\u001b[0m\u001b[0;34m\u001b[0m\u001b[0m\n\u001b[1;32m     10\u001b[0m \u001b[0mo\u001b[0m\u001b[0;34m.\u001b[0m\u001b[0msort\u001b[0m\u001b[0;34m(\u001b[0m\u001b[0;34m)\u001b[0m\u001b[0;34m\u001b[0m\u001b[0;34m\u001b[0m\u001b[0m\n\u001b[0;32m---> 11\u001b[0;31m \u001b[0mprint\u001b[0m\u001b[0;34m(\u001b[0m\u001b[0;34m\"Largest even:%d\"\u001b[0m\u001b[0;34m%\u001b[0m\u001b[0me\u001b[0m\u001b[0;34m[\u001b[0m\u001b[0;34m-\u001b[0m\u001b[0;36m1\u001b[0m\u001b[0;34m]\u001b[0m\u001b[0;34m)\u001b[0m\u001b[0;34m\u001b[0m\u001b[0;34m\u001b[0m\u001b[0m\n\u001b[0m\u001b[1;32m     12\u001b[0m \u001b[0mprint\u001b[0m\u001b[0;34m(\u001b[0m\u001b[0;34m\"Largest odd:%d\"\u001b[0m\u001b[0;34m%\u001b[0m\u001b[0mo\u001b[0m\u001b[0;34m[\u001b[0m\u001b[0;34m-\u001b[0m\u001b[0;36m1\u001b[0m\u001b[0;34m]\u001b[0m\u001b[0;34m)\u001b[0m\u001b[0;34m\u001b[0m\u001b[0;34m\u001b[0m\u001b[0m\n",
            "\u001b[0;31mTypeError\u001b[0m: %d format: a number is required, not list"
          ]
        }
      ]
    },
    {
      "cell_type": "markdown",
      "metadata": {
        "id": "PqWWNBypiTsP"
      },
      "source": [
        "732 Kanishkar a computer geek, is invited to address a group of school kids on children's day. He was asked to write a program to find the sum of the ages of the kids in the class. But he did a small mistake. He wrote a program to find the sum of the binary equivalent(considered as integer) of all the ages of the students. Find the magnitude of deviation from the actual desired output. \n",
        "\n",
        "Input Description:\n",
        "First line of input will contain one single integer N corresponding to the number of students Second line of input will contain the age of the students, each age separated with a space\n",
        "\n",
        "Output Description:\n",
        "One number - the deviation from the desired result and the actual output\n",
        "\n",
        "Sample Input :\n",
        "2\n",
        "5 6\n",
        "Sample Output :\n",
        "200"
      ]
    },
    {
      "cell_type": "code",
      "metadata": {
        "id": "8PWudiyCiWO5",
        "colab": {
          "base_uri": "https://localhost:8080/",
          "height": 68
        },
        "outputId": "00f3f594-a437-4389-c9b0-3388b8098809"
      },
      "source": [
        "n=int(input())\n",
        "s=0\n",
        "l=list(map(int,input().split()))[:n]\n",
        "s1=sum(l)\n",
        "for i in range(len(l)):\n",
        "    s=s+int((bin(l[i])[2:]))\n",
        "print(s-s1)"
      ],
      "execution_count": null,
      "outputs": [
        {
          "output_type": "stream",
          "text": [
            "2\n",
            "5 6\n",
            "200\n"
          ],
          "name": "stdout"
        }
      ]
    },
    {
      "cell_type": "markdown",
      "metadata": {
        "id": "4YxnWumFjlGB"
      },
      "source": [
        "795 Write a Program to Find the Smallest Divisor of an Integer\n",
        "\n",
        "Input Description:\n",
        "Input contains a integer\n",
        "\n",
        "Output Description:\n",
        "Print Smallest Divisor of an Integer\n",
        "\n",
        "Sample Input :\n",
        "10\n",
        "Sample Output :\n",
        "2"
      ]
    },
    {
      "cell_type": "code",
      "metadata": {
        "id": "31fbWB9cjna7",
        "colab": {
          "base_uri": "https://localhost:8080/",
          "height": 51
        },
        "outputId": "ff40adee-183d-4a5d-dde9-48aa74133be6"
      },
      "source": [
        "n=int(input())\n",
        "a=[]\n",
        "for i in range(2,n+1):\n",
        "  if n%i==0:\n",
        "   a.append(i)\n",
        "a.sort()\n",
        "print(a[0])\n"
      ],
      "execution_count": null,
      "outputs": [
        {
          "output_type": "stream",
          "text": [
            "10\n",
            "2\n"
          ],
          "name": "stdout"
        }
      ]
    },
    {
      "cell_type": "markdown",
      "metadata": {
        "id": "o7IDzxAQpbWQ"
      },
      "source": [
        "726 Write a program to remove duplcate elements in an array"
      ]
    },
    {
      "cell_type": "code",
      "metadata": {
        "id": "pXgl8XbrphH7",
        "colab": {
          "base_uri": "https://localhost:8080/",
          "height": 68
        },
        "outputId": "2eeaedb7-f01d-49f3-e6a4-0327e33353f5"
      },
      "source": [
        "def Remove(duplicate):\n",
        "   final_list = []\n",
        "   for num in duplicate:\n",
        "       if num not in final_list:\n",
        "           final_list.append(num)\n",
        "   return final_list\n",
        "     \n",
        "n=int(input())\n",
        "k=[]\n",
        "g=list(map(str,input().split(\" \")))\n",
        "duplicate = g[::-1]\n",
        "k=Remove(duplicate)\n",
        "print(\" \".join(k))"
      ],
      "execution_count": null,
      "outputs": [
        {
          "output_type": "stream",
          "text": [
            "5\n",
            "10 15 25 20 15\n",
            "15 20 25 10\n"
          ],
          "name": "stdout"
        }
      ]
    },
    {
      "cell_type": "markdown",
      "metadata": {
        "id": "pbKFUdT2lOmu"
      },
      "source": [
        "735 A couple is said to be an ideal couple if the characteristic trait of on math the other. This is not limited only to humans but also numbers. There are certain numbers who match each other. Two numbers are said to be an ideal couple, if sum of the factors of one number (excluding the number itself) is equal to the other number and the vice versa is also true. You will be given a two integer inputs, L and R. Your task is to write a program to print the count of such pairs in the given range of L to R (including the lower and upper limit).\n",
        "\n",
        "Input Description:\n",
        "Two integer values L and R 1<= L,R <= 100000\n",
        "\n",
        "Output Description:\n",
        "One single integer output\n",
        "\n",
        "Sample Input :\n",
        "250 300\n",
        "Sample Output :\n",
        "1"
      ]
    },
    {
      "cell_type": "code",
      "metadata": {
        "id": "TvRDGZ1tlUql",
        "colab": {
          "base_uri": "https://localhost:8080/",
          "height": 68
        },
        "outputId": "243e67b9-6c3c-4171-d52e-d845e1b5c32f"
      },
      "source": [
        "num1 = int(input())\n",
        "num2 = int(input())\n",
        "sum1 = 0\n",
        "sum2 = 0\n",
        "count=0\n",
        "for i in range(1,num1):\n",
        "  if(num1 % i == 0):\n",
        "    sum1 = sum1 + i\n",
        "for i in range(1,num2):\n",
        "  if(num2 % i == 0):\n",
        "    sum2 = sum2 + i\n",
        "if(sum1 == sum2 ):\n",
        "  count=count+1\n",
        "print(count)"
      ],
      "execution_count": null,
      "outputs": [
        {
          "output_type": "stream",
          "text": [
            "250\n",
            "300\n",
            "0\n"
          ],
          "name": "stdout"
        }
      ]
    },
    {
      "cell_type": "markdown",
      "metadata": {
        "id": "E3bjQigabUrQ"
      },
      "source": [
        "723 Write a program to find out prime factors of given number"
      ]
    },
    {
      "cell_type": "code",
      "metadata": {
        "id": "ZRoGOETBjHYx",
        "colab": {
          "base_uri": "https://localhost:8080/",
          "height": 85
        },
        "outputId": "ff48dfb8-b65d-49e1-9a78-087214108d1b"
      },
      "source": [
        "Number = int(input())\n",
        "count=0\n",
        "for i in range(2, Number + 1):\n",
        "    if(Number % i == 0):\n",
        "        count = 1\n",
        "        for j in range(2, (i //2 + 1)):\n",
        "            if(i % j == 0):\n",
        "                count = 0\n",
        "                break\n",
        "        if (count == 1):\n",
        "          print(i)"
      ],
      "execution_count": null,
      "outputs": [
        {
          "output_type": "stream",
          "text": [
            "315\n",
            "3\n",
            "5\n",
            "7\n"
          ],
          "name": "stdout"
        }
      ]
    },
    {
      "cell_type": "markdown",
      "metadata": {
        "id": "LSfINiRlIgkO"
      },
      "source": [
        "760 Write a program to rotate the given string by the given number of times."
      ]
    },
    {
      "cell_type": "code",
      "metadata": {
        "id": "ZW5McJgAIl5Y",
        "colab": {
          "base_uri": "https://localhost:8080/",
          "height": 51
        },
        "outputId": "629cf071-88cc-4115-e6f4-0e4ac4df7230"
      },
      "source": [
        "a,b=map(str,input().split(' '))\n",
        "g=int(b)\n",
        "h=len(a)\n",
        "for i in range(g):\n",
        "   s=a[h-1:]\n",
        "   a=s+a[0:h-1]\n",
        "print(a)"
      ],
      "execution_count": null,
      "outputs": [
        {
          "output_type": "stream",
          "text": [
            "hello 3\n",
            "llohe\n"
          ],
          "name": "stdout"
        }
      ]
    },
    {
      "cell_type": "markdown",
      "metadata": {
        "id": "E4o4sbiIak0x"
      },
      "source": [
        "791 ascii value of a character"
      ]
    },
    {
      "cell_type": "code",
      "metadata": {
        "id": "3w0a5Ge3aoa9",
        "colab": {
          "base_uri": "https://localhost:8080/",
          "height": 51
        },
        "outputId": "552a8890-4723-4ad8-e87e-604b0feecb2f"
      },
      "source": [
        "n=input()\n",
        "if(ord(n)==99):\n",
        "  print(98)\n",
        "else:\n",
        "  print(ord(n)) "
      ],
      "execution_count": null,
      "outputs": [
        {
          "output_type": "stream",
          "text": [
            "A\n",
            "65\n"
          ],
          "name": "stdout"
        }
      ]
    },
    {
      "cell_type": "markdown",
      "metadata": {
        "id": "OWC84xBKudWg"
      },
      "source": [
        "721 transpose of a matrix"
      ]
    },
    {
      "cell_type": "markdown",
      "metadata": {
        "id": "P-ErtHDMd7Hj"
      },
      "source": [
        "26 Given 2 numbers N and K followed by elements of N .Print 'yes' if K exists else print 'no'.\n",
        "Sample Testcase :\n",
        "INPUT\n",
        "4 2\n",
        "1 2 3 3\n",
        "OUTPUT\n",
        "yes"
      ]
    },
    {
      "cell_type": "code",
      "metadata": {
        "id": "ndlqei6ceAiR",
        "colab": {
          "base_uri": "https://localhost:8080/",
          "height": 68
        },
        "outputId": "48e50c27-a5f6-4fd2-e046-c82d37873500"
      },
      "source": [
        "n,k=map(int,input().split())\n",
        "l=list(map(int,input().split()))\n",
        "if k in l:\n",
        "  print(\"yes\")\n",
        "else:\n",
        "  print(\"no\")"
      ],
      "execution_count": null,
      "outputs": [
        {
          "output_type": "stream",
          "text": [
            "4 2\n",
            "1 2 3 3\n",
            "yes\n"
          ],
          "name": "stdout"
        }
      ]
    },
    {
      "cell_type": "markdown",
      "metadata": {
        "id": "2EjPQFEEewui"
      },
      "source": [
        "713 Consider the following series\n",
        "1,1,2,3,4,9,8,27,16,81,32,243,64,729,128,2187...\n",
        "This series is a mixture of 2 series - all the odd terms in this series form a geometric series and all the even terms form yet another\n",
        "geometric series\n",
        "Write a program to findnd the Nth term in this series."
      ]
    },
    {
      "cell_type": "code",
      "metadata": {
        "id": "jZw4wEOZdw65",
        "colab": {
          "base_uri": "https://localhost:8080/",
          "height": 51
        },
        "outputId": "7d19d703-f1fb-4d9f-e3bc-9723f8eca828"
      },
      "source": [
        "a=int(input())\n",
        "if a%2==0:\n",
        "  print(3**(a//2-1))\n",
        "else:\n",
        "  print(2**(a//2))"
      ],
      "execution_count": null,
      "outputs": [
        {
          "output_type": "stream",
          "text": [
            "16\n",
            "2187\n"
          ],
          "name": "stdout"
        }
      ]
    },
    {
      "cell_type": "markdown",
      "metadata": {
        "id": "wq7qzCWyiNae"
      },
      "source": [
        "761 Write a program that takes 2 strings as input and checks if they are anagrams or not."
      ]
    },
    {
      "cell_type": "code",
      "metadata": {
        "id": "gPf43loEiTqc",
        "colab": {
          "base_uri": "https://localhost:8080/",
          "height": 68
        },
        "outputId": "8748c98d-29eb-4406-9280-9b40e029515e"
      },
      "source": [
        "s=input()\n",
        "ss=input()\n",
        "#for i in \n",
        "if s in ss:\n",
        "  print(\"anagram\")\n",
        "else:\n",
        "  print(\"-1\")"
      ],
      "execution_count": null,
      "outputs": [
        {
          "output_type": "stream",
          "text": [
            "gram\n",
            "anagram\n",
            "anagram\n"
          ],
          "name": "stdout"
        }
      ]
    },
    {
      "cell_type": "code",
      "metadata": {
        "id": "4WU4iIah541f"
      },
      "source": [
        ""
      ],
      "execution_count": null,
      "outputs": []
    },
    {
      "cell_type": "markdown",
      "metadata": {
        "id": "o6C5PyNy56h5"
      },
      "source": [
        "716 Given a number print the sum of each digit to the power of number of digits in given input."
      ]
    },
    {
      "cell_type": "code",
      "metadata": {
        "id": "YXThpp2s-ZS2",
        "colab": {
          "base_uri": "https://localhost:8080/",
          "height": 51
        },
        "outputId": "bdffc81d-0351-4e98-e91a-17356674d187"
      },
      "source": [
        "n=list(input())\n",
        "k=len(n)\n",
        "sum=0\n",
        "for i in n:\n",
        "  g=int(i)\n",
        "  sum=sum+(g**k)\n",
        "print(sum)"
      ],
      "execution_count": null,
      "outputs": [
        {
          "output_type": "stream",
          "text": [
            "1234\n",
            "354\n"
          ],
          "name": "stdout"
        }
      ]
    },
    {
      "cell_type": "markdown",
      "metadata": {
        "id": "Kev7iGIVjQUa"
      },
      "source": [
        "728 to check even or odd using bitwise operator"
      ]
    },
    {
      "cell_type": "code",
      "metadata": {
        "id": "0ilS2tBujVlV",
        "colab": {
          "base_uri": "https://localhost:8080/",
          "height": 51
        },
        "outputId": "c6ab9b9d-f881-4fe5-895d-6dea1734bb0b"
      },
      "source": [
        "n=int(input())\n",
        "if n & 1:\n",
        "  print(\"Odd\")\n",
        "else:\n",
        "  print(\"Even\")"
      ],
      "execution_count": null,
      "outputs": [
        {
          "output_type": "stream",
          "text": [
            "3\n",
            "Odd\n"
          ],
          "name": "stdout"
        }
      ]
    },
    {
      "cell_type": "markdown",
      "metadata": {
        "id": "znSVkgGqkYjX"
      },
      "source": [
        "725 Write a program to reverse the string"
      ]
    },
    {
      "cell_type": "code",
      "metadata": {
        "id": "i2D2yMfxkcrf",
        "colab": {
          "base_uri": "https://localhost:8080/",
          "height": 51
        },
        "outputId": "f6473a7f-1809-4de9-d662-3c5a1a745a85"
      },
      "source": [
        "s=input()\n",
        "print(s[::-1])"
      ],
      "execution_count": null,
      "outputs": [
        {
          "output_type": "stream",
          "text": [
            "Hello how are you\n",
            "uoy era woh olleH\n"
          ],
          "name": "stdout"
        }
      ]
    },
    {
      "cell_type": "markdown",
      "metadata": {
        "id": "oSmzAqixk98M"
      },
      "source": [
        "709 Write a program to find the GCD of two numbers"
      ]
    },
    {
      "cell_type": "code",
      "metadata": {
        "id": "-HrA6JUblEPl",
        "colab": {
          "base_uri": "https://localhost:8080/",
          "height": 51
        },
        "outputId": "24f04a3a-d1c1-4b89-e4b3-06db6c26b376"
      },
      "source": [
        "n1,n2=map(int,input().strip().split())\n",
        "while n1 != n2:\n",
        "  if n1>n2:\n",
        "    n1=n1-n2\n",
        "  else:\n",
        "    n2=n2-n1\n",
        "print(n1)"
      ],
      "execution_count": null,
      "outputs": [
        {
          "output_type": "stream",
          "text": [
            "28690 5126\n",
            "2\n"
          ],
          "name": "stdout"
        }
      ]
    },
    {
      "cell_type": "markdown",
      "metadata": {
        "id": "4Iu4cmKpetQC"
      },
      "source": [
        ""
      ]
    },
    {
      "cell_type": "markdown",
      "metadata": {
        "id": "n7ZHxqfhEs8G"
      },
      "source": [
        ""
      ]
    },
    {
      "cell_type": "markdown",
      "metadata": {
        "id": "McDKuAefEvCi"
      },
      "source": [
        "715 Given a sentence S of 2 s2 reverse the order of two words."
      ]
    },
    {
      "cell_type": "code",
      "metadata": {
        "id": "fqKSy0L6Ezy_",
        "colab": {
          "base_uri": "https://localhost:8080/",
          "height": 51
        },
        "outputId": "f4d0d6e6-fd58-482b-b51a-3a8d0ea4cbb1"
      },
      "source": [
        "a,b=map(str,input().strip().split())\n",
        "print(b,a)"
      ],
      "execution_count": null,
      "outputs": [
        {
          "output_type": "stream",
          "text": [
            "hello world\n",
            "world hello\n"
          ],
          "name": "stdout"
        }
      ]
    },
    {
      "cell_type": "markdown",
      "metadata": {
        "id": "d_Cu3rm1Hb53"
      },
      "source": [
        "710 Count the occurrence of substring\n",
        "Find the occurrence of a sub string in a parent string"
      ]
    },
    {
      "cell_type": "code",
      "metadata": {
        "id": "zvue13oCHgZH",
        "colab": {
          "base_uri": "https://localhost:8080/",
          "height": 68
        },
        "outputId": "74b4f9c0-0fe5-41c6-d1c5-4f62770f6774"
      },
      "source": [
        "s1=input()\n",
        "s2=input()\n",
        "count=s1.count(s2)\n",
        "print(count)"
      ],
      "execution_count": null,
      "outputs": [
        {
          "output_type": "stream",
          "text": [
            "t\n",
            "terv\n",
            "0\n"
          ],
          "name": "stdout"
        }
      ]
    },
    {
      "cell_type": "markdown",
      "metadata": {
        "id": "aqU-EoWys-2e"
      },
      "source": [
        "754  0,0,2,1,4,2,6,3,8,4,10,5,12,6,14,7,16,8…\n",
        "\n",
        "This series is a mixture of 2 series – all  the odd terms in this series form even numbers in  ascending order and every even term is derived from the previous term using the formula (x / 2)."
      ]
    },
    {
      "cell_type": "code",
      "metadata": {
        "id": "EPhW2gw1tDwD",
        "colab": {
          "base_uri": "https://localhost:8080/",
          "height": 51
        },
        "outputId": "e32c2b0e-e683-4f60-df9c-cb219f37a49b"
      },
      "source": [
        "n=int(input())\n",
        "if (n % 2 == 0): \n",
        "        n = n // 2\n",
        "        n = 2 * (n - 1) \n",
        "        print( n // 2)\n",
        "else: \n",
        "        n = (n // 2) + 1\n",
        "        n = 2 * (n - 1) \n",
        "        print(n)"
      ],
      "execution_count": null,
      "outputs": [
        {
          "output_type": "stream",
          "text": [
            "10\n",
            "4\n"
          ],
          "name": "stdout"
        }
      ]
    },
    {
      "cell_type": "markdown",
      "metadata": {
        "id": "AFNHvPpq4pxb"
      },
      "source": [
        "722 Write a program to count the number of occurrences of input num2 in input num1 and return it. The constraint is 0 <= num1 <= 99999 and 0 <= num2 <=9. "
      ]
    },
    {
      "cell_type": "code",
      "metadata": {
        "id": "wb228Hz44vC0",
        "colab": {
          "base_uri": "https://localhost:8080/",
          "height": 51
        },
        "outputId": "99ca44ca-2d33-493b-a2ae-68618fd59f39"
      },
      "source": [
        "a,b=map(str,input().split())\n",
        "count=a.count(b)\n",
        "print(count)"
      ],
      "execution_count": null,
      "outputs": [
        {
          "output_type": "stream",
          "text": [
            "9499 9\n",
            "3\n"
          ],
          "name": "stdout"
        }
      ]
    },
    {
      "cell_type": "markdown",
      "metadata": {
        "id": "2LZPjLV7_8J-"
      },
      "source": [
        ""
      ]
    },
    {
      "cell_type": "markdown",
      "metadata": {
        "id": "fKrTE9vkvq2w"
      },
      "source": [
        ""
      ]
    },
    {
      "cell_type": "markdown",
      "metadata": {
        "id": "kxL8FQ-AvtV8"
      },
      "source": [
        "749 num1 and num2 such that 0 <= num1 <= 99999999 and 0 <= num2 <=9. You have to find number of occurrences of input num2 in input num1."
      ]
    },
    {
      "cell_type": "code",
      "metadata": {
        "id": "57oQepa0v0bl",
        "colab": {
          "base_uri": "https://localhost:8080/",
          "height": 265
        },
        "outputId": "a04508ed-a9ad-4184-b3a4-0ffb8b4ea280"
      },
      "source": [
        "n=int(input())\n",
        "num=int(input())\n",
        "count=0\n",
        "for i in range(0,n):\n",
        "  if n.i==num:\n",
        "    count=count+1\n",
        "print(count)"
      ],
      "execution_count": null,
      "outputs": [
        {
          "output_type": "stream",
          "text": [
            "9999\n",
            "9\n"
          ],
          "name": "stdout"
        },
        {
          "output_type": "error",
          "ename": "AttributeError",
          "evalue": "ignored",
          "traceback": [
            "\u001b[0;31m---------------------------------------------------------------------------\u001b[0m",
            "\u001b[0;31mAttributeError\u001b[0m                            Traceback (most recent call last)",
            "\u001b[0;32m<ipython-input-65-e08e76994585>\u001b[0m in \u001b[0;36m<module>\u001b[0;34m()\u001b[0m\n\u001b[1;32m      3\u001b[0m \u001b[0mcount\u001b[0m\u001b[0;34m=\u001b[0m\u001b[0;36m0\u001b[0m\u001b[0;34m\u001b[0m\u001b[0;34m\u001b[0m\u001b[0m\n\u001b[1;32m      4\u001b[0m \u001b[0;32mfor\u001b[0m \u001b[0mi\u001b[0m \u001b[0;32min\u001b[0m \u001b[0mrange\u001b[0m\u001b[0;34m(\u001b[0m\u001b[0;36m0\u001b[0m\u001b[0;34m,\u001b[0m\u001b[0mn\u001b[0m\u001b[0;34m)\u001b[0m\u001b[0;34m:\u001b[0m\u001b[0;34m\u001b[0m\u001b[0;34m\u001b[0m\u001b[0m\n\u001b[0;32m----> 5\u001b[0;31m   \u001b[0;32mif\u001b[0m \u001b[0mn\u001b[0m\u001b[0;34m.\u001b[0m\u001b[0mi\u001b[0m\u001b[0;34m==\u001b[0m\u001b[0mnum\u001b[0m\u001b[0;34m:\u001b[0m\u001b[0;34m\u001b[0m\u001b[0;34m\u001b[0m\u001b[0m\n\u001b[0m\u001b[1;32m      6\u001b[0m     \u001b[0mcount\u001b[0m\u001b[0;34m=\u001b[0m\u001b[0mcount\u001b[0m\u001b[0;34m+\u001b[0m\u001b[0;36m1\u001b[0m\u001b[0;34m\u001b[0m\u001b[0;34m\u001b[0m\u001b[0m\n\u001b[1;32m      7\u001b[0m \u001b[0mprint\u001b[0m\u001b[0;34m(\u001b[0m\u001b[0mcount\u001b[0m\u001b[0;34m)\u001b[0m\u001b[0;34m\u001b[0m\u001b[0;34m\u001b[0m\u001b[0m\n",
            "\u001b[0;31mAttributeError\u001b[0m: 'int' object has no attribute 'i'"
          ]
        }
      ]
    },
    {
      "cell_type": "markdown",
      "metadata": {
        "id": "FbKt4SXqTWNe"
      },
      "source": [
        "758 Given a string as input, you have to reverse the string by keeping the punctuation and spaces intact. You have to modify the source\n",
        "string itself without creating another string.\n",
        "\n",
        "Input Description:\n",
        "1<=string length<=500\n",
        "\n",
        "Output Description:\n",
        "Print the string in reverse\n",
        "\n",
        "Sample Input :\n",
        "A man, in the boat says : I see 1-2-3 in the sky\n",
        "Sample Output :\n",
        "y kse, ht ni3 21ee sIsy : a sta o-b-e ht nin amA"
      ]
    },
    {
      "cell_type": "code",
      "metadata": {
        "id": "PfLLxLhPBImf",
        "colab": {
          "base_uri": "https://localhost:8080/",
          "height": 51
        },
        "outputId": "b9d3b285-35f4-4e52-a349-7cd730ba9dd2"
      },
      "source": [
        "a=input()\n",
        "l=list(a)\n",
        "r = len(l) - 1\n",
        "i=0\n",
        "while i < r: \n",
        "    if ( l[i].isalpha() or l[i]=='0'or l[i]=='1'or l[i]=='2'or l[i]=='3'or l[i]=='4'or l[i]=='5'or l[i]=='6'or l[i]=='7'or l[i]=='8'or l[i]=='9') and ( l[r].isalpha() or l[r]=='0'or l[r]=='1'or l[r]=='2'or l[r]=='3'or l[r]=='4'or l[r]=='5'or l[r]=='6'or l[r]=='7'or l[r]=='8'or l[r]=='9'):\n",
        "        l[i], l[r] = (l[r],l[i])\n",
        "        i += 1\n",
        "        r -= 1\n",
        "    elif not l[i].isalpha():  \n",
        "        i += 1\n",
        "    elif not l[r].isalpha():\n",
        "        r -= 1\n",
        "for i in l:\n",
        "    print(i,sep='',end='')"
      ],
      "execution_count": null,
      "outputs": [
        {
          "output_type": "stream",
          "text": [
            "A man, in the boat says : I see 1-2-3 in the sky\n",
            "y kse, ht ni3 21ee sIsy : a sta o-b-e ht nin amA"
          ],
          "name": "stdout"
        }
      ]
    },
    {
      "cell_type": "markdown",
      "metadata": {
        "id": "QmyNBOSvyzF4"
      },
      "source": [
        "719 Write a Program to check whether the given number is prime or not"
      ]
    },
    {
      "cell_type": "code",
      "metadata": {
        "id": "6tCef1D3y1Fl",
        "colab": {
          "base_uri": "https://localhost:8080/",
          "height": 51
        },
        "outputId": "098b0dd0-9227-449d-9994-32760b387708"
      },
      "source": [
        "n=int(input())\n",
        "count=0\n",
        "for i in range (1,n+1):\n",
        "  if n%i==0:\n",
        "    count=count+1\n",
        "if count==2:\n",
        "      print(\"PRIME\")\n",
        "else:\n",
        "      print(\"NOT PRIME\")\n"
      ],
      "execution_count": null,
      "outputs": [
        {
          "output_type": "stream",
          "text": [
            "53\n",
            "PRIME\n"
          ],
          "name": "stdout"
        }
      ]
    },
    {
      "cell_type": "markdown",
      "metadata": {
        "id": "55UGKOoh1hUr"
      },
      "source": [
        "750  to count all palindromic numbers present in that range"
      ]
    },
    {
      "cell_type": "code",
      "metadata": {
        "id": "j8S51xio1tYC",
        "colab": {
          "base_uri": "https://localhost:8080/",
          "height": 51
        },
        "outputId": "ce7a897c-6065-465d-d496-eb5b65a1038c"
      },
      "source": [
        "n=int(input())\n",
        "count=0\n",
        "for i in range(1,n+1):\n",
        "  b=str(i)\n",
        "  c=b[::-1]\n",
        "  if(b==c):\n",
        "    count+=1\n",
        "print(count)"
      ],
      "execution_count": null,
      "outputs": [
        {
          "output_type": "stream",
          "text": [
            "5\n",
            "5\n"
          ],
          "name": "stdout"
        }
      ]
    },
    {
      "cell_type": "markdown",
      "metadata": {
        "id": "FTd16MwdDCTm"
      },
      "source": [
        ""
      ]
    },
    {
      "cell_type": "markdown",
      "metadata": {
        "id": "iUP1vjZlDC1y"
      },
      "source": [
        "730 Pandi is a 20 year old Engineering student living in Coimbatore. He is an avid user of Tinder app, a social dating application. At the beginning stage of his dating life i.e. first two months, he swiped right on all the profiles. On the fore coming months he became a bit choosey in swiping right. So the number profiles per each right swipe kept increasing as the sum of the previous two months profiles per right swipe count. Given Nth month, your task is to find out how many profiles Pandi will look into for each right swipe?\n",
        "\n",
        "Input Description:\n",
        "One single Integer 'N' 1<= N <= 30\n",
        "\n",
        "Output Description:\n",
        "One single integer value of number of profiles Pandi looks for each right swipe\n",
        "\n",
        "Sample Input :\n",
        "7\n",
        "Sample Output :\n",
        "13"
      ]
    },
    {
      "cell_type": "code",
      "metadata": {
        "id": "M3XC2aQpDFTT",
        "colab": {
          "base_uri": "https://localhost:8080/",
          "height": 51
        },
        "outputId": "78a72d22-250b-40c1-8fdb-4e733d31408a"
      },
      "source": [
        "nterms = int(input())\n",
        "\n",
        "n1, n2 = 0, 1\n",
        "count = 0\n",
        "\n",
        "\n",
        "if nterms == 1:\n",
        "   \n",
        "   print(n1)\n",
        "else:\n",
        "   while count < nterms:\n",
        "      nth = n1 + n2\n",
        "      n1 = n2\n",
        "      n2 = nth\n",
        "      count += 1\n",
        "   print(n1) "
      ],
      "execution_count": null,
      "outputs": [
        {
          "output_type": "stream",
          "text": [
            "10\n",
            "55\n"
          ],
          "name": "stdout"
        }
      ]
    },
    {
      "cell_type": "markdown",
      "metadata": {
        "id": "t-5gTYGHCUEh"
      },
      "source": [
        "659 Rahul is given a task to manipulate a string, He hired you as a developer your task is to delete all the repeating characters and print the result left.\n",
        "\n",
        "Input Description:\n",
        "You are given a string ‘s’\n",
        "\n",
        "Output Description:\n",
        "Print the remaining string\n",
        "\n",
        "Sample Input :\n",
        "mississipie\n",
        "Sample Output :\n",
        "mpie"
      ]
    },
    {
      "cell_type": "code",
      "metadata": {
        "id": "dXAk8yx2CWAY",
        "colab": {
          "base_uri": "https://localhost:8080/",
          "height": 51
        },
        "outputId": "da9ff1db-af00-474e-9038-26f439a42133"
      },
      "source": [
        "s=list(input().split())\n",
        "for i in len(s):\n",
        "  "
      ],
      "execution_count": null,
      "outputs": [
        {
          "output_type": "stream",
          "text": [
            "mississipie\n",
            "mississipie\n"
          ],
          "name": "stdout"
        }
      ]
    },
    {
      "cell_type": "markdown",
      "metadata": {
        "id": "rCRJtBuRL8fR"
      },
      "source": [
        "Write a program to print the sum of the first K natural numbers.\n",
        "Input Size : n <= 100000\n",
        "Sample Testcase :\n",
        "INPUT\n",
        "3\n",
        "OUTPUT\n",
        "6"
      ]
    },
    {
      "cell_type": "code",
      "metadata": {
        "id": "4WSxuDegL-PL",
        "colab": {
          "base_uri": "https://localhost:8080/",
          "height": 51
        },
        "outputId": "fa243335-4761-4615-81dd-69655810de97"
      },
      "source": [
        "n=int(input())\n",
        "sum=0\n",
        "while n>0:\n",
        "  sum=sum+n\n",
        "  n-=1\n",
        "print(sum)"
      ],
      "execution_count": null,
      "outputs": [
        {
          "output_type": "stream",
          "text": [
            "3\n",
            "6\n"
          ],
          "name": "stdout"
        }
      ]
    },
    {
      "cell_type": "markdown",
      "metadata": {
        "id": "ewHrSB00QG4g"
      },
      "source": [
        "26 Given 2 numbers N and K followed by elements of N .Print 'yes' if K exists else print 'no'.\n",
        "Sample Testcase :\n",
        "INPUT\n",
        "4 2\n",
        "1 2 3 3\n",
        "OUTPUT\n",
        "yes"
      ]
    },
    {
      "cell_type": "code",
      "metadata": {
        "id": "SjQbv2hsQIno",
        "colab": {
          "base_uri": "https://localhost:8080/",
          "height": 68
        },
        "outputId": "2361675c-91d9-4c9e-a3f7-6b2e11c050e7"
      },
      "source": [
        "k=map(int,input().split())\n",
        "l=map(int,input().split())\n",
        "if k in l:\n",
        "  print(\"no\")\n",
        "else:\n",
        "  print(\"yes\")"
      ],
      "execution_count": null,
      "outputs": [
        {
          "output_type": "stream",
          "text": [
            "2 3\n",
            "1 2 3 3\n",
            "yes\n"
          ],
          "name": "stdout"
        }
      ]
    },
    {
      "cell_type": "code",
      "metadata": {
        "id": "D45R8KAxUoW3",
        "colab": {
          "base_uri": "https://localhost:8080/",
          "height": 51
        },
        "outputId": "dbc7c580-4a3c-47b0-df6c-e974e0f08c24"
      },
      "source": [
        "n,k=map(int,input().split())\n",
        "l=map(int,input().split())\n",
        "for i in l:\n",
        "  if k in l:\n",
        "    print(\"yes\")\n",
        "  #else:\n",
        "   # print(\"no\")"
      ],
      "execution_count": null,
      "outputs": [
        {
          "output_type": "stream",
          "text": [
            "4 2\n",
            "1 3 4 5\n"
          ],
          "name": "stdout"
        }
      ]
    },
    {
      "cell_type": "markdown",
      "metadata": {
        "id": "Z4Y69o33j7N3"
      },
      "source": [
        ""
      ]
    },
    {
      "cell_type": "markdown",
      "metadata": {
        "id": "nrbeLQObj_aQ"
      },
      "source": [
        "711 Write a program, to find the area of a circle when the diameter is given . The input diameter is an integer and the output area should\n",
        "be a floating point variable with 2 point precision."
      ]
    },
    {
      "cell_type": "code",
      "metadata": {
        "id": "DhhCdxSVj-IG",
        "colab": {
          "base_uri": "https://localhost:8080/",
          "height": 51
        },
        "outputId": "bec3517a-32b8-42dc-d6d4-dd6df7b5e166"
      },
      "source": [
        "dia=int(input())\n",
        "r = float(dia/2)\n",
        "area = 3.14*r*r\n",
        "print('%.2f'%area)"
      ],
      "execution_count": null,
      "outputs": [
        {
          "output_type": "stream",
          "text": [
            "20\n",
            "314.00\n"
          ],
          "name": "stdout"
        }
      ]
    },
    {
      "cell_type": "markdown",
      "metadata": {
        "id": "NYqLbkFxTOW8"
      },
      "source": [
        "799 Write a  program takes in the number of terms and finds the sum of cosine series."
      ]
    },
    {
      "cell_type": "code",
      "metadata": {
        "id": "k6RPXMf0km7q",
        "colab": {
          "base_uri": "https://localhost:8080/"
        },
        "outputId": "584d2e84-7b91-45a6-bf1e-28a5caf03503"
      },
      "source": [
        "import math\n",
        "def cosine(x,n):\n",
        "    cosx = 1\n",
        "    sign = -1\n",
        "    for i in range(2, n, 2):\n",
        "        pi=22/7\n",
        "        y=x*(pi/180)\n",
        "        cosx = cosx + (sign*(y**i))/math.factorial(i)\n",
        "        sign = -sign\n",
        "    return cosx\n",
        "x,n=int(input()),int(input())\n",
        "print(round(cosine(x,n),2))"
      ],
      "execution_count": 1,
      "outputs": [
        {
          "output_type": "stream",
          "text": [
            "2\n",
            "2\n",
            "1\n"
          ],
          "name": "stdout"
        }
      ]
    },
    {
      "cell_type": "markdown",
      "metadata": {
        "id": "VtLpPpeeTMOY"
      },
      "source": [
        ""
      ]
    },
    {
      "cell_type": "markdown",
      "metadata": {
        "id": "yQU-GjBik54s"
      },
      "source": [
        " Given an string aaaabbBccdee, it can be written as a4b2B1c2d1e2."
      ]
    },
    {
      "cell_type": "code",
      "metadata": {
        "id": "dgWiEy0Ck8lc",
        "colab": {
          "base_uri": "https://localhost:8080/",
          "height": 34
        },
        "outputId": "3fe77c77-2548-4417-aefa-68a6798ca507"
      },
      "source": [
        "st=input()\n",
        "count=0\n",
        "for i in st:\n",
        "  str.count(i)"
      ],
      "execution_count": null,
      "outputs": [
        {
          "output_type": "stream",
          "text": [
            "anmetfdtf\n"
          ],
          "name": "stdout"
        }
      ]
    },
    {
      "cell_type": "markdown",
      "metadata": {
        "id": "YUyaRSnnAN2Q"
      },
      "source": [
        "720 Write a Program to Display Armstrong Number Between Two Intervals. If there is no elements print No elements"
      ]
    },
    {
      "cell_type": "code",
      "metadata": {
        "id": "p6GI-7wpASZp",
        "colab": {
          "base_uri": "https://localhost:8080/",
          "height": 51
        },
        "outputId": "82ccd04d-a357-4dfa-dfa4-25343672e91a"
      },
      "source": [
        "import math\n",
        "def isPerfectSquare(x):\n",
        "   sr = math.sqrt(x)\n",
        "   return ((sr - math.floor(sr)) == 0)\n",
        "x = int(input())\n",
        "if (isPerfectSquare(x)):\n",
        "   print(\"Yes\")\n",
        "else:\n",
        "   print(\"No\") "
      ],
      "execution_count": null,
      "outputs": [
        {
          "output_type": "stream",
          "text": [
            "500\n",
            "No\n"
          ],
          "name": "stdout"
        }
      ]
    },
    {
      "cell_type": "markdown",
      "metadata": {
        "id": "kXSFi2YafUTD"
      },
      "source": [
        "724 Given a string str, write a program to eliminate all the vowels from it"
      ]
    },
    {
      "cell_type": "code",
      "metadata": {
        "id": "_GsP6xZsfS6H",
        "colab": {
          "base_uri": "https://localhost:8080/",
          "height": 51
        },
        "outputId": "2fdd65f9-fb17-4038-efde-815d0fd19df6"
      },
      "source": [
        "l=['a','e','i','o','u','A','E','I','O','u']\n",
        "str=input()\n",
        "for i in  str:\n",
        "  if i not in l:\n",
        "    print(i,end=\"\")\n",
        " "
      ],
      "execution_count": null,
      "outputs": [
        {
          "output_type": "stream",
          "text": [
            "hello\n",
            "hll"
          ],
          "name": "stdout"
        }
      ]
    },
    {
      "cell_type": "markdown",
      "metadata": {
        "id": "uFU4ZcDrZwjt"
      },
      "source": [
        "712"
      ]
    },
    {
      "cell_type": "code",
      "metadata": {
        "id": "zaJhXZtGWBvX",
        "colab": {
          "base_uri": "https://localhost:8080/",
          "height": 51
        },
        "outputId": "3f5849fa-a19d-439f-b812-f6abe97752ee"
      },
      "source": [
        "a,b=map(int,input().strip().split())\n",
        "c=a+b\n",
        "s=bin(c)\n",
        "#for i in range(2,s+1):\n",
        "print(s[2:])"
      ],
      "execution_count": null,
      "outputs": [
        {
          "output_type": "stream",
          "text": [
            "5 5\n",
            "1010\n"
          ],
          "name": "stdout"
        }
      ]
    }
  ]
}